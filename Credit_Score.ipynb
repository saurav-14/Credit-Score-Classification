{
  "cells": [
    {
      "cell_type": "markdown",
      "metadata": {
        "id": "bFCmOXy_g49n"
      },
      "source": [
        "**DataSet** : https://www.kaggle.com/datasets/parisrohan/credit-score-classification"
      ]
    },
    {
      "cell_type": "code",
      "execution_count": 2,
      "metadata": {
        "id": "ji67GUkDhRSV"
      },
      "outputs": [],
      "source": [
        "#Importing modules\n",
        "import pandas as pd\n",
        "import numpy as np\n",
        "import matplotlib.pyplot as plt\n",
        "%matplotlib inline\n",
        "from scipy import stats as st\n",
        "import seaborn as sns"
      ]
    },
    {
      "cell_type": "code",
      "execution_count": 3,
      "metadata": {
        "id": "du7sjlork2um"
      },
      "outputs": [],
      "source": [
        "from imblearn.over_sampling import SMOTE              #Used to handle class imbalance\n",
        "import sklearn\n",
        "from sklearn.model_selection import train_test_split\n",
        "from sklearn.preprocessing import StandardScaler, PowerTransformer\n",
        "from sklearn.preprocessing import OneHotEncoder, LabelEncoder\n",
        "from sklearn.model_selection import StratifiedKFold\n",
        "from sklearn.model_selection import GridSearchCV, StratifiedKFold, RandomizedSearchCV\n",
        "from sklearn.metrics import classification_report, confusion_matrix, f1_score, precision_recall_curve, ConfusionMatrixDisplay, accuracy_score\n",
        "from sklearn.linear_model import LogisticRegression\n",
        "from sklearn.tree import DecisionTreeClassifier\n",
        "from sklearn.ensemble import RandomForestClassifier\n",
        "from xgboost import XGBClassifier"
      ]
    },
    {
      "cell_type": "code",
      "execution_count": 5,
      "metadata": {
        "colab": {
          "base_uri": "https://localhost:8080/",
          "height": 73
        },
        "id": "WhBp3ypxis3x",
        "outputId": "240346f2-40e6-4225-ca06-1154b1e7cdd8"
      },
      "outputs": [
        {
          "data": {
            "text/html": [
              "\n",
              "     <input type=\"file\" id=\"files-3371aca1-0bf7-4779-8946-2fba9c339e5f\" name=\"files[]\" multiple disabled\n",
              "        style=\"border:none\" />\n",
              "     <output id=\"result-3371aca1-0bf7-4779-8946-2fba9c339e5f\">\n",
              "      Upload widget is only available when the cell has been executed in the\n",
              "      current browser session. Please rerun this cell to enable.\n",
              "      </output>\n",
              "      <script>// Copyright 2017 Google LLC\n",
              "//\n",
              "// Licensed under the Apache License, Version 2.0 (the \"License\");\n",
              "// you may not use this file except in compliance with the License.\n",
              "// You may obtain a copy of the License at\n",
              "//\n",
              "//      http://www.apache.org/licenses/LICENSE-2.0\n",
              "//\n",
              "// Unless required by applicable law or agreed to in writing, software\n",
              "// distributed under the License is distributed on an \"AS IS\" BASIS,\n",
              "// WITHOUT WARRANTIES OR CONDITIONS OF ANY KIND, either express or implied.\n",
              "// See the License for the specific language governing permissions and\n",
              "// limitations under the License.\n",
              "\n",
              "/**\n",
              " * @fileoverview Helpers for google.colab Python module.\n",
              " */\n",
              "(function(scope) {\n",
              "function span(text, styleAttributes = {}) {\n",
              "  const element = document.createElement('span');\n",
              "  element.textContent = text;\n",
              "  for (const key of Object.keys(styleAttributes)) {\n",
              "    element.style[key] = styleAttributes[key];\n",
              "  }\n",
              "  return element;\n",
              "}\n",
              "\n",
              "// Max number of bytes which will be uploaded at a time.\n",
              "const MAX_PAYLOAD_SIZE = 100 * 1024;\n",
              "\n",
              "function _uploadFiles(inputId, outputId) {\n",
              "  const steps = uploadFilesStep(inputId, outputId);\n",
              "  const outputElement = document.getElementById(outputId);\n",
              "  // Cache steps on the outputElement to make it available for the next call\n",
              "  // to uploadFilesContinue from Python.\n",
              "  outputElement.steps = steps;\n",
              "\n",
              "  return _uploadFilesContinue(outputId);\n",
              "}\n",
              "\n",
              "// This is roughly an async generator (not supported in the browser yet),\n",
              "// where there are multiple asynchronous steps and the Python side is going\n",
              "// to poll for completion of each step.\n",
              "// This uses a Promise to block the python side on completion of each step,\n",
              "// then passes the result of the previous step as the input to the next step.\n",
              "function _uploadFilesContinue(outputId) {\n",
              "  const outputElement = document.getElementById(outputId);\n",
              "  const steps = outputElement.steps;\n",
              "\n",
              "  const next = steps.next(outputElement.lastPromiseValue);\n",
              "  return Promise.resolve(next.value.promise).then((value) => {\n",
              "    // Cache the last promise value to make it available to the next\n",
              "    // step of the generator.\n",
              "    outputElement.lastPromiseValue = value;\n",
              "    return next.value.response;\n",
              "  });\n",
              "}\n",
              "\n",
              "/**\n",
              " * Generator function which is called between each async step of the upload\n",
              " * process.\n",
              " * @param {string} inputId Element ID of the input file picker element.\n",
              " * @param {string} outputId Element ID of the output display.\n",
              " * @return {!Iterable<!Object>} Iterable of next steps.\n",
              " */\n",
              "function* uploadFilesStep(inputId, outputId) {\n",
              "  const inputElement = document.getElementById(inputId);\n",
              "  inputElement.disabled = false;\n",
              "\n",
              "  const outputElement = document.getElementById(outputId);\n",
              "  outputElement.innerHTML = '';\n",
              "\n",
              "  const pickedPromise = new Promise((resolve) => {\n",
              "    inputElement.addEventListener('change', (e) => {\n",
              "      resolve(e.target.files);\n",
              "    });\n",
              "  });\n",
              "\n",
              "  const cancel = document.createElement('button');\n",
              "  inputElement.parentElement.appendChild(cancel);\n",
              "  cancel.textContent = 'Cancel upload';\n",
              "  const cancelPromise = new Promise((resolve) => {\n",
              "    cancel.onclick = () => {\n",
              "      resolve(null);\n",
              "    };\n",
              "  });\n",
              "\n",
              "  // Wait for the user to pick the files.\n",
              "  const files = yield {\n",
              "    promise: Promise.race([pickedPromise, cancelPromise]),\n",
              "    response: {\n",
              "      action: 'starting',\n",
              "    }\n",
              "  };\n",
              "\n",
              "  cancel.remove();\n",
              "\n",
              "  // Disable the input element since further picks are not allowed.\n",
              "  inputElement.disabled = true;\n",
              "\n",
              "  if (!files) {\n",
              "    return {\n",
              "      response: {\n",
              "        action: 'complete',\n",
              "      }\n",
              "    };\n",
              "  }\n",
              "\n",
              "  for (const file of files) {\n",
              "    const li = document.createElement('li');\n",
              "    li.append(span(file.name, {fontWeight: 'bold'}));\n",
              "    li.append(span(\n",
              "        `(${file.type || 'n/a'}) - ${file.size} bytes, ` +\n",
              "        `last modified: ${\n",
              "            file.lastModifiedDate ? file.lastModifiedDate.toLocaleDateString() :\n",
              "                                    'n/a'} - `));\n",
              "    const percent = span('0% done');\n",
              "    li.appendChild(percent);\n",
              "\n",
              "    outputElement.appendChild(li);\n",
              "\n",
              "    const fileDataPromise = new Promise((resolve) => {\n",
              "      const reader = new FileReader();\n",
              "      reader.onload = (e) => {\n",
              "        resolve(e.target.result);\n",
              "      };\n",
              "      reader.readAsArrayBuffer(file);\n",
              "    });\n",
              "    // Wait for the data to be ready.\n",
              "    let fileData = yield {\n",
              "      promise: fileDataPromise,\n",
              "      response: {\n",
              "        action: 'continue',\n",
              "      }\n",
              "    };\n",
              "\n",
              "    // Use a chunked sending to avoid message size limits. See b/62115660.\n",
              "    let position = 0;\n",
              "    do {\n",
              "      const length = Math.min(fileData.byteLength - position, MAX_PAYLOAD_SIZE);\n",
              "      const chunk = new Uint8Array(fileData, position, length);\n",
              "      position += length;\n",
              "\n",
              "      const base64 = btoa(String.fromCharCode.apply(null, chunk));\n",
              "      yield {\n",
              "        response: {\n",
              "          action: 'append',\n",
              "          file: file.name,\n",
              "          data: base64,\n",
              "        },\n",
              "      };\n",
              "\n",
              "      let percentDone = fileData.byteLength === 0 ?\n",
              "          100 :\n",
              "          Math.round((position / fileData.byteLength) * 100);\n",
              "      percent.textContent = `${percentDone}% done`;\n",
              "\n",
              "    } while (position < fileData.byteLength);\n",
              "  }\n",
              "\n",
              "  // All done.\n",
              "  yield {\n",
              "    response: {\n",
              "      action: 'complete',\n",
              "    }\n",
              "  };\n",
              "}\n",
              "\n",
              "scope.google = scope.google || {};\n",
              "scope.google.colab = scope.google.colab || {};\n",
              "scope.google.colab._files = {\n",
              "  _uploadFiles,\n",
              "  _uploadFilesContinue,\n",
              "};\n",
              "})(self);\n",
              "</script> "
            ],
            "text/plain": [
              "<IPython.core.display.HTML object>"
            ]
          },
          "metadata": {},
          "output_type": "display_data"
        },
        {
          "name": "stdout",
          "output_type": "stream",
          "text": [
            "Saving train.csv to train.csv\n"
          ]
        }
      ],
      "source": [
        "#Uploading a file\n",
        "from google.colab import files\n",
        "uploaded = files.upload()"
      ]
    },
    {
      "cell_type": "code",
      "execution_count": 6,
      "metadata": {
        "id": "2vG9kzMTjcom"
      },
      "outputs": [],
      "source": [
        "# from google.colab import files   To download a file\n",
        "# files.download('sample.csv')"
      ]
    },
    {
      "cell_type": "code",
      "execution_count": 7,
      "metadata": {
        "colab": {
          "base_uri": "https://localhost:8080/"
        },
        "id": "AUBg0z90lw_l",
        "outputId": "3ef654ea-28d9-4c0d-a7e7-bf4148c1f8f2"
      },
      "outputs": [
        {
          "name": "stderr",
          "output_type": "stream",
          "text": [
            "<ipython-input-7-120bfc8e56df>:1: DtypeWarning: Columns (26) have mixed types. Specify dtype option on import or set low_memory=False.\n",
            "  df=pd.read_csv('train.csv')\n"
          ]
        }
      ],
      "source": [
        "df=pd.read_csv('train.csv')"
      ]
    },
    {
      "cell_type": "markdown",
      "metadata": {
        "id": "bySnn9qvmh_q"
      },
      "source": [
        "# UNDERSTANDING THE DATA"
      ]
    },
    {
      "cell_type": "code",
      "execution_count": 8,
      "metadata": {
        "colab": {
          "base_uri": "https://localhost:8080/",
          "height": 473
        },
        "id": "3nHF2qrxl1f6",
        "outputId": "7fcb8bb9-94eb-4ea5-8df2-13b1297f324a"
      },
      "outputs": [
        {
          "data": {
            "text/html": [
              "\n",
              "  <div id=\"df-30a74d55-6215-47cf-877c-125db72cd7d7\">\n",
              "    <div class=\"colab-df-container\">\n",
              "      <div>\n",
              "<style scoped>\n",
              "    .dataframe tbody tr th:only-of-type {\n",
              "        vertical-align: middle;\n",
              "    }\n",
              "\n",
              "    .dataframe tbody tr th {\n",
              "        vertical-align: top;\n",
              "    }\n",
              "\n",
              "    .dataframe thead th {\n",
              "        text-align: right;\n",
              "    }\n",
              "</style>\n",
              "<table border=\"1\" class=\"dataframe\">\n",
              "  <thead>\n",
              "    <tr style=\"text-align: right;\">\n",
              "      <th></th>\n",
              "      <th>ID</th>\n",
              "      <th>Customer_ID</th>\n",
              "      <th>Month</th>\n",
              "      <th>Name</th>\n",
              "      <th>Age</th>\n",
              "      <th>SSN</th>\n",
              "      <th>Occupation</th>\n",
              "      <th>Annual_Income</th>\n",
              "      <th>Monthly_Inhand_Salary</th>\n",
              "      <th>Num_Bank_Accounts</th>\n",
              "      <th>...</th>\n",
              "      <th>Credit_Mix</th>\n",
              "      <th>Outstanding_Debt</th>\n",
              "      <th>Credit_Utilization_Ratio</th>\n",
              "      <th>Credit_History_Age</th>\n",
              "      <th>Payment_of_Min_Amount</th>\n",
              "      <th>Total_EMI_per_month</th>\n",
              "      <th>Amount_invested_monthly</th>\n",
              "      <th>Payment_Behaviour</th>\n",
              "      <th>Monthly_Balance</th>\n",
              "      <th>Credit_Score</th>\n",
              "    </tr>\n",
              "  </thead>\n",
              "  <tbody>\n",
              "    <tr>\n",
              "      <th>0</th>\n",
              "      <td>0x1602</td>\n",
              "      <td>CUS_0xd40</td>\n",
              "      <td>January</td>\n",
              "      <td>Aaron Maashoh</td>\n",
              "      <td>23</td>\n",
              "      <td>821-00-0265</td>\n",
              "      <td>Scientist</td>\n",
              "      <td>19114.12</td>\n",
              "      <td>1824.843333</td>\n",
              "      <td>3</td>\n",
              "      <td>...</td>\n",
              "      <td>_</td>\n",
              "      <td>809.98</td>\n",
              "      <td>26.822620</td>\n",
              "      <td>22 Years and 1 Months</td>\n",
              "      <td>No</td>\n",
              "      <td>49.574949</td>\n",
              "      <td>80.41529543900253</td>\n",
              "      <td>High_spent_Small_value_payments</td>\n",
              "      <td>312.49408867943663</td>\n",
              "      <td>Good</td>\n",
              "    </tr>\n",
              "    <tr>\n",
              "      <th>1</th>\n",
              "      <td>0x1603</td>\n",
              "      <td>CUS_0xd40</td>\n",
              "      <td>February</td>\n",
              "      <td>Aaron Maashoh</td>\n",
              "      <td>23</td>\n",
              "      <td>821-00-0265</td>\n",
              "      <td>Scientist</td>\n",
              "      <td>19114.12</td>\n",
              "      <td>NaN</td>\n",
              "      <td>3</td>\n",
              "      <td>...</td>\n",
              "      <td>Good</td>\n",
              "      <td>809.98</td>\n",
              "      <td>31.944960</td>\n",
              "      <td>NaN</td>\n",
              "      <td>No</td>\n",
              "      <td>49.574949</td>\n",
              "      <td>118.28022162236736</td>\n",
              "      <td>Low_spent_Large_value_payments</td>\n",
              "      <td>284.62916249607184</td>\n",
              "      <td>Good</td>\n",
              "    </tr>\n",
              "    <tr>\n",
              "      <th>2</th>\n",
              "      <td>0x1604</td>\n",
              "      <td>CUS_0xd40</td>\n",
              "      <td>March</td>\n",
              "      <td>Aaron Maashoh</td>\n",
              "      <td>-500</td>\n",
              "      <td>821-00-0265</td>\n",
              "      <td>Scientist</td>\n",
              "      <td>19114.12</td>\n",
              "      <td>NaN</td>\n",
              "      <td>3</td>\n",
              "      <td>...</td>\n",
              "      <td>Good</td>\n",
              "      <td>809.98</td>\n",
              "      <td>28.609352</td>\n",
              "      <td>22 Years and 3 Months</td>\n",
              "      <td>No</td>\n",
              "      <td>49.574949</td>\n",
              "      <td>81.699521264648</td>\n",
              "      <td>Low_spent_Medium_value_payments</td>\n",
              "      <td>331.2098628537912</td>\n",
              "      <td>Good</td>\n",
              "    </tr>\n",
              "    <tr>\n",
              "      <th>3</th>\n",
              "      <td>0x1605</td>\n",
              "      <td>CUS_0xd40</td>\n",
              "      <td>April</td>\n",
              "      <td>Aaron Maashoh</td>\n",
              "      <td>23</td>\n",
              "      <td>821-00-0265</td>\n",
              "      <td>Scientist</td>\n",
              "      <td>19114.12</td>\n",
              "      <td>NaN</td>\n",
              "      <td>3</td>\n",
              "      <td>...</td>\n",
              "      <td>Good</td>\n",
              "      <td>809.98</td>\n",
              "      <td>31.377862</td>\n",
              "      <td>22 Years and 4 Months</td>\n",
              "      <td>No</td>\n",
              "      <td>49.574949</td>\n",
              "      <td>199.4580743910713</td>\n",
              "      <td>Low_spent_Small_value_payments</td>\n",
              "      <td>223.45130972736786</td>\n",
              "      <td>Good</td>\n",
              "    </tr>\n",
              "    <tr>\n",
              "      <th>4</th>\n",
              "      <td>0x1606</td>\n",
              "      <td>CUS_0xd40</td>\n",
              "      <td>May</td>\n",
              "      <td>Aaron Maashoh</td>\n",
              "      <td>23</td>\n",
              "      <td>821-00-0265</td>\n",
              "      <td>Scientist</td>\n",
              "      <td>19114.12</td>\n",
              "      <td>1824.843333</td>\n",
              "      <td>3</td>\n",
              "      <td>...</td>\n",
              "      <td>Good</td>\n",
              "      <td>809.98</td>\n",
              "      <td>24.797347</td>\n",
              "      <td>22 Years and 5 Months</td>\n",
              "      <td>No</td>\n",
              "      <td>49.574949</td>\n",
              "      <td>41.420153086217326</td>\n",
              "      <td>High_spent_Medium_value_payments</td>\n",
              "      <td>341.48923103222177</td>\n",
              "      <td>Good</td>\n",
              "    </tr>\n",
              "  </tbody>\n",
              "</table>\n",
              "<p>5 rows × 28 columns</p>\n",
              "</div>\n",
              "      <button class=\"colab-df-convert\" onclick=\"convertToInteractive('df-30a74d55-6215-47cf-877c-125db72cd7d7')\"\n",
              "              title=\"Convert this dataframe to an interactive table.\"\n",
              "              style=\"display:none;\">\n",
              "        \n",
              "  <svg xmlns=\"http://www.w3.org/2000/svg\" height=\"24px\"viewBox=\"0 0 24 24\"\n",
              "       width=\"24px\">\n",
              "    <path d=\"M0 0h24v24H0V0z\" fill=\"none\"/>\n",
              "    <path d=\"M18.56 5.44l.94 2.06.94-2.06 2.06-.94-2.06-.94-.94-2.06-.94 2.06-2.06.94zm-11 1L8.5 8.5l.94-2.06 2.06-.94-2.06-.94L8.5 2.5l-.94 2.06-2.06.94zm10 10l.94 2.06.94-2.06 2.06-.94-2.06-.94-.94-2.06-.94 2.06-2.06.94z\"/><path d=\"M17.41 7.96l-1.37-1.37c-.4-.4-.92-.59-1.43-.59-.52 0-1.04.2-1.43.59L10.3 9.45l-7.72 7.72c-.78.78-.78 2.05 0 2.83L4 21.41c.39.39.9.59 1.41.59.51 0 1.02-.2 1.41-.59l7.78-7.78 2.81-2.81c.8-.78.8-2.07 0-2.86zM5.41 20L4 18.59l7.72-7.72 1.47 1.35L5.41 20z\"/>\n",
              "  </svg>\n",
              "      </button>\n",
              "      \n",
              "  <style>\n",
              "    .colab-df-container {\n",
              "      display:flex;\n",
              "      flex-wrap:wrap;\n",
              "      gap: 12px;\n",
              "    }\n",
              "\n",
              "    .colab-df-convert {\n",
              "      background-color: #E8F0FE;\n",
              "      border: none;\n",
              "      border-radius: 50%;\n",
              "      cursor: pointer;\n",
              "      display: none;\n",
              "      fill: #1967D2;\n",
              "      height: 32px;\n",
              "      padding: 0 0 0 0;\n",
              "      width: 32px;\n",
              "    }\n",
              "\n",
              "    .colab-df-convert:hover {\n",
              "      background-color: #E2EBFA;\n",
              "      box-shadow: 0px 1px 2px rgba(60, 64, 67, 0.3), 0px 1px 3px 1px rgba(60, 64, 67, 0.15);\n",
              "      fill: #174EA6;\n",
              "    }\n",
              "\n",
              "    [theme=dark] .colab-df-convert {\n",
              "      background-color: #3B4455;\n",
              "      fill: #D2E3FC;\n",
              "    }\n",
              "\n",
              "    [theme=dark] .colab-df-convert:hover {\n",
              "      background-color: #434B5C;\n",
              "      box-shadow: 0px 1px 3px 1px rgba(0, 0, 0, 0.15);\n",
              "      filter: drop-shadow(0px 1px 2px rgba(0, 0, 0, 0.3));\n",
              "      fill: #FFFFFF;\n",
              "    }\n",
              "  </style>\n",
              "\n",
              "      <script>\n",
              "        const buttonEl =\n",
              "          document.querySelector('#df-30a74d55-6215-47cf-877c-125db72cd7d7 button.colab-df-convert');\n",
              "        buttonEl.style.display =\n",
              "          google.colab.kernel.accessAllowed ? 'block' : 'none';\n",
              "\n",
              "        async function convertToInteractive(key) {\n",
              "          const element = document.querySelector('#df-30a74d55-6215-47cf-877c-125db72cd7d7');\n",
              "          const dataTable =\n",
              "            await google.colab.kernel.invokeFunction('convertToInteractive',\n",
              "                                                     [key], {});\n",
              "          if (!dataTable) return;\n",
              "\n",
              "          const docLinkHtml = 'Like what you see? Visit the ' +\n",
              "            '<a target=\"_blank\" href=https://colab.research.google.com/notebooks/data_table.ipynb>data table notebook</a>'\n",
              "            + ' to learn more about interactive tables.';\n",
              "          element.innerHTML = '';\n",
              "          dataTable['output_type'] = 'display_data';\n",
              "          await google.colab.output.renderOutput(dataTable, element);\n",
              "          const docLink = document.createElement('div');\n",
              "          docLink.innerHTML = docLinkHtml;\n",
              "          element.appendChild(docLink);\n",
              "        }\n",
              "      </script>\n",
              "    </div>\n",
              "  </div>\n",
              "  "
            ],
            "text/plain": [
              "       ID Customer_ID     Month           Name   Age          SSN Occupation  \\\n",
              "0  0x1602   CUS_0xd40   January  Aaron Maashoh    23  821-00-0265  Scientist   \n",
              "1  0x1603   CUS_0xd40  February  Aaron Maashoh    23  821-00-0265  Scientist   \n",
              "2  0x1604   CUS_0xd40     March  Aaron Maashoh  -500  821-00-0265  Scientist   \n",
              "3  0x1605   CUS_0xd40     April  Aaron Maashoh    23  821-00-0265  Scientist   \n",
              "4  0x1606   CUS_0xd40       May  Aaron Maashoh    23  821-00-0265  Scientist   \n",
              "\n",
              "  Annual_Income  Monthly_Inhand_Salary  Num_Bank_Accounts  ...  Credit_Mix  \\\n",
              "0      19114.12            1824.843333                  3  ...           _   \n",
              "1      19114.12                    NaN                  3  ...        Good   \n",
              "2      19114.12                    NaN                  3  ...        Good   \n",
              "3      19114.12                    NaN                  3  ...        Good   \n",
              "4      19114.12            1824.843333                  3  ...        Good   \n",
              "\n",
              "   Outstanding_Debt Credit_Utilization_Ratio     Credit_History_Age  \\\n",
              "0            809.98                26.822620  22 Years and 1 Months   \n",
              "1            809.98                31.944960                    NaN   \n",
              "2            809.98                28.609352  22 Years and 3 Months   \n",
              "3            809.98                31.377862  22 Years and 4 Months   \n",
              "4            809.98                24.797347  22 Years and 5 Months   \n",
              "\n",
              "   Payment_of_Min_Amount Total_EMI_per_month Amount_invested_monthly  \\\n",
              "0                     No           49.574949       80.41529543900253   \n",
              "1                     No           49.574949      118.28022162236736   \n",
              "2                     No           49.574949         81.699521264648   \n",
              "3                     No           49.574949       199.4580743910713   \n",
              "4                     No           49.574949      41.420153086217326   \n",
              "\n",
              "                  Payment_Behaviour     Monthly_Balance Credit_Score  \n",
              "0   High_spent_Small_value_payments  312.49408867943663         Good  \n",
              "1    Low_spent_Large_value_payments  284.62916249607184         Good  \n",
              "2   Low_spent_Medium_value_payments   331.2098628537912         Good  \n",
              "3    Low_spent_Small_value_payments  223.45130972736786         Good  \n",
              "4  High_spent_Medium_value_payments  341.48923103222177         Good  \n",
              "\n",
              "[5 rows x 28 columns]"
            ]
          },
          "execution_count": 8,
          "metadata": {},
          "output_type": "execute_result"
        }
      ],
      "source": [
        "df.head(5)"
      ]
    },
    {
      "cell_type": "code",
      "execution_count": 9,
      "metadata": {
        "colab": {
          "base_uri": "https://localhost:8080/"
        },
        "id": "pbVoZc32mFEp",
        "outputId": "91f77d43-0d28-4420-f7b2-2909df86549f"
      },
      "outputs": [
        {
          "name": "stdout",
          "output_type": "stream",
          "text": [
            "<class 'pandas.core.frame.DataFrame'>\n",
            "RangeIndex: 100000 entries, 0 to 99999\n",
            "Data columns (total 28 columns):\n",
            " #   Column                    Non-Null Count   Dtype  \n",
            "---  ------                    --------------   -----  \n",
            " 0   ID                        100000 non-null  object \n",
            " 1   Customer_ID               100000 non-null  object \n",
            " 2   Month                     100000 non-null  object \n",
            " 3   Name                      90015 non-null   object \n",
            " 4   Age                       100000 non-null  object \n",
            " 5   SSN                       100000 non-null  object \n",
            " 6   Occupation                100000 non-null  object \n",
            " 7   Annual_Income             100000 non-null  object \n",
            " 8   Monthly_Inhand_Salary     84998 non-null   float64\n",
            " 9   Num_Bank_Accounts         100000 non-null  int64  \n",
            " 10  Num_Credit_Card           100000 non-null  int64  \n",
            " 11  Interest_Rate             100000 non-null  int64  \n",
            " 12  Num_of_Loan               100000 non-null  object \n",
            " 13  Type_of_Loan              88592 non-null   object \n",
            " 14  Delay_from_due_date       100000 non-null  int64  \n",
            " 15  Num_of_Delayed_Payment    92998 non-null   object \n",
            " 16  Changed_Credit_Limit      100000 non-null  object \n",
            " 17  Num_Credit_Inquiries      98035 non-null   float64\n",
            " 18  Credit_Mix                100000 non-null  object \n",
            " 19  Outstanding_Debt          100000 non-null  object \n",
            " 20  Credit_Utilization_Ratio  100000 non-null  float64\n",
            " 21  Credit_History_Age        90970 non-null   object \n",
            " 22  Payment_of_Min_Amount     100000 non-null  object \n",
            " 23  Total_EMI_per_month       100000 non-null  float64\n",
            " 24  Amount_invested_monthly   95521 non-null   object \n",
            " 25  Payment_Behaviour         100000 non-null  object \n",
            " 26  Monthly_Balance           98800 non-null   object \n",
            " 27  Credit_Score              100000 non-null  object \n",
            "dtypes: float64(4), int64(4), object(20)\n",
            "memory usage: 21.4+ MB\n"
          ]
        }
      ],
      "source": [
        "df.info()"
      ]
    },
    {
      "cell_type": "code",
      "execution_count": 10,
      "metadata": {
        "colab": {
          "base_uri": "https://localhost:8080/",
          "height": 300
        },
        "id": "a8kdajJymUin",
        "outputId": "8b011dd7-25ee-4d89-a88a-971d145db097"
      },
      "outputs": [
        {
          "data": {
            "text/html": [
              "\n",
              "  <div id=\"df-300f2f2e-16da-4789-a734-f1154ebf6f36\">\n",
              "    <div class=\"colab-df-container\">\n",
              "      <div>\n",
              "<style scoped>\n",
              "    .dataframe tbody tr th:only-of-type {\n",
              "        vertical-align: middle;\n",
              "    }\n",
              "\n",
              "    .dataframe tbody tr th {\n",
              "        vertical-align: top;\n",
              "    }\n",
              "\n",
              "    .dataframe thead th {\n",
              "        text-align: right;\n",
              "    }\n",
              "</style>\n",
              "<table border=\"1\" class=\"dataframe\">\n",
              "  <thead>\n",
              "    <tr style=\"text-align: right;\">\n",
              "      <th></th>\n",
              "      <th>Monthly_Inhand_Salary</th>\n",
              "      <th>Num_Bank_Accounts</th>\n",
              "      <th>Num_Credit_Card</th>\n",
              "      <th>Interest_Rate</th>\n",
              "      <th>Delay_from_due_date</th>\n",
              "      <th>Num_Credit_Inquiries</th>\n",
              "      <th>Credit_Utilization_Ratio</th>\n",
              "      <th>Total_EMI_per_month</th>\n",
              "    </tr>\n",
              "  </thead>\n",
              "  <tbody>\n",
              "    <tr>\n",
              "      <th>count</th>\n",
              "      <td>84998.000000</td>\n",
              "      <td>100000.000000</td>\n",
              "      <td>100000.00000</td>\n",
              "      <td>100000.000000</td>\n",
              "      <td>100000.000000</td>\n",
              "      <td>98035.000000</td>\n",
              "      <td>100000.000000</td>\n",
              "      <td>100000.000000</td>\n",
              "    </tr>\n",
              "    <tr>\n",
              "      <th>mean</th>\n",
              "      <td>4194.170850</td>\n",
              "      <td>17.091280</td>\n",
              "      <td>22.47443</td>\n",
              "      <td>72.466040</td>\n",
              "      <td>21.068780</td>\n",
              "      <td>27.754251</td>\n",
              "      <td>32.285173</td>\n",
              "      <td>1403.118217</td>\n",
              "    </tr>\n",
              "    <tr>\n",
              "      <th>std</th>\n",
              "      <td>3183.686167</td>\n",
              "      <td>117.404834</td>\n",
              "      <td>129.05741</td>\n",
              "      <td>466.422621</td>\n",
              "      <td>14.860104</td>\n",
              "      <td>193.177339</td>\n",
              "      <td>5.116875</td>\n",
              "      <td>8306.041270</td>\n",
              "    </tr>\n",
              "    <tr>\n",
              "      <th>min</th>\n",
              "      <td>303.645417</td>\n",
              "      <td>-1.000000</td>\n",
              "      <td>0.00000</td>\n",
              "      <td>1.000000</td>\n",
              "      <td>-5.000000</td>\n",
              "      <td>0.000000</td>\n",
              "      <td>20.000000</td>\n",
              "      <td>0.000000</td>\n",
              "    </tr>\n",
              "    <tr>\n",
              "      <th>25%</th>\n",
              "      <td>1625.568229</td>\n",
              "      <td>3.000000</td>\n",
              "      <td>4.00000</td>\n",
              "      <td>8.000000</td>\n",
              "      <td>10.000000</td>\n",
              "      <td>3.000000</td>\n",
              "      <td>28.052567</td>\n",
              "      <td>30.306660</td>\n",
              "    </tr>\n",
              "    <tr>\n",
              "      <th>50%</th>\n",
              "      <td>3093.745000</td>\n",
              "      <td>6.000000</td>\n",
              "      <td>5.00000</td>\n",
              "      <td>13.000000</td>\n",
              "      <td>18.000000</td>\n",
              "      <td>6.000000</td>\n",
              "      <td>32.305784</td>\n",
              "      <td>69.249473</td>\n",
              "    </tr>\n",
              "    <tr>\n",
              "      <th>75%</th>\n",
              "      <td>5957.448333</td>\n",
              "      <td>7.000000</td>\n",
              "      <td>7.00000</td>\n",
              "      <td>20.000000</td>\n",
              "      <td>28.000000</td>\n",
              "      <td>9.000000</td>\n",
              "      <td>36.496663</td>\n",
              "      <td>161.224249</td>\n",
              "    </tr>\n",
              "    <tr>\n",
              "      <th>max</th>\n",
              "      <td>15204.633333</td>\n",
              "      <td>1798.000000</td>\n",
              "      <td>1499.00000</td>\n",
              "      <td>5797.000000</td>\n",
              "      <td>67.000000</td>\n",
              "      <td>2597.000000</td>\n",
              "      <td>50.000000</td>\n",
              "      <td>82331.000000</td>\n",
              "    </tr>\n",
              "  </tbody>\n",
              "</table>\n",
              "</div>\n",
              "      <button class=\"colab-df-convert\" onclick=\"convertToInteractive('df-300f2f2e-16da-4789-a734-f1154ebf6f36')\"\n",
              "              title=\"Convert this dataframe to an interactive table.\"\n",
              "              style=\"display:none;\">\n",
              "        \n",
              "  <svg xmlns=\"http://www.w3.org/2000/svg\" height=\"24px\"viewBox=\"0 0 24 24\"\n",
              "       width=\"24px\">\n",
              "    <path d=\"M0 0h24v24H0V0z\" fill=\"none\"/>\n",
              "    <path d=\"M18.56 5.44l.94 2.06.94-2.06 2.06-.94-2.06-.94-.94-2.06-.94 2.06-2.06.94zm-11 1L8.5 8.5l.94-2.06 2.06-.94-2.06-.94L8.5 2.5l-.94 2.06-2.06.94zm10 10l.94 2.06.94-2.06 2.06-.94-2.06-.94-.94-2.06-.94 2.06-2.06.94z\"/><path d=\"M17.41 7.96l-1.37-1.37c-.4-.4-.92-.59-1.43-.59-.52 0-1.04.2-1.43.59L10.3 9.45l-7.72 7.72c-.78.78-.78 2.05 0 2.83L4 21.41c.39.39.9.59 1.41.59.51 0 1.02-.2 1.41-.59l7.78-7.78 2.81-2.81c.8-.78.8-2.07 0-2.86zM5.41 20L4 18.59l7.72-7.72 1.47 1.35L5.41 20z\"/>\n",
              "  </svg>\n",
              "      </button>\n",
              "      \n",
              "  <style>\n",
              "    .colab-df-container {\n",
              "      display:flex;\n",
              "      flex-wrap:wrap;\n",
              "      gap: 12px;\n",
              "    }\n",
              "\n",
              "    .colab-df-convert {\n",
              "      background-color: #E8F0FE;\n",
              "      border: none;\n",
              "      border-radius: 50%;\n",
              "      cursor: pointer;\n",
              "      display: none;\n",
              "      fill: #1967D2;\n",
              "      height: 32px;\n",
              "      padding: 0 0 0 0;\n",
              "      width: 32px;\n",
              "    }\n",
              "\n",
              "    .colab-df-convert:hover {\n",
              "      background-color: #E2EBFA;\n",
              "      box-shadow: 0px 1px 2px rgba(60, 64, 67, 0.3), 0px 1px 3px 1px rgba(60, 64, 67, 0.15);\n",
              "      fill: #174EA6;\n",
              "    }\n",
              "\n",
              "    [theme=dark] .colab-df-convert {\n",
              "      background-color: #3B4455;\n",
              "      fill: #D2E3FC;\n",
              "    }\n",
              "\n",
              "    [theme=dark] .colab-df-convert:hover {\n",
              "      background-color: #434B5C;\n",
              "      box-shadow: 0px 1px 3px 1px rgba(0, 0, 0, 0.15);\n",
              "      filter: drop-shadow(0px 1px 2px rgba(0, 0, 0, 0.3));\n",
              "      fill: #FFFFFF;\n",
              "    }\n",
              "  </style>\n",
              "\n",
              "      <script>\n",
              "        const buttonEl =\n",
              "          document.querySelector('#df-300f2f2e-16da-4789-a734-f1154ebf6f36 button.colab-df-convert');\n",
              "        buttonEl.style.display =\n",
              "          google.colab.kernel.accessAllowed ? 'block' : 'none';\n",
              "\n",
              "        async function convertToInteractive(key) {\n",
              "          const element = document.querySelector('#df-300f2f2e-16da-4789-a734-f1154ebf6f36');\n",
              "          const dataTable =\n",
              "            await google.colab.kernel.invokeFunction('convertToInteractive',\n",
              "                                                     [key], {});\n",
              "          if (!dataTable) return;\n",
              "\n",
              "          const docLinkHtml = 'Like what you see? Visit the ' +\n",
              "            '<a target=\"_blank\" href=https://colab.research.google.com/notebooks/data_table.ipynb>data table notebook</a>'\n",
              "            + ' to learn more about interactive tables.';\n",
              "          element.innerHTML = '';\n",
              "          dataTable['output_type'] = 'display_data';\n",
              "          await google.colab.output.renderOutput(dataTable, element);\n",
              "          const docLink = document.createElement('div');\n",
              "          docLink.innerHTML = docLinkHtml;\n",
              "          element.appendChild(docLink);\n",
              "        }\n",
              "      </script>\n",
              "    </div>\n",
              "  </div>\n",
              "  "
            ],
            "text/plain": [
              "       Monthly_Inhand_Salary  Num_Bank_Accounts  Num_Credit_Card  \\\n",
              "count           84998.000000      100000.000000     100000.00000   \n",
              "mean             4194.170850          17.091280         22.47443   \n",
              "std              3183.686167         117.404834        129.05741   \n",
              "min               303.645417          -1.000000          0.00000   \n",
              "25%              1625.568229           3.000000          4.00000   \n",
              "50%              3093.745000           6.000000          5.00000   \n",
              "75%              5957.448333           7.000000          7.00000   \n",
              "max             15204.633333        1798.000000       1499.00000   \n",
              "\n",
              "       Interest_Rate  Delay_from_due_date  Num_Credit_Inquiries  \\\n",
              "count  100000.000000        100000.000000          98035.000000   \n",
              "mean       72.466040            21.068780             27.754251   \n",
              "std       466.422621            14.860104            193.177339   \n",
              "min         1.000000            -5.000000              0.000000   \n",
              "25%         8.000000            10.000000              3.000000   \n",
              "50%        13.000000            18.000000              6.000000   \n",
              "75%        20.000000            28.000000              9.000000   \n",
              "max      5797.000000            67.000000           2597.000000   \n",
              "\n",
              "       Credit_Utilization_Ratio  Total_EMI_per_month  \n",
              "count             100000.000000        100000.000000  \n",
              "mean                  32.285173          1403.118217  \n",
              "std                    5.116875          8306.041270  \n",
              "min                   20.000000             0.000000  \n",
              "25%                   28.052567            30.306660  \n",
              "50%                   32.305784            69.249473  \n",
              "75%                   36.496663           161.224249  \n",
              "max                   50.000000         82331.000000  "
            ]
          },
          "execution_count": 10,
          "metadata": {},
          "output_type": "execute_result"
        }
      ],
      "source": [
        "df.describe()"
      ]
    },
    {
      "cell_type": "markdown",
      "metadata": {
        "id": "vcM1Eda1KTiY"
      },
      "source": [
        "Changing category -> as it is categorical data"
      ]
    },
    {
      "cell_type": "code",
      "execution_count": 11,
      "metadata": {
        "id": "N4Xayy6Dm5W5"
      },
      "outputs": [],
      "source": [
        "\n",
        "cat_cols = ['Month', 'Occupation', 'Type_of_Loan', 'Credit_Mix', 'Payment_of_Min_Amount', 'Payment_Behaviour', 'Credit_Score']\n",
        "df[cat_cols] = df[cat_cols].astype('category')"
      ]
    },
    {
      "cell_type": "code",
      "execution_count": 12,
      "metadata": {
        "colab": {
          "base_uri": "https://localhost:8080/"
        },
        "id": "nSFyinfynOxk",
        "outputId": "54516a24-dd1c-4a03-8592-85ebecbbc2f7"
      },
      "outputs": [
        {
          "name": "stdout",
          "output_type": "stream",
          "text": [
            "<class 'pandas.core.frame.DataFrame'>\n",
            "RangeIndex: 100000 entries, 0 to 99999\n",
            "Data columns (total 28 columns):\n",
            " #   Column                    Non-Null Count   Dtype   \n",
            "---  ------                    --------------   -----   \n",
            " 0   ID                        100000 non-null  object  \n",
            " 1   Customer_ID               100000 non-null  object  \n",
            " 2   Month                     100000 non-null  category\n",
            " 3   Name                      90015 non-null   object  \n",
            " 4   Age                       100000 non-null  object  \n",
            " 5   SSN                       100000 non-null  object  \n",
            " 6   Occupation                100000 non-null  category\n",
            " 7   Annual_Income             100000 non-null  object  \n",
            " 8   Monthly_Inhand_Salary     84998 non-null   float64 \n",
            " 9   Num_Bank_Accounts         100000 non-null  int64   \n",
            " 10  Num_Credit_Card           100000 non-null  int64   \n",
            " 11  Interest_Rate             100000 non-null  int64   \n",
            " 12  Num_of_Loan               100000 non-null  object  \n",
            " 13  Type_of_Loan              88592 non-null   category\n",
            " 14  Delay_from_due_date       100000 non-null  int64   \n",
            " 15  Num_of_Delayed_Payment    92998 non-null   object  \n",
            " 16  Changed_Credit_Limit      100000 non-null  object  \n",
            " 17  Num_Credit_Inquiries      98035 non-null   float64 \n",
            " 18  Credit_Mix                100000 non-null  category\n",
            " 19  Outstanding_Debt          100000 non-null  object  \n",
            " 20  Credit_Utilization_Ratio  100000 non-null  float64 \n",
            " 21  Credit_History_Age        90970 non-null   object  \n",
            " 22  Payment_of_Min_Amount     100000 non-null  category\n",
            " 23  Total_EMI_per_month       100000 non-null  float64 \n",
            " 24  Amount_invested_monthly   95521 non-null   object  \n",
            " 25  Payment_Behaviour         100000 non-null  category\n",
            " 26  Monthly_Balance           98800 non-null   object  \n",
            " 27  Credit_Score              100000 non-null  category\n",
            "dtypes: category(7), float64(4), int64(4), object(13)\n",
            "memory usage: 17.0+ MB\n"
          ]
        }
      ],
      "source": [
        "df.info()"
      ]
    },
    {
      "cell_type": "markdown",
      "metadata": {
        "id": "3O2ZbI9hndBW"
      },
      "source": [
        "# Data Cleaning"
      ]
    },
    {
      "cell_type": "markdown",
      "metadata": {
        "id": "8Cpckr7MJ8su"
      },
      "source": [
        "Check null, Check Duplicates,Checking for unique values,Drop redundant columns"
      ]
    },
    {
      "cell_type": "code",
      "execution_count": 13,
      "metadata": {
        "colab": {
          "base_uri": "https://localhost:8080/"
        },
        "id": "uOhRL_0gnf8f",
        "outputId": "7fd438f0-273e-4ec2-9b79-c6718d685544"
      },
      "outputs": [
        {
          "data": {
            "text/plain": [
              "(100000, 28)"
            ]
          },
          "execution_count": 13,
          "metadata": {},
          "output_type": "execute_result"
        }
      ],
      "source": [
        "df.shape   #100000 examples with 28 features each"
      ]
    },
    {
      "cell_type": "code",
      "execution_count": 14,
      "metadata": {
        "colab": {
          "base_uri": "https://localhost:8080/"
        },
        "id": "aX9NkEGOn9wl",
        "outputId": "a9c1ea94-c308-4e22-82d1-b97a43ebeb55"
      },
      "outputs": [
        {
          "name": "stdout",
          "output_type": "stream",
          "text": [
            "100000 28\n"
          ]
        }
      ],
      "source": [
        "m,n=df.shape\n",
        "print(m,n)"
      ]
    },
    {
      "cell_type": "code",
      "execution_count": 15,
      "metadata": {
        "id": "HzSmka3soJIQ"
      },
      "outputs": [],
      "source": [
        "# isna()\n",
        "# Detect missing values."
      ]
    },
    {
      "cell_type": "code",
      "execution_count": 16,
      "metadata": {
        "id": "fFgbqzhapNQ9"
      },
      "outputs": [],
      "source": [
        "missing=df.isna().sum()"
      ]
    },
    {
      "cell_type": "code",
      "execution_count": 17,
      "metadata": {
        "colab": {
          "base_uri": "https://localhost:8080/"
        },
        "id": "Ic1G8NAapphW",
        "outputId": "55dbeecf-19af-4f2e-a305-08186cedb058"
      },
      "outputs": [
        {
          "data": {
            "text/plain": [
              "ID                              0\n",
              "Customer_ID                     0\n",
              "Month                           0\n",
              "Name                         9985\n",
              "Age                             0\n",
              "SSN                             0\n",
              "Occupation                      0\n",
              "Annual_Income                   0\n",
              "Monthly_Inhand_Salary       15002\n",
              "Num_Bank_Accounts               0\n",
              "Num_Credit_Card                 0\n",
              "Interest_Rate                   0\n",
              "Num_of_Loan                     0\n",
              "Type_of_Loan                11408\n",
              "Delay_from_due_date             0\n",
              "Num_of_Delayed_Payment       7002\n",
              "Changed_Credit_Limit            0\n",
              "Num_Credit_Inquiries         1965\n",
              "Credit_Mix                      0\n",
              "Outstanding_Debt                0\n",
              "Credit_Utilization_Ratio        0\n",
              "Credit_History_Age           9030\n",
              "Payment_of_Min_Amount           0\n",
              "Total_EMI_per_month             0\n",
              "Amount_invested_monthly      4479\n",
              "Payment_Behaviour               0\n",
              "Monthly_Balance              1200\n",
              "Credit_Score                    0\n",
              "dtype: int64"
            ]
          },
          "execution_count": 17,
          "metadata": {},
          "output_type": "execute_result"
        }
      ],
      "source": [
        "missing       #The data has missing values"
      ]
    },
    {
      "cell_type": "code",
      "execution_count": 18,
      "metadata": {
        "colab": {
          "base_uri": "https://localhost:8080/"
        },
        "id": "ohrgaLEMpqqf",
        "outputId": "047db287-0ab7-43fe-d964-5ba4491e9f86"
      },
      "outputs": [
        {
          "data": {
            "text/plain": [
              "0"
            ]
          },
          "execution_count": 18,
          "metadata": {},
          "output_type": "execute_result"
        }
      ],
      "source": [
        "df.duplicated().sum()              #No duplicated values"
      ]
    },
    {
      "cell_type": "code",
      "execution_count": 19,
      "metadata": {
        "colab": {
          "base_uri": "https://localhost:8080/"
        },
        "id": "T0pIfpziqE6z",
        "outputId": "5b439fd3-bbe8-42b3-9016-7022ff2ad21e"
      },
      "outputs": [
        {
          "data": {
            "text/plain": [
              "ID                          100000\n",
              "Customer_ID                  12500\n",
              "Month                            8\n",
              "Name                         10139\n",
              "Age                           1788\n",
              "SSN                          12501\n",
              "Occupation                      16\n",
              "Annual_Income                18940\n",
              "Monthly_Inhand_Salary        13235\n",
              "Num_Bank_Accounts              943\n",
              "Num_Credit_Card               1179\n",
              "Interest_Rate                 1750\n",
              "Num_of_Loan                    434\n",
              "Type_of_Loan                  6260\n",
              "Delay_from_due_date             73\n",
              "Num_of_Delayed_Payment         749\n",
              "Changed_Credit_Limit          4384\n",
              "Num_Credit_Inquiries          1223\n",
              "Credit_Mix                       4\n",
              "Outstanding_Debt             13178\n",
              "Credit_Utilization_Ratio    100000\n",
              "Credit_History_Age             404\n",
              "Payment_of_Min_Amount            3\n",
              "Total_EMI_per_month          14950\n",
              "Amount_invested_monthly      91049\n",
              "Payment_Behaviour                7\n",
              "Monthly_Balance              98792\n",
              "Credit_Score                     3\n",
              "dtype: int64"
            ]
          },
          "execution_count": 19,
          "metadata": {},
          "output_type": "execute_result"
        }
      ],
      "source": [
        "df.nunique()       #Checking for unique values"
      ]
    },
    {
      "cell_type": "code",
      "execution_count": 20,
      "metadata": {
        "id": "oZdamob0qWAh"
      },
      "outputs": [],
      "source": [
        "df.drop(['ID', 'Name', 'SSN', 'Type_of_Loan'],axis=1,inplace=True)"
      ]
    },
    {
      "cell_type": "code",
      "execution_count": 21,
      "metadata": {
        "colab": {
          "base_uri": "https://localhost:8080/",
          "height": 223
        },
        "id": "DX4VYyULq0ZL",
        "outputId": "a811460e-2a8c-4195-9bf6-211cd7e23ca0"
      },
      "outputs": [
        {
          "data": {
            "text/html": [
              "\n",
              "  <div id=\"df-1fac467e-eee9-46ed-8e52-301e3a1876c0\">\n",
              "    <div class=\"colab-df-container\">\n",
              "      <div>\n",
              "<style scoped>\n",
              "    .dataframe tbody tr th:only-of-type {\n",
              "        vertical-align: middle;\n",
              "    }\n",
              "\n",
              "    .dataframe tbody tr th {\n",
              "        vertical-align: top;\n",
              "    }\n",
              "\n",
              "    .dataframe thead th {\n",
              "        text-align: right;\n",
              "    }\n",
              "</style>\n",
              "<table border=\"1\" class=\"dataframe\">\n",
              "  <thead>\n",
              "    <tr style=\"text-align: right;\">\n",
              "      <th></th>\n",
              "      <th>Customer_ID</th>\n",
              "      <th>Month</th>\n",
              "      <th>Age</th>\n",
              "      <th>Occupation</th>\n",
              "      <th>Annual_Income</th>\n",
              "      <th>Monthly_Inhand_Salary</th>\n",
              "      <th>Num_Bank_Accounts</th>\n",
              "      <th>Num_Credit_Card</th>\n",
              "      <th>Interest_Rate</th>\n",
              "      <th>Num_of_Loan</th>\n",
              "      <th>...</th>\n",
              "      <th>Credit_Mix</th>\n",
              "      <th>Outstanding_Debt</th>\n",
              "      <th>Credit_Utilization_Ratio</th>\n",
              "      <th>Credit_History_Age</th>\n",
              "      <th>Payment_of_Min_Amount</th>\n",
              "      <th>Total_EMI_per_month</th>\n",
              "      <th>Amount_invested_monthly</th>\n",
              "      <th>Payment_Behaviour</th>\n",
              "      <th>Monthly_Balance</th>\n",
              "      <th>Credit_Score</th>\n",
              "    </tr>\n",
              "  </thead>\n",
              "  <tbody>\n",
              "    <tr>\n",
              "      <th>0</th>\n",
              "      <td>CUS_0xd40</td>\n",
              "      <td>January</td>\n",
              "      <td>23</td>\n",
              "      <td>Scientist</td>\n",
              "      <td>19114.12</td>\n",
              "      <td>1824.843333</td>\n",
              "      <td>3</td>\n",
              "      <td>4</td>\n",
              "      <td>3</td>\n",
              "      <td>4</td>\n",
              "      <td>...</td>\n",
              "      <td>_</td>\n",
              "      <td>809.98</td>\n",
              "      <td>26.82262</td>\n",
              "      <td>22 Years and 1 Months</td>\n",
              "      <td>No</td>\n",
              "      <td>49.574949</td>\n",
              "      <td>80.41529543900253</td>\n",
              "      <td>High_spent_Small_value_payments</td>\n",
              "      <td>312.49408867943663</td>\n",
              "      <td>Good</td>\n",
              "    </tr>\n",
              "    <tr>\n",
              "      <th>1</th>\n",
              "      <td>CUS_0xd40</td>\n",
              "      <td>February</td>\n",
              "      <td>23</td>\n",
              "      <td>Scientist</td>\n",
              "      <td>19114.12</td>\n",
              "      <td>NaN</td>\n",
              "      <td>3</td>\n",
              "      <td>4</td>\n",
              "      <td>3</td>\n",
              "      <td>4</td>\n",
              "      <td>...</td>\n",
              "      <td>Good</td>\n",
              "      <td>809.98</td>\n",
              "      <td>31.94496</td>\n",
              "      <td>NaN</td>\n",
              "      <td>No</td>\n",
              "      <td>49.574949</td>\n",
              "      <td>118.28022162236736</td>\n",
              "      <td>Low_spent_Large_value_payments</td>\n",
              "      <td>284.62916249607184</td>\n",
              "      <td>Good</td>\n",
              "    </tr>\n",
              "  </tbody>\n",
              "</table>\n",
              "<p>2 rows × 24 columns</p>\n",
              "</div>\n",
              "      <button class=\"colab-df-convert\" onclick=\"convertToInteractive('df-1fac467e-eee9-46ed-8e52-301e3a1876c0')\"\n",
              "              title=\"Convert this dataframe to an interactive table.\"\n",
              "              style=\"display:none;\">\n",
              "        \n",
              "  <svg xmlns=\"http://www.w3.org/2000/svg\" height=\"24px\"viewBox=\"0 0 24 24\"\n",
              "       width=\"24px\">\n",
              "    <path d=\"M0 0h24v24H0V0z\" fill=\"none\"/>\n",
              "    <path d=\"M18.56 5.44l.94 2.06.94-2.06 2.06-.94-2.06-.94-.94-2.06-.94 2.06-2.06.94zm-11 1L8.5 8.5l.94-2.06 2.06-.94-2.06-.94L8.5 2.5l-.94 2.06-2.06.94zm10 10l.94 2.06.94-2.06 2.06-.94-2.06-.94-.94-2.06-.94 2.06-2.06.94z\"/><path d=\"M17.41 7.96l-1.37-1.37c-.4-.4-.92-.59-1.43-.59-.52 0-1.04.2-1.43.59L10.3 9.45l-7.72 7.72c-.78.78-.78 2.05 0 2.83L4 21.41c.39.39.9.59 1.41.59.51 0 1.02-.2 1.41-.59l7.78-7.78 2.81-2.81c.8-.78.8-2.07 0-2.86zM5.41 20L4 18.59l7.72-7.72 1.47 1.35L5.41 20z\"/>\n",
              "  </svg>\n",
              "      </button>\n",
              "      \n",
              "  <style>\n",
              "    .colab-df-container {\n",
              "      display:flex;\n",
              "      flex-wrap:wrap;\n",
              "      gap: 12px;\n",
              "    }\n",
              "\n",
              "    .colab-df-convert {\n",
              "      background-color: #E8F0FE;\n",
              "      border: none;\n",
              "      border-radius: 50%;\n",
              "      cursor: pointer;\n",
              "      display: none;\n",
              "      fill: #1967D2;\n",
              "      height: 32px;\n",
              "      padding: 0 0 0 0;\n",
              "      width: 32px;\n",
              "    }\n",
              "\n",
              "    .colab-df-convert:hover {\n",
              "      background-color: #E2EBFA;\n",
              "      box-shadow: 0px 1px 2px rgba(60, 64, 67, 0.3), 0px 1px 3px 1px rgba(60, 64, 67, 0.15);\n",
              "      fill: #174EA6;\n",
              "    }\n",
              "\n",
              "    [theme=dark] .colab-df-convert {\n",
              "      background-color: #3B4455;\n",
              "      fill: #D2E3FC;\n",
              "    }\n",
              "\n",
              "    [theme=dark] .colab-df-convert:hover {\n",
              "      background-color: #434B5C;\n",
              "      box-shadow: 0px 1px 3px 1px rgba(0, 0, 0, 0.15);\n",
              "      filter: drop-shadow(0px 1px 2px rgba(0, 0, 0, 0.3));\n",
              "      fill: #FFFFFF;\n",
              "    }\n",
              "  </style>\n",
              "\n",
              "      <script>\n",
              "        const buttonEl =\n",
              "          document.querySelector('#df-1fac467e-eee9-46ed-8e52-301e3a1876c0 button.colab-df-convert');\n",
              "        buttonEl.style.display =\n",
              "          google.colab.kernel.accessAllowed ? 'block' : 'none';\n",
              "\n",
              "        async function convertToInteractive(key) {\n",
              "          const element = document.querySelector('#df-1fac467e-eee9-46ed-8e52-301e3a1876c0');\n",
              "          const dataTable =\n",
              "            await google.colab.kernel.invokeFunction('convertToInteractive',\n",
              "                                                     [key], {});\n",
              "          if (!dataTable) return;\n",
              "\n",
              "          const docLinkHtml = 'Like what you see? Visit the ' +\n",
              "            '<a target=\"_blank\" href=https://colab.research.google.com/notebooks/data_table.ipynb>data table notebook</a>'\n",
              "            + ' to learn more about interactive tables.';\n",
              "          element.innerHTML = '';\n",
              "          dataTable['output_type'] = 'display_data';\n",
              "          await google.colab.output.renderOutput(dataTable, element);\n",
              "          const docLink = document.createElement('div');\n",
              "          docLink.innerHTML = docLinkHtml;\n",
              "          element.appendChild(docLink);\n",
              "        }\n",
              "      </script>\n",
              "    </div>\n",
              "  </div>\n",
              "  "
            ],
            "text/plain": [
              "  Customer_ID     Month Age Occupation Annual_Income  Monthly_Inhand_Salary  \\\n",
              "0   CUS_0xd40   January  23  Scientist      19114.12            1824.843333   \n",
              "1   CUS_0xd40  February  23  Scientist      19114.12                    NaN   \n",
              "\n",
              "   Num_Bank_Accounts  Num_Credit_Card  Interest_Rate Num_of_Loan  ...  \\\n",
              "0                  3                4              3           4  ...   \n",
              "1                  3                4              3           4  ...   \n",
              "\n",
              "   Credit_Mix Outstanding_Debt Credit_Utilization_Ratio  \\\n",
              "0           _           809.98                 26.82262   \n",
              "1        Good           809.98                 31.94496   \n",
              "\n",
              "      Credit_History_Age Payment_of_Min_Amount Total_EMI_per_month  \\\n",
              "0  22 Years and 1 Months                    No           49.574949   \n",
              "1                    NaN                    No           49.574949   \n",
              "\n",
              "   Amount_invested_monthly                Payment_Behaviour  \\\n",
              "0        80.41529543900253  High_spent_Small_value_payments   \n",
              "1       118.28022162236736   Low_spent_Large_value_payments   \n",
              "\n",
              "      Monthly_Balance  Credit_Score  \n",
              "0  312.49408867943663          Good  \n",
              "1  284.62916249607184          Good  \n",
              "\n",
              "[2 rows x 24 columns]"
            ]
          },
          "execution_count": 21,
          "metadata": {},
          "output_type": "execute_result"
        }
      ],
      "source": [
        "df.head(2)"
      ]
    },
    {
      "cell_type": "code",
      "execution_count": 22,
      "metadata": {
        "colab": {
          "base_uri": "https://localhost:8080/"
        },
        "id": "qXmrFCkgq1qt",
        "outputId": "2b7da750-e1c0-4df0-cb2e-fb3fa6ec91c6"
      },
      "outputs": [
        {
          "data": {
            "text/plain": [
              "(100000, 24)"
            ]
          },
          "execution_count": 22,
          "metadata": {},
          "output_type": "execute_result"
        }
      ],
      "source": [
        "df.shape                #As four columns are dropped"
      ]
    },
    {
      "cell_type": "markdown",
      "metadata": {
        "id": "6aobLv7nMKv0"
      },
      "source": [
        "Handeling Catogerical variables random values"
      ]
    },
    {
      "cell_type": "code",
      "execution_count": 23,
      "metadata": {
        "id": "i3I1HC6rq6HL"
      },
      "outputs": [],
      "source": [
        "\n",
        "cl = list(df.select_dtypes('category'))"
      ]
    },
    {
      "cell_type": "code",
      "execution_count": 24,
      "metadata": {
        "colab": {
          "base_uri": "https://localhost:8080/"
        },
        "id": "ykRNyRe1sqhE",
        "outputId": "d79b075b-002f-4e98-bd88-dae6f0ffb272"
      },
      "outputs": [
        {
          "data": {
            "text/plain": [
              "['Month',\n",
              " 'Occupation',\n",
              " 'Credit_Mix',\n",
              " 'Payment_of_Min_Amount',\n",
              " 'Payment_Behaviour',\n",
              " 'Credit_Score']"
            ]
          },
          "execution_count": 24,
          "metadata": {},
          "output_type": "execute_result"
        }
      ],
      "source": [
        "cl"
      ]
    },
    {
      "cell_type": "code",
      "execution_count": 25,
      "metadata": {
        "colab": {
          "base_uri": "https://localhost:8080/"
        },
        "id": "IVTxXpmbssUf",
        "outputId": "64e86469-deb0-4101-b61f-4b8e1a065a01"
      },
      "outputs": [
        {
          "name": "stdout",
          "output_type": "stream",
          "text": [
            "Month\n",
            "April       12500\n",
            "August      12500\n",
            "February    12500\n",
            "January     12500\n",
            "July        12500\n",
            "June        12500\n",
            "March       12500\n",
            "May         12500\n",
            "Name: Month, dtype: int64\n",
            "-----------------------------------------------\n",
            "Occupation\n",
            "_______          7062\n",
            "Lawyer           6575\n",
            "Architect        6355\n",
            "Engineer         6350\n",
            "Scientist        6299\n",
            "Mechanic         6291\n",
            "Accountant       6271\n",
            "Developer        6235\n",
            "Media_Manager    6232\n",
            "Teacher          6215\n",
            "Entrepreneur     6174\n",
            "Doctor           6087\n",
            "Journalist       6085\n",
            "Manager          5973\n",
            "Musician         5911\n",
            "Writer           5885\n",
            "Name: Occupation, dtype: int64\n",
            "-----------------------------------------------\n",
            "Credit_Mix\n",
            "Standard    36479\n",
            "Good        24337\n",
            "_           20195\n",
            "Bad         18989\n",
            "Name: Credit_Mix, dtype: int64\n",
            "-----------------------------------------------\n",
            "Payment_of_Min_Amount\n",
            "Yes    52326\n",
            "No     35667\n",
            "NM     12007\n",
            "Name: Payment_of_Min_Amount, dtype: int64\n",
            "-----------------------------------------------\n",
            "Payment_Behaviour\n",
            "Low_spent_Small_value_payments      25513\n",
            "High_spent_Medium_value_payments    17540\n",
            "Low_spent_Medium_value_payments     13861\n",
            "High_spent_Large_value_payments     13721\n",
            "High_spent_Small_value_payments     11340\n",
            "Low_spent_Large_value_payments      10425\n",
            "!@9#%8                               7600\n",
            "Name: Payment_Behaviour, dtype: int64\n",
            "-----------------------------------------------\n",
            "Credit_Score\n",
            "Standard    53174\n",
            "Poor        28998\n",
            "Good        17828\n",
            "Name: Credit_Score, dtype: int64\n",
            "-----------------------------------------------\n"
          ]
        }
      ],
      "source": [
        "for c in cl:\n",
        "  print(c)\n",
        "  print(df[c].value_counts())\n",
        "  print(\"-----------------------------------------------\")"
      ]
    },
    {
      "cell_type": "code",
      "execution_count": 26,
      "metadata": {
        "id": "1dBnHt0Ys0Ul"
      },
      "outputs": [],
      "source": [
        "# Credit_mix and Payment_Behaviour has few arbitary values"
      ]
    },
    {
      "cell_type": "code",
      "execution_count": 27,
      "metadata": {
        "id": "2k-J7il2u4qe"
      },
      "outputs": [],
      "source": [
        "df['Credit_Mix']=df['Credit_Mix'].apply(lambda x: np.NaN if x=='_' else x)"
      ]
    },
    {
      "cell_type": "code",
      "execution_count": 28,
      "metadata": {
        "colab": {
          "base_uri": "https://localhost:8080/"
        },
        "id": "5mKsZ_2WvTeJ",
        "outputId": "91b364b0-4776-4e4a-b4e6-067a53aaf505"
      },
      "outputs": [
        {
          "data": {
            "text/plain": [
              "Standard    36479\n",
              "Good        24337\n",
              "Bad         18989\n",
              "Name: Credit_Mix, dtype: int64"
            ]
          },
          "execution_count": 28,
          "metadata": {},
          "output_type": "execute_result"
        }
      ],
      "source": [
        "df['Credit_Mix'].value_counts()"
      ]
    },
    {
      "cell_type": "code",
      "execution_count": 29,
      "metadata": {
        "id": "jFq4hNrbvXTl"
      },
      "outputs": [],
      "source": [
        "df['Payment_Behaviour']=df['Payment_Behaviour'].apply(lambda x: np.NaN if x=='!@9#%8' else x)"
      ]
    },
    {
      "cell_type": "code",
      "execution_count": 30,
      "metadata": {
        "colab": {
          "base_uri": "https://localhost:8080/"
        },
        "id": "t5KFxbKjwA6U",
        "outputId": "e1d83e57-5d3b-4a96-9589-13ae7054ef0a"
      },
      "outputs": [
        {
          "data": {
            "text/plain": [
              "Low_spent_Small_value_payments      25513\n",
              "High_spent_Medium_value_payments    17540\n",
              "Low_spent_Medium_value_payments     13861\n",
              "High_spent_Large_value_payments     13721\n",
              "High_spent_Small_value_payments     11340\n",
              "Low_spent_Large_value_payments      10425\n",
              "Name: Payment_Behaviour, dtype: int64"
            ]
          },
          "execution_count": 30,
          "metadata": {},
          "output_type": "execute_result"
        }
      ],
      "source": [
        "df['Payment_Behaviour'].value_counts()"
      ]
    },
    {
      "cell_type": "markdown",
      "metadata": {
        "id": "dguSbVpUMl4e"
      },
      "source": [
        "Handeling Numerical Values"
      ]
    },
    {
      "cell_type": "code",
      "execution_count": 31,
      "metadata": {
        "id": "gJDCb078yIUU"
      },
      "outputs": [],
      "source": [
        "cols=['Age','Annual_Income','Num_of_Loan','Num_of_Delayed_Payment','Changed_Credit_Limit', 'Outstanding_Debt']"
      ]
    },
    {
      "cell_type": "code",
      "execution_count": 32,
      "metadata": {
        "colab": {
          "base_uri": "https://localhost:8080/"
        },
        "id": "HWG7TPmdyQX2",
        "outputId": "7f805751-a21c-4e68-dd4b-d21a9a2d0f8a"
      },
      "outputs": [
        {
          "name": "stdout",
          "output_type": "stream",
          "text": [
            "Age\n",
            "38      2833\n",
            "28      2829\n",
            "31      2806\n",
            "26      2792\n",
            "32      2749\n",
            "        ... \n",
            "471        1\n",
            "1520       1\n",
            "8663       1\n",
            "3363       1\n",
            "1342       1\n",
            "Name: Age, Length: 1788, dtype: int64\n",
            "--------------------------------------\n",
            "Annual_Income\n",
            "36585.12     16\n",
            "20867.67     16\n",
            "17273.83     16\n",
            "9141.63      15\n",
            "33029.66     15\n",
            "             ..\n",
            "20269.93_     1\n",
            "15157.25_     1\n",
            "44955.64_     1\n",
            "76650.12_     1\n",
            "4262933.0     1\n",
            "Name: Annual_Income, Length: 18940, dtype: int64\n",
            "--------------------------------------\n",
            "Num_of_Loan\n",
            "3        14386\n",
            "2        14250\n",
            "4        14016\n",
            "0        10380\n",
            "1        10083\n",
            "         ...  \n",
            "1320_        1\n",
            "103          1\n",
            "1444         1\n",
            "392          1\n",
            "966          1\n",
            "Name: Num_of_Loan, Length: 434, dtype: int64\n",
            "--------------------------------------\n",
            "Num_of_Delayed_Payment\n",
            "19      5327\n",
            "17      5261\n",
            "16      5173\n",
            "10      5153\n",
            "18      5083\n",
            "        ... \n",
            "848_       1\n",
            "4134       1\n",
            "1530       1\n",
            "1502       1\n",
            "2047       1\n",
            "Name: Num_of_Delayed_Payment, Length: 749, dtype: int64\n",
            "--------------------------------------\n",
            "Changed_Credit_Limit\n",
            "_                     2091\n",
            "8.22                   133\n",
            "11.5                   127\n",
            "11.32                  126\n",
            "7.35                   121\n",
            "                      ... \n",
            "-1.84                    1\n",
            "0.8899999999999999       1\n",
            "28.06                    1\n",
            "1.5599999999999996       1\n",
            "21.17                    1\n",
            "Name: Changed_Credit_Limit, Length: 4384, dtype: int64\n",
            "--------------------------------------\n",
            "Outstanding_Debt\n",
            "1360.45     24\n",
            "460.46      23\n",
            "1151.7      23\n",
            "1109.03     23\n",
            "467.7       16\n",
            "            ..\n",
            "245.46_      1\n",
            "645.77_      1\n",
            "174.79_      1\n",
            "1181.13_     1\n",
            "1013.53_     1\n",
            "Name: Outstanding_Debt, Length: 13178, dtype: int64\n",
            "--------------------------------------\n"
          ]
        }
      ],
      "source": [
        "for c in cols:\n",
        "  print(c)\n",
        "  print(df[c].value_counts())\n",
        "  print(\"--------------------------------------\")"
      ]
    },
    {
      "cell_type": "code",
      "execution_count": 33,
      "metadata": {
        "id": "q_Ie6i13zSh7"
      },
      "outputs": [],
      "source": [
        "cols=['Age','Annual_Income','Num_of_Loan','Num_of_Delayed_Payment','Changed_Credit_Limit', 'Outstanding_Debt']\n",
        "for col in cols:\n",
        "  df[col] = df[col].apply(lambda x: x if x is np.nan or not isinstance(x, str)\n",
        "                      else x.replace(\"_\",\"\")).replace(\"\",np.nan)\n",
        "  df[col] = df[col].astype('float')"
      ]
    },
    {
      "cell_type": "markdown",
      "metadata": {
        "id": "ozbEdw3qM1rR"
      },
      "source": [
        "Impute and clean"
      ]
    },
    {
      "cell_type": "code",
      "execution_count": 34,
      "metadata": {
        "colab": {
          "base_uri": "https://localhost:8080/"
        },
        "id": "j3CLBsv0JHRp",
        "outputId": "730c6f61-cc94-4220-f770-e03a4b3888d1"
      },
      "outputs": [
        {
          "name": "stdout",
          "output_type": "stream",
          "text": [
            "Customer_ID                     0\n",
            "Month                           0\n",
            "Age                             0\n",
            "Occupation                      0\n",
            "Annual_Income                   0\n",
            "Monthly_Inhand_Salary       15002\n",
            "Num_Bank_Accounts               0\n",
            "Num_Credit_Card                 0\n",
            "Interest_Rate                   0\n",
            "Num_of_Loan                     0\n",
            "Delay_from_due_date             0\n",
            "Num_of_Delayed_Payment       7002\n",
            "Changed_Credit_Limit         2091\n",
            "Num_Credit_Inquiries         1965\n",
            "Credit_Mix                  20195\n",
            "Outstanding_Debt                0\n",
            "Credit_Utilization_Ratio        0\n",
            "Credit_History_Age           9030\n",
            "Payment_of_Min_Amount           0\n",
            "Total_EMI_per_month             0\n",
            "Amount_invested_monthly      4479\n",
            "Payment_Behaviour            7600\n",
            "Monthly_Balance              1200\n",
            "Credit_Score                    0\n",
            "dtype: int64\n"
          ]
        }
      ],
      "source": [
        "n=df.isna().sum()\n",
        "print(n)"
      ]
    },
    {
      "cell_type": "markdown",
      "metadata": {
        "id": "s3hK0YE2US9y"
      },
      "source": [
        "**Monthly_Inhand_Salary column**"
      ]
    },
    {
      "cell_type": "code",
      "execution_count": 35,
      "metadata": {
        "id": "FRMTQjWFzo3a"
      },
      "outputs": [],
      "source": [
        "#There are different inhand sallary for same persons , so lets take the average"
      ]
    },
    {
      "cell_type": "code",
      "execution_count": 36,
      "metadata": {
        "id": "cK72r5GjGviC"
      },
      "outputs": [],
      "source": [
        "# This code calculates the mean of the 'Monthly_Inhand_Salary' column for each unique 'Customer_ID' and\n",
        "# assigns the mean value to all rows with the same 'Customer_ID' in the 'Monthly_Inhand_Salary' column.\n",
        "df['Monthly_Inhand_Salary'] = df.groupby('Customer_ID')['Monthly_Inhand_Salary'].transform(lambda v: v.mean())\n",
        "df['Monthly_Inhand_Salary'] = df['Monthly_Inhand_Salary'].astype('float')"
      ]
    },
    {
      "cell_type": "markdown",
      "metadata": {
        "id": "OLfMDf9AUZyz"
      },
      "source": [
        "Num_of_Delayed_Payment column"
      ]
    },
    {
      "cell_type": "code",
      "execution_count": 37,
      "metadata": {
        "id": "9LKMO8XSGzZB"
      },
      "outputs": [],
      "source": [
        "# This code adds a new column called 'Num_of_Delayed_Payment' to the DataFrame 'df'.\n",
        "#  The values in this column are filled with the previous non-null value for each customer.\n",
        "#  This is done using the 'ffill' of method the 'transform' function, which groups the data by 'Customer_ID'\n",
        "# and applies the 'ffill' function to the 'Num_Delay_ofed_Payment' column."
      ]
    },
    {
      "cell_type": "code",
      "execution_count": 38,
      "metadata": {
        "id": "fsShDiAoHz3z"
      },
      "outputs": [],
      "source": [
        "df['Num_of_Delayed_Payment'] = df.groupby('Customer_ID')['Num_of_Delayed_Payment'].transform(lambda v: v.ffill())\n",
        "df['Num_of_Delayed_Payment'] = df.groupby('Customer_ID')['Num_of_Delayed_Payment'].transform(lambda v: v.bfill())"
      ]
    },
    {
      "cell_type": "markdown",
      "metadata": {
        "id": "_hY_I1AqUgp3"
      },
      "source": [
        "Amount_invested_monthly column"
      ]
    },
    {
      "cell_type": "code",
      "execution_count": 39,
      "metadata": {
        "colab": {
          "base_uri": "https://localhost:8080/"
        },
        "id": "FhAxO8a_IBRq",
        "outputId": "849f34ca-051a-459a-f7e1-80adb2dc315c"
      },
      "outputs": [
        {
          "data": {
            "text/plain": [
              "True"
            ]
          },
          "execution_count": 39,
          "metadata": {},
          "output_type": "execute_result"
        }
      ],
      "source": [
        "x = isinstance(5, int) #This will check if number 5 is an int\n",
        "x"
      ]
    },
    {
      "cell_type": "code",
      "execution_count": 40,
      "metadata": {
        "id": "lIC9BKIII9Ej"
      },
      "outputs": [],
      "source": [
        "# Amount_invested_monthly column contains few values starts with i.e `10000__` We can impute those with mean value\n",
        "def return_null(val):\n",
        "  if isinstance(val, str) and \"__\" in val:\n",
        "    return np.NaN\n",
        "  else:\n",
        "    return val"
      ]
    },
    {
      "cell_type": "code",
      "execution_count": 41,
      "metadata": {
        "id": "1pvpKtLfM8ig"
      },
      "outputs": [],
      "source": [
        "df['Amount_invested_monthly'] = df['Amount_invested_monthly'].apply(return_null)\n",
        "df['Amount_invested_monthly'] = df['Amount_invested_monthly'].astype('float')"
      ]
    },
    {
      "cell_type": "code",
      "execution_count": 42,
      "metadata": {
        "id": "jyTJKr2INbTN"
      },
      "outputs": [],
      "source": [
        "df['Amount_invested_monthly'] = df.groupby('Customer_ID')['Amount_invested_monthly'].transform(lambda v: v.mean())"
      ]
    },
    {
      "cell_type": "markdown",
      "metadata": {
        "id": "3_EO6selUu9c"
      },
      "source": [
        "**Num_Credit_Inquiries column**"
      ]
    },
    {
      "cell_type": "code",
      "execution_count": 43,
      "metadata": {
        "id": "UEfPs2FnNdYy"
      },
      "outputs": [],
      "source": [
        "df['Num_Credit_Inquiries'] = df.groupby('Customer_ID')['Num_Credit_Inquiries'].transform(lambda v: v.median())\n",
        "df['Num_Credit_Inquiries'] = df['Num_Credit_Inquiries'].astype('float')"
      ]
    },
    {
      "cell_type": "markdown",
      "metadata": {
        "id": "7SOcK29OU7Wl"
      },
      "source": [
        "**Monthly_Balance column**"
      ]
    },
    {
      "cell_type": "code",
      "execution_count": 44,
      "metadata": {
        "id": "-5B0UGlEUM_N"
      },
      "outputs": [],
      "source": [
        "df['Monthly_Balance'] = df['Monthly_Balance'].apply(return_null)\n",
        "df['Monthly_Balance'] = df['Monthly_Balance'].astype('float')"
      ]
    },
    {
      "cell_type": "code",
      "execution_count": 45,
      "metadata": {
        "id": "gXmEJ7H9ViHS"
      },
      "outputs": [],
      "source": [
        "df['Monthly_Balance'] = df.groupby('Customer_ID')['Monthly_Balance'].transform(lambda v: v.mean())"
      ]
    },
    {
      "cell_type": "markdown",
      "metadata": {
        "id": "vm5cFE6xXlKy"
      },
      "source": [
        "**Payment_Behaviour, Credit_Mix and Changed_Credit_Limit column**"
      ]
    },
    {
      "cell_type": "code",
      "execution_count": 46,
      "metadata": {
        "id": "Bgfi7VfwYGYd"
      },
      "outputs": [],
      "source": [
        "#Fill NA/NaN values using the specified method."
      ]
    },
    {
      "cell_type": "code",
      "execution_count": 47,
      "metadata": {
        "colab": {
          "base_uri": "https://localhost:8080/"
        },
        "id": "58l-aYTlVlqK",
        "outputId": "5a4b831d-7ae8-420b-ae5e-26a6ff0eaa10"
      },
      "outputs": [
        {
          "name": "stderr",
          "output_type": "stream",
          "text": [
            "<ipython-input-47-3c483eba6b55>:1: FutureWarning: Not prepending group keys to the result index of transform-like apply. In the future, the group keys will be included in the index, regardless of whether the applied function returns a like-indexed object.\n",
            "To preserve the previous behavior, use\n",
            "\n",
            "\t>>> .groupby(..., group_keys=False)\n",
            "\n",
            "To adopt the future behavior and silence this warning, use \n",
            "\n",
            "\t>>> .groupby(..., group_keys=True)\n",
            "  df['Payment_Behaviour'] = df.groupby('Customer_ID')['Payment_Behaviour'].apply(lambda x: x.fillna(x.mode()[0]))\n",
            "<ipython-input-47-3c483eba6b55>:2: FutureWarning: Not prepending group keys to the result index of transform-like apply. In the future, the group keys will be included in the index, regardless of whether the applied function returns a like-indexed object.\n",
            "To preserve the previous behavior, use\n",
            "\n",
            "\t>>> .groupby(..., group_keys=False)\n",
            "\n",
            "To adopt the future behavior and silence this warning, use \n",
            "\n",
            "\t>>> .groupby(..., group_keys=True)\n",
            "  df['Credit_Mix'] = df.groupby('Customer_ID')['Credit_Mix'].apply(lambda x: x.fillna(x.mode()[0]))\n"
          ]
        }
      ],
      "source": [
        "df['Payment_Behaviour'] = df.groupby('Customer_ID')['Payment_Behaviour'].apply(lambda x: x.fillna(x.mode()[0]))\n",
        "df['Credit_Mix'] = df.groupby('Customer_ID')['Credit_Mix'].apply(lambda x: x.fillna(x.mode()[0]))"
      ]
    },
    {
      "cell_type": "code",
      "execution_count": 48,
      "metadata": {
        "id": "fzw3k-d6Xqx8"
      },
      "outputs": [],
      "source": [
        "df['Changed_Credit_Limit'] = df.groupby('Customer_ID')['Changed_Credit_Limit'].transform(lambda v: v.mode()[0])"
      ]
    },
    {
      "cell_type": "markdown",
      "metadata": {
        "id": "f-tcSMOoYhBS"
      },
      "source": [
        "**Credit_History_Age column**"
      ]
    },
    {
      "cell_type": "code",
      "execution_count": 49,
      "metadata": {
        "id": "-WGglr7QXsF0"
      },
      "outputs": [],
      "source": [
        "\n",
        "# This code defines a function called 'cal_history_age' that takes a string value as input.\n",
        "# The function uses regular expressions to extract the number of years and months from the input string.\n",
        "#  It then calculates the total number of months by multiplying the number of years by 12 and adding the\n",
        "# number of months. If there is an error during the calculation, the function returns NaN (Not a Number)."
      ]
    },
    {
      "cell_type": "code",
      "execution_count": 50,
      "metadata": {
        "id": "GeC0ioYmZ1E2"
      },
      "outputs": [],
      "source": [
        "import re\n",
        "def cal_history_age(val):\n",
        "  try:\n",
        "    year, month = 0, 0\n",
        "    if re.search('year', val, re.IGNORECASE):\n",
        "      year = int(re.findall('\\d+', val)[0])\n",
        "    if re.search('month', val, re.IGNORECASE):\n",
        "      month = int(re.findall('\\d+', val)[1])\n",
        "    return year*12+month\n",
        "  except:\n",
        "    return np.NaN"
      ]
    },
    {
      "cell_type": "code",
      "execution_count": 51,
      "metadata": {
        "id": "RA0SVnZdaCOM"
      },
      "outputs": [],
      "source": [
        "df['Credit_History_Age'] = df['Credit_History_Age'].apply(cal_history_age)"
      ]
    },
    {
      "cell_type": "code",
      "execution_count": 52,
      "metadata": {
        "id": "dc9J7NFNaIWH"
      },
      "outputs": [],
      "source": [
        "df['Credit_History_Age'] = df.groupby('Customer_ID')['Credit_History_Age'].transform(lambda v: v.ffill())\n",
        "df['Credit_History_Age'] = df.groupby('Customer_ID')['Credit_History_Age'].transform(lambda v: v.bfill())\n",
        "df['Credit_History_Age'] = df['Credit_History_Age'].astype('float')"
      ]
    },
    {
      "cell_type": "markdown",
      "metadata": {
        "id": "Jcxz3Etqafyt"
      },
      "source": [
        "**Age column**"
      ]
    },
    {
      "cell_type": "code",
      "execution_count": 53,
      "metadata": {
        "id": "ze_POYqjaJpX"
      },
      "outputs": [],
      "source": [
        "# As we can see there are some negative values as well as vlues greater than 100. Let's handle those values"
      ]
    },
    {
      "cell_type": "code",
      "execution_count": 54,
      "metadata": {
        "id": "KXFXa-yma3m4"
      },
      "outputs": [],
      "source": [
        "def clean_age(x):\n",
        "  if x > 100 or x <=0:\n",
        "    return np.NaN\n",
        "  return x"
      ]
    },
    {
      "cell_type": "code",
      "execution_count": 55,
      "metadata": {
        "id": "J3lLAGi8bleE"
      },
      "outputs": [],
      "source": [
        "df['Age'] = df['Age'].apply(lambda x: x if x is np.nan or not isinstance(x, str)\n",
        "                    else x.replace(\"_\",\"\")).replace(\"\",np.nan)\n",
        "df['Age'] = df['Age'].astype('float')"
      ]
    },
    {
      "cell_type": "code",
      "execution_count": 56,
      "metadata": {
        "id": "dUgLwAwAcQs0"
      },
      "outputs": [],
      "source": [
        "df['Age'] = df['Age'].apply(clean_age)\n",
        "df['Age'] = df.groupby('Customer_ID')['Age'].transform(lambda v: v.mode()[0])"
      ]
    },
    {
      "cell_type": "code",
      "execution_count": 57,
      "metadata": {
        "colab": {
          "base_uri": "https://localhost:8080/"
        },
        "id": "AJpfbgMbcWMg",
        "outputId": "d32b0692-a4e2-497c-8b85-613a87a62f9b"
      },
      "outputs": [
        {
          "data": {
            "text/plain": [
              "Customer_ID                 0\n",
              "Month                       0\n",
              "Age                         0\n",
              "Occupation                  0\n",
              "Annual_Income               0\n",
              "Monthly_Inhand_Salary       0\n",
              "Num_Bank_Accounts           0\n",
              "Num_Credit_Card             0\n",
              "Interest_Rate               0\n",
              "Num_of_Loan                 0\n",
              "Delay_from_due_date         0\n",
              "Num_of_Delayed_Payment      0\n",
              "Changed_Credit_Limit        0\n",
              "Num_Credit_Inquiries        0\n",
              "Credit_Mix                  0\n",
              "Outstanding_Debt            0\n",
              "Credit_Utilization_Ratio    0\n",
              "Credit_History_Age          0\n",
              "Payment_of_Min_Amount       0\n",
              "Total_EMI_per_month         0\n",
              "Amount_invested_monthly     0\n",
              "Payment_Behaviour           0\n",
              "Monthly_Balance             0\n",
              "Credit_Score                0\n",
              "dtype: int64"
            ]
          },
          "execution_count": 57,
          "metadata": {},
          "output_type": "execute_result"
        }
      ],
      "source": [
        "n=df.isna().sum()\n",
        "n"
      ]
    },
    {
      "cell_type": "code",
      "execution_count": 58,
      "metadata": {
        "id": "H8UShSvxcajU"
      },
      "outputs": [],
      "source": [
        "#All null values has been managed"
      ]
    },
    {
      "cell_type": "code",
      "execution_count": 59,
      "metadata": {
        "id": "x8zKe6LFciND"
      },
      "outputs": [],
      "source": [
        "cat_cols = ['Credit_Mix', 'Payment_Behaviour']\n",
        "df[cat_cols] = df[cat_cols].astype('category')"
      ]
    },
    {
      "cell_type": "markdown",
      "metadata": {
        "id": "SUKs2_umcsRQ"
      },
      "source": [
        "## **Sanity checks**"
      ]
    },
    {
      "cell_type": "code",
      "execution_count": 60,
      "metadata": {
        "colab": {
          "base_uri": "https://localhost:8080/",
          "height": 364
        },
        "id": "6AN1HMU4cn19",
        "outputId": "109602ca-4aef-4c37-d4d3-e2f199c6aaaf"
      },
      "outputs": [
        {
          "data": {
            "text/html": [
              "\n",
              "  <div id=\"df-edfc464b-29b1-4d26-990f-299f8898f31d\">\n",
              "    <div class=\"colab-df-container\">\n",
              "      <div>\n",
              "<style scoped>\n",
              "    .dataframe tbody tr th:only-of-type {\n",
              "        vertical-align: middle;\n",
              "    }\n",
              "\n",
              "    .dataframe tbody tr th {\n",
              "        vertical-align: top;\n",
              "    }\n",
              "\n",
              "    .dataframe thead th {\n",
              "        text-align: right;\n",
              "    }\n",
              "</style>\n",
              "<table border=\"1\" class=\"dataframe\">\n",
              "  <thead>\n",
              "    <tr style=\"text-align: right;\">\n",
              "      <th></th>\n",
              "      <th>Age</th>\n",
              "      <th>Annual_Income</th>\n",
              "      <th>Monthly_Inhand_Salary</th>\n",
              "      <th>Num_Bank_Accounts</th>\n",
              "      <th>Num_Credit_Card</th>\n",
              "      <th>Interest_Rate</th>\n",
              "      <th>Num_of_Loan</th>\n",
              "      <th>Delay_from_due_date</th>\n",
              "      <th>Num_of_Delayed_Payment</th>\n",
              "      <th>Changed_Credit_Limit</th>\n",
              "      <th>Num_Credit_Inquiries</th>\n",
              "      <th>Outstanding_Debt</th>\n",
              "      <th>Credit_Utilization_Ratio</th>\n",
              "      <th>Credit_History_Age</th>\n",
              "      <th>Total_EMI_per_month</th>\n",
              "      <th>Amount_invested_monthly</th>\n",
              "      <th>Monthly_Balance</th>\n",
              "    </tr>\n",
              "  </thead>\n",
              "  <tbody>\n",
              "    <tr>\n",
              "      <th>count</th>\n",
              "      <td>100000.000000</td>\n",
              "      <td>1.000000e+05</td>\n",
              "      <td>100000.000000</td>\n",
              "      <td>100000.000000</td>\n",
              "      <td>100000.00000</td>\n",
              "      <td>100000.000000</td>\n",
              "      <td>100000.000000</td>\n",
              "      <td>100000.000000</td>\n",
              "      <td>100000.000000</td>\n",
              "      <td>100000.000000</td>\n",
              "      <td>100000.000000</td>\n",
              "      <td>100000.000000</td>\n",
              "      <td>100000.000000</td>\n",
              "      <td>100000.000000</td>\n",
              "      <td>100000.000000</td>\n",
              "      <td>100000.000000</td>\n",
              "      <td>100000.000000</td>\n",
              "    </tr>\n",
              "    <tr>\n",
              "      <th>mean</th>\n",
              "      <td>33.274560</td>\n",
              "      <td>1.764157e+05</td>\n",
              "      <td>4198.468568</td>\n",
              "      <td>17.091280</td>\n",
              "      <td>22.47443</td>\n",
              "      <td>72.466040</td>\n",
              "      <td>3.009960</td>\n",
              "      <td>21.068780</td>\n",
              "      <td>30.690700</td>\n",
              "      <td>10.393543</td>\n",
              "      <td>5.794600</td>\n",
              "      <td>1426.220376</td>\n",
              "      <td>32.285173</td>\n",
              "      <td>221.136220</td>\n",
              "      <td>1403.118217</td>\n",
              "      <td>195.751837</td>\n",
              "      <td>403.120320</td>\n",
              "    </tr>\n",
              "    <tr>\n",
              "      <th>std</th>\n",
              "      <td>10.764438</td>\n",
              "      <td>1.429618e+06</td>\n",
              "      <td>3187.031426</td>\n",
              "      <td>117.404834</td>\n",
              "      <td>129.05741</td>\n",
              "      <td>466.422621</td>\n",
              "      <td>62.647879</td>\n",
              "      <td>14.860104</td>\n",
              "      <td>224.881705</td>\n",
              "      <td>6.512529</td>\n",
              "      <td>3.831618</td>\n",
              "      <td>1155.129026</td>\n",
              "      <td>5.116875</td>\n",
              "      <td>99.680454</td>\n",
              "      <td>8306.041270</td>\n",
              "      <td>136.842331</td>\n",
              "      <td>175.470745</td>\n",
              "    </tr>\n",
              "    <tr>\n",
              "      <th>min</th>\n",
              "      <td>14.000000</td>\n",
              "      <td>7.005930e+03</td>\n",
              "      <td>303.645417</td>\n",
              "      <td>-1.000000</td>\n",
              "      <td>0.00000</td>\n",
              "      <td>1.000000</td>\n",
              "      <td>-100.000000</td>\n",
              "      <td>-5.000000</td>\n",
              "      <td>-3.000000</td>\n",
              "      <td>-5.010000</td>\n",
              "      <td>0.000000</td>\n",
              "      <td>0.230000</td>\n",
              "      <td>20.000000</td>\n",
              "      <td>1.000000</td>\n",
              "      <td>0.000000</td>\n",
              "      <td>14.528879</td>\n",
              "      <td>92.841401</td>\n",
              "    </tr>\n",
              "    <tr>\n",
              "      <th>25%</th>\n",
              "      <td>24.000000</td>\n",
              "      <td>1.945750e+04</td>\n",
              "      <td>1625.744479</td>\n",
              "      <td>3.000000</td>\n",
              "      <td>4.00000</td>\n",
              "      <td>8.000000</td>\n",
              "      <td>1.000000</td>\n",
              "      <td>10.000000</td>\n",
              "      <td>9.000000</td>\n",
              "      <td>5.500000</td>\n",
              "      <td>3.000000</td>\n",
              "      <td>566.072500</td>\n",
              "      <td>28.052567</td>\n",
              "      <td>144.000000</td>\n",
              "      <td>30.306660</td>\n",
              "      <td>97.690749</td>\n",
              "      <td>284.546710</td>\n",
              "    </tr>\n",
              "    <tr>\n",
              "      <th>50%</th>\n",
              "      <td>33.000000</td>\n",
              "      <td>3.757861e+04</td>\n",
              "      <td>3097.016667</td>\n",
              "      <td>6.000000</td>\n",
              "      <td>5.00000</td>\n",
              "      <td>13.000000</td>\n",
              "      <td>3.000000</td>\n",
              "      <td>18.000000</td>\n",
              "      <td>14.000000</td>\n",
              "      <td>9.340000</td>\n",
              "      <td>5.000000</td>\n",
              "      <td>1166.155000</td>\n",
              "      <td>32.305784</td>\n",
              "      <td>219.000000</td>\n",
              "      <td>69.249473</td>\n",
              "      <td>152.081485</td>\n",
              "      <td>338.491580</td>\n",
              "    </tr>\n",
              "    <tr>\n",
              "      <th>75%</th>\n",
              "      <td>42.000000</td>\n",
              "      <td>7.279092e+04</td>\n",
              "      <td>5961.664375</td>\n",
              "      <td>7.000000</td>\n",
              "      <td>7.00000</td>\n",
              "      <td>20.000000</td>\n",
              "      <td>5.000000</td>\n",
              "      <td>28.000000</td>\n",
              "      <td>18.000000</td>\n",
              "      <td>14.672500</td>\n",
              "      <td>8.500000</td>\n",
              "      <td>1945.962500</td>\n",
              "      <td>36.496663</td>\n",
              "      <td>302.000000</td>\n",
              "      <td>161.224249</td>\n",
              "      <td>257.566585</td>\n",
              "      <td>465.372970</td>\n",
              "    </tr>\n",
              "    <tr>\n",
              "      <th>max</th>\n",
              "      <td>56.000000</td>\n",
              "      <td>2.419806e+07</td>\n",
              "      <td>15204.633333</td>\n",
              "      <td>1798.000000</td>\n",
              "      <td>1499.00000</td>\n",
              "      <td>5797.000000</td>\n",
              "      <td>1496.000000</td>\n",
              "      <td>67.000000</td>\n",
              "      <td>4397.000000</td>\n",
              "      <td>29.980000</td>\n",
              "      <td>17.000000</td>\n",
              "      <td>4998.070000</td>\n",
              "      <td>50.000000</td>\n",
              "      <td>404.000000</td>\n",
              "      <td>82331.000000</td>\n",
              "      <td>1005.847285</td>\n",
              "      <td>1349.264887</td>\n",
              "    </tr>\n",
              "  </tbody>\n",
              "</table>\n",
              "</div>\n",
              "      <button class=\"colab-df-convert\" onclick=\"convertToInteractive('df-edfc464b-29b1-4d26-990f-299f8898f31d')\"\n",
              "              title=\"Convert this dataframe to an interactive table.\"\n",
              "              style=\"display:none;\">\n",
              "        \n",
              "  <svg xmlns=\"http://www.w3.org/2000/svg\" height=\"24px\"viewBox=\"0 0 24 24\"\n",
              "       width=\"24px\">\n",
              "    <path d=\"M0 0h24v24H0V0z\" fill=\"none\"/>\n",
              "    <path d=\"M18.56 5.44l.94 2.06.94-2.06 2.06-.94-2.06-.94-.94-2.06-.94 2.06-2.06.94zm-11 1L8.5 8.5l.94-2.06 2.06-.94-2.06-.94L8.5 2.5l-.94 2.06-2.06.94zm10 10l.94 2.06.94-2.06 2.06-.94-2.06-.94-.94-2.06-.94 2.06-2.06.94z\"/><path d=\"M17.41 7.96l-1.37-1.37c-.4-.4-.92-.59-1.43-.59-.52 0-1.04.2-1.43.59L10.3 9.45l-7.72 7.72c-.78.78-.78 2.05 0 2.83L4 21.41c.39.39.9.59 1.41.59.51 0 1.02-.2 1.41-.59l7.78-7.78 2.81-2.81c.8-.78.8-2.07 0-2.86zM5.41 20L4 18.59l7.72-7.72 1.47 1.35L5.41 20z\"/>\n",
              "  </svg>\n",
              "      </button>\n",
              "      \n",
              "  <style>\n",
              "    .colab-df-container {\n",
              "      display:flex;\n",
              "      flex-wrap:wrap;\n",
              "      gap: 12px;\n",
              "    }\n",
              "\n",
              "    .colab-df-convert {\n",
              "      background-color: #E8F0FE;\n",
              "      border: none;\n",
              "      border-radius: 50%;\n",
              "      cursor: pointer;\n",
              "      display: none;\n",
              "      fill: #1967D2;\n",
              "      height: 32px;\n",
              "      padding: 0 0 0 0;\n",
              "      width: 32px;\n",
              "    }\n",
              "\n",
              "    .colab-df-convert:hover {\n",
              "      background-color: #E2EBFA;\n",
              "      box-shadow: 0px 1px 2px rgba(60, 64, 67, 0.3), 0px 1px 3px 1px rgba(60, 64, 67, 0.15);\n",
              "      fill: #174EA6;\n",
              "    }\n",
              "\n",
              "    [theme=dark] .colab-df-convert {\n",
              "      background-color: #3B4455;\n",
              "      fill: #D2E3FC;\n",
              "    }\n",
              "\n",
              "    [theme=dark] .colab-df-convert:hover {\n",
              "      background-color: #434B5C;\n",
              "      box-shadow: 0px 1px 3px 1px rgba(0, 0, 0, 0.15);\n",
              "      filter: drop-shadow(0px 1px 2px rgba(0, 0, 0, 0.3));\n",
              "      fill: #FFFFFF;\n",
              "    }\n",
              "  </style>\n",
              "\n",
              "      <script>\n",
              "        const buttonEl =\n",
              "          document.querySelector('#df-edfc464b-29b1-4d26-990f-299f8898f31d button.colab-df-convert');\n",
              "        buttonEl.style.display =\n",
              "          google.colab.kernel.accessAllowed ? 'block' : 'none';\n",
              "\n",
              "        async function convertToInteractive(key) {\n",
              "          const element = document.querySelector('#df-edfc464b-29b1-4d26-990f-299f8898f31d');\n",
              "          const dataTable =\n",
              "            await google.colab.kernel.invokeFunction('convertToInteractive',\n",
              "                                                     [key], {});\n",
              "          if (!dataTable) return;\n",
              "\n",
              "          const docLinkHtml = 'Like what you see? Visit the ' +\n",
              "            '<a target=\"_blank\" href=https://colab.research.google.com/notebooks/data_table.ipynb>data table notebook</a>'\n",
              "            + ' to learn more about interactive tables.';\n",
              "          element.innerHTML = '';\n",
              "          dataTable['output_type'] = 'display_data';\n",
              "          await google.colab.output.renderOutput(dataTable, element);\n",
              "          const docLink = document.createElement('div');\n",
              "          docLink.innerHTML = docLinkHtml;\n",
              "          element.appendChild(docLink);\n",
              "        }\n",
              "      </script>\n",
              "    </div>\n",
              "  </div>\n",
              "  "
            ],
            "text/plain": [
              "                 Age  Annual_Income  Monthly_Inhand_Salary  Num_Bank_Accounts  \\\n",
              "count  100000.000000   1.000000e+05          100000.000000      100000.000000   \n",
              "mean       33.274560   1.764157e+05            4198.468568          17.091280   \n",
              "std        10.764438   1.429618e+06            3187.031426         117.404834   \n",
              "min        14.000000   7.005930e+03             303.645417          -1.000000   \n",
              "25%        24.000000   1.945750e+04            1625.744479           3.000000   \n",
              "50%        33.000000   3.757861e+04            3097.016667           6.000000   \n",
              "75%        42.000000   7.279092e+04            5961.664375           7.000000   \n",
              "max        56.000000   2.419806e+07           15204.633333        1798.000000   \n",
              "\n",
              "       Num_Credit_Card  Interest_Rate    Num_of_Loan  Delay_from_due_date  \\\n",
              "count     100000.00000  100000.000000  100000.000000        100000.000000   \n",
              "mean          22.47443      72.466040       3.009960            21.068780   \n",
              "std          129.05741     466.422621      62.647879            14.860104   \n",
              "min            0.00000       1.000000    -100.000000            -5.000000   \n",
              "25%            4.00000       8.000000       1.000000            10.000000   \n",
              "50%            5.00000      13.000000       3.000000            18.000000   \n",
              "75%            7.00000      20.000000       5.000000            28.000000   \n",
              "max         1499.00000    5797.000000    1496.000000            67.000000   \n",
              "\n",
              "       Num_of_Delayed_Payment  Changed_Credit_Limit  Num_Credit_Inquiries  \\\n",
              "count           100000.000000         100000.000000         100000.000000   \n",
              "mean                30.690700             10.393543              5.794600   \n",
              "std                224.881705              6.512529              3.831618   \n",
              "min                 -3.000000             -5.010000              0.000000   \n",
              "25%                  9.000000              5.500000              3.000000   \n",
              "50%                 14.000000              9.340000              5.000000   \n",
              "75%                 18.000000             14.672500              8.500000   \n",
              "max               4397.000000             29.980000             17.000000   \n",
              "\n",
              "       Outstanding_Debt  Credit_Utilization_Ratio  Credit_History_Age  \\\n",
              "count     100000.000000             100000.000000       100000.000000   \n",
              "mean        1426.220376                 32.285173          221.136220   \n",
              "std         1155.129026                  5.116875           99.680454   \n",
              "min            0.230000                 20.000000            1.000000   \n",
              "25%          566.072500                 28.052567          144.000000   \n",
              "50%         1166.155000                 32.305784          219.000000   \n",
              "75%         1945.962500                 36.496663          302.000000   \n",
              "max         4998.070000                 50.000000          404.000000   \n",
              "\n",
              "       Total_EMI_per_month  Amount_invested_monthly  Monthly_Balance  \n",
              "count        100000.000000            100000.000000    100000.000000  \n",
              "mean           1403.118217               195.751837       403.120320  \n",
              "std            8306.041270               136.842331       175.470745  \n",
              "min               0.000000                14.528879        92.841401  \n",
              "25%              30.306660                97.690749       284.546710  \n",
              "50%              69.249473               152.081485       338.491580  \n",
              "75%             161.224249               257.566585       465.372970  \n",
              "max           82331.000000              1005.847285      1349.264887  "
            ]
          },
          "execution_count": 60,
          "metadata": {},
          "output_type": "execute_result"
        }
      ],
      "source": [
        "df.describe()"
      ]
    },
    {
      "cell_type": "code",
      "execution_count": 61,
      "metadata": {
        "id": "EKSOogaZlAVz"
      },
      "outputs": [],
      "source": [
        "# By looking min and max values from above info we can see that there are some illogical values.\n",
        "# We can perform sanity checks and correct those values for following columns\n",
        "\n",
        "# Num_Bank_Accounts done\n",
        "# Num_Credit_Card\n",
        "# Interest_Rate\n",
        "# Num_of_Loan\n",
        "# Delay_from_due_date\n",
        "# Num_of_Delayed_Payment\n",
        "# Total_EMI_per_month"
      ]
    },
    {
      "cell_type": "markdown",
      "metadata": {
        "id": "AH2hNeNTmDGo"
      },
      "source": [
        "**Num_Bank_Accounts**"
      ]
    },
    {
      "cell_type": "code",
      "execution_count": 62,
      "metadata": {
        "colab": {
          "base_uri": "https://localhost:8080/"
        },
        "id": "4bOD6uVomCZw",
        "outputId": "1d7a1fd8-8e8c-4a85-9cf8-d8c89551fb47"
      },
      "outputs": [
        {
          "data": {
            "text/plain": [
              "count    100000.000000\n",
              "mean         17.091280\n",
              "std         117.404834\n",
              "min          -1.000000\n",
              "25%           3.000000\n",
              "50%           6.000000\n",
              "75%           7.000000\n",
              "max        1798.000000\n",
              "Name: Num_Bank_Accounts, dtype: float64"
            ]
          },
          "execution_count": 62,
          "metadata": {},
          "output_type": "execute_result"
        }
      ],
      "source": [
        "df['Num_Bank_Accounts'].describe()"
      ]
    },
    {
      "cell_type": "code",
      "execution_count": 63,
      "metadata": {
        "id": "_vVRw_68lQkW"
      },
      "outputs": [],
      "source": [
        "df['Num_Bank_Accounts'].replace(-1, 0, inplace=True)"
      ]
    },
    {
      "cell_type": "code",
      "execution_count": 64,
      "metadata": {
        "id": "2SxNNkLVmMVu"
      },
      "outputs": [],
      "source": [
        "# We can see that Num_Bank_Accounts are in range of 0 to 1798.\n",
        "#  Account number greatert than 11 is clearly wrong entry. Replace those entries with mode as per each customer"
      ]
    },
    {
      "cell_type": "code",
      "execution_count": 65,
      "metadata": {
        "id": "fdjJiYX0mRRQ"
      },
      "outputs": [],
      "source": [
        "df['Num_Bank_Accounts'] = df['Num_Bank_Accounts'].apply(lambda x: np.NaN if x>10 else x)\n",
        "df['Num_Bank_Accounts'] = df.groupby('Customer_ID')['Num_Bank_Accounts'].transform(lambda v: v.mode()[0])"
      ]
    },
    {
      "cell_type": "markdown",
      "metadata": {
        "id": "yASc7tyxmhq-"
      },
      "source": [
        "**Num_Credit_Card**"
      ]
    },
    {
      "cell_type": "code",
      "execution_count": 66,
      "metadata": {
        "colab": {
          "base_uri": "https://localhost:8080/"
        },
        "id": "N1nzFdWUmZbW",
        "outputId": "f8fd2db1-5fac-455f-eccd-b3a24fde2769"
      },
      "outputs": [
        {
          "data": {
            "text/plain": [
              "count    100000.00000\n",
              "mean         22.47443\n",
              "std         129.05741\n",
              "min           0.00000\n",
              "25%           4.00000\n",
              "50%           5.00000\n",
              "75%           7.00000\n",
              "max        1499.00000\n",
              "Name: Num_Credit_Card, dtype: float64"
            ]
          },
          "execution_count": 66,
          "metadata": {},
          "output_type": "execute_result"
        }
      ],
      "source": [
        "df['Num_Credit_Card'].describe()"
      ]
    },
    {
      "cell_type": "code",
      "execution_count": 67,
      "metadata": {
        "id": "QY7lRhh3m7qn"
      },
      "outputs": [],
      "source": [
        "#invalid max"
      ]
    },
    {
      "cell_type": "code",
      "execution_count": 68,
      "metadata": {
        "id": "PQqpNW0FnWf6"
      },
      "outputs": [],
      "source": [
        "df['Num_Credit_Card'] = df['Num_Credit_Card'].apply(lambda x: np.NaN if x>10 else x)\n",
        "df['Num_Credit_Card'] = df.groupby('Customer_ID')['Num_Credit_Card'].transform(lambda v: v.mode()[0])"
      ]
    },
    {
      "cell_type": "markdown",
      "metadata": {
        "id": "p_k3Cf5rncqH"
      },
      "source": [
        "**Interest_Rate**"
      ]
    },
    {
      "cell_type": "code",
      "execution_count": 69,
      "metadata": {
        "colab": {
          "base_uri": "https://localhost:8080/"
        },
        "id": "e8_nWloDnXba",
        "outputId": "b7c1b0dc-6635-4a0b-faab-51a007386bf3"
      },
      "outputs": [
        {
          "data": {
            "text/plain": [
              "count    100000.000000\n",
              "mean         72.466040\n",
              "std         466.422621\n",
              "min           1.000000\n",
              "25%           8.000000\n",
              "50%          13.000000\n",
              "75%          20.000000\n",
              "max        5797.000000\n",
              "Name: Interest_Rate, dtype: float64"
            ]
          },
          "execution_count": 69,
          "metadata": {},
          "output_type": "execute_result"
        }
      ],
      "source": [
        "df['Interest_Rate'].describe()"
      ]
    },
    {
      "cell_type": "code",
      "execution_count": 70,
      "metadata": {
        "id": "CEMLKMCqniBf"
      },
      "outputs": [],
      "source": [
        "#invalid max"
      ]
    },
    {
      "cell_type": "code",
      "execution_count": 71,
      "metadata": {
        "id": "iAibWlTIny4i"
      },
      "outputs": [],
      "source": [
        "df['Interest_Rate'] = df['Interest_Rate'].apply(lambda x: np.NaN if x>30 else x)\n",
        "df['Interest_Rate'].replace(np.NaN, 0, inplace=True)"
      ]
    },
    {
      "cell_type": "code",
      "execution_count": 72,
      "metadata": {
        "colab": {
          "base_uri": "https://localhost:8080/"
        },
        "id": "g_w6B965nzSl",
        "outputId": "95d25933-0cf5-4146-ea74-ccfd4f892287"
      },
      "outputs": [
        {
          "data": {
            "text/plain": [
              "count    100000.000000\n",
              "mean         12.232130\n",
              "std           8.179132\n",
              "min           0.000000\n",
              "25%           6.000000\n",
              "50%          11.000000\n",
              "75%          18.000000\n",
              "max          30.000000\n",
              "Name: Interest_Rate, dtype: float64"
            ]
          },
          "execution_count": 72,
          "metadata": {},
          "output_type": "execute_result"
        }
      ],
      "source": [
        "df['Interest_Rate'].describe()"
      ]
    },
    {
      "cell_type": "code",
      "execution_count": 73,
      "metadata": {
        "id": "O3lesmcxn2rd"
      },
      "outputs": [],
      "source": [
        "# This code calculates the mode (most frequent value) of ' theInterest_Rate' column for each unique 'Customer_ID' in the DataFramedf ''.\n",
        "# The is result stored in a variable called 'mode'.emi_\n",
        "# Then, theInterest '_Rate' column is dropped from the DataFrame 'df' using the 'drop'\n",
        "# function with the 'axis'1= parameter to indicate that we to want drop a column.\n",
        "# Finally, the 'mode_emi' variable merged is with the 'df' DataFrame using the '.mergepd' function.\n",
        "# The merge is performed based on the 'Customer_ID' column in the left DataFrame and the of index the right DataFrame. The result is stored back in the 'df' DataFrame."
      ]
    },
    {
      "cell_type": "code",
      "execution_count": 74,
      "metadata": {
        "colab": {
          "base_uri": "https://localhost:8080/"
        },
        "id": "k6Nug3cQp_gC",
        "outputId": "4ff5a691-7192-4e37-d3d4-893d84d0ecef"
      },
      "outputs": [
        {
          "name": "stderr",
          "output_type": "stream",
          "text": [
            "/usr/local/lib/python3.10/dist-packages/pandas/core/groupby/groupby.py:1668: FutureWarning: Unlike other reduction functions (e.g. `skew`, `kurtosis`), the default behavior of `mode` typically preserves the axis it acts along. In SciPy 1.11.0, this behavior will change: the default value of `keepdims` will become False, the `axis` over which the statistic is taken will be eliminated, and the value None will no longer be accepted. Set `keepdims` to True or False to avoid this warning.\n",
            "  f = lambda x: func(x, *args, **kwargs)\n"
          ]
        }
      ],
      "source": [
        "from scipy import stats as st\n",
        "mode_emi = df.groupby(['Customer_ID'])['Interest_Rate'].agg(st.mode).apply(lambda x:x[0][0])\n",
        "df.drop(\"Interest_Rate\",axis=1,inplace=True)\n",
        "df = pd.merge(left=df,right=mode_emi,how=\"left\",left_on=\"Customer_ID\",right_index=True)"
      ]
    },
    {
      "cell_type": "markdown",
      "metadata": {
        "id": "LDVVoPBoqgcA"
      },
      "source": [
        "**Num_of_Loan**"
      ]
    },
    {
      "cell_type": "code",
      "execution_count": 75,
      "metadata": {
        "colab": {
          "base_uri": "https://localhost:8080/"
        },
        "id": "ZVQ59-wvqCep",
        "outputId": "6276b083-4dfe-4961-e4c0-08fe9316168c"
      },
      "outputs": [
        {
          "data": {
            "text/plain": [
              " 3.0       15104\n",
              " 2.0       15032\n",
              " 4.0       14743\n",
              " 0.0       10930\n",
              " 1.0       10606\n",
              " 6.0        7803\n",
              " 7.0        7344\n",
              " 5.0        7197\n",
              "-100.0      3876\n",
              " 9.0        3702\n",
              " 8.0        3191\n",
              " 1150.0        4\n",
              " 1228.0        3\n",
              " 1480.0        3\n",
              " 288.0         3\n",
              "Name: Num_of_Loan, dtype: int64"
            ]
          },
          "execution_count": 75,
          "metadata": {},
          "output_type": "execute_result"
        }
      ],
      "source": [
        "df['Num_of_Loan'].value_counts(ascending=False).head(15)"
      ]
    },
    {
      "cell_type": "code",
      "execution_count": 76,
      "metadata": {
        "id": "E9G0gy_oqodw"
      },
      "outputs": [],
      "source": [
        "#There are negative roles"
      ]
    },
    {
      "cell_type": "code",
      "execution_count": 77,
      "metadata": {
        "id": "bIs-vGruqvQI"
      },
      "outputs": [],
      "source": [
        "df['Num_of_Loan'] = df['Num_of_Loan'].apply(lambda x: np.NaN if (x>10 or x<0) else x)\n",
        "df['Num_of_Loan'] = df.groupby('Customer_ID')['Num_of_Loan'].transform(lambda v: v.mode()[0])"
      ]
    },
    {
      "cell_type": "markdown",
      "metadata": {
        "id": "7o8cdZvgrYVr"
      },
      "source": [
        "**Num_of_Delayed_Payment**"
      ]
    },
    {
      "cell_type": "code",
      "execution_count": 78,
      "metadata": {
        "colab": {
          "base_uri": "https://localhost:8080/"
        },
        "id": "a-lWUdz0rIUr",
        "outputId": "f1357725-f8f3-42b9-be40-8b1744211d3f"
      },
      "outputs": [
        {
          "data": {
            "text/plain": [
              "count    100000.000000\n",
              "mean         30.690700\n",
              "std         224.881705\n",
              "min          -3.000000\n",
              "25%           9.000000\n",
              "50%          14.000000\n",
              "75%          18.000000\n",
              "max        4397.000000\n",
              "Name: Num_of_Delayed_Payment, dtype: float64"
            ]
          },
          "execution_count": 78,
          "metadata": {},
          "output_type": "execute_result"
        }
      ],
      "source": [
        "df['Num_of_Delayed_Payment'].describe()"
      ]
    },
    {
      "cell_type": "code",
      "execution_count": 79,
      "metadata": {
        "id": "SM_-BFiUrcc0"
      },
      "outputs": [],
      "source": [
        "df['Num_of_Delayed_Payment'] = df['Num_of_Delayed_Payment'].apply(lambda x: np.NaN if (x>30 or x<0) else x)\n",
        "df['Num_of_Delayed_Payment'] = df.groupby('Customer_ID')['Num_of_Delayed_Payment'].transform(lambda v: v.mode()[0])"
      ]
    },
    {
      "cell_type": "markdown",
      "metadata": {
        "id": "zm9WIEJjr3ND"
      },
      "source": [
        "**Total_EMI_per_month**"
      ]
    },
    {
      "cell_type": "code",
      "execution_count": 80,
      "metadata": {
        "colab": {
          "base_uri": "https://localhost:8080/"
        },
        "id": "gAKTZKodrjJy",
        "outputId": "a6c99603-81a1-4ccc-9d75-474728fc2f6c"
      },
      "outputs": [
        {
          "data": {
            "text/plain": [
              "count    100000.000000\n",
              "mean       1403.118217\n",
              "std        8306.041270\n",
              "min           0.000000\n",
              "25%          30.306660\n",
              "50%          69.249473\n",
              "75%         161.224249\n",
              "max       82331.000000\n",
              "Name: Total_EMI_per_month, dtype: float64"
            ]
          },
          "execution_count": 80,
          "metadata": {},
          "output_type": "execute_result"
        }
      ],
      "source": [
        "df['Total_EMI_per_month'].describe()"
      ]
    },
    {
      "cell_type": "code",
      "execution_count": 81,
      "metadata": {
        "colab": {
          "base_uri": "https://localhost:8080/"
        },
        "id": "OWvf6hdNr8Rc",
        "outputId": "49d616f9-e7ba-4ada-ca93-4571084db6e2"
      },
      "outputs": [
        {
          "name": "stderr",
          "output_type": "stream",
          "text": [
            "/usr/local/lib/python3.10/dist-packages/pandas/core/groupby/groupby.py:1668: FutureWarning: Unlike other reduction functions (e.g. `skew`, `kurtosis`), the default behavior of `mode` typically preserves the axis it acts along. In SciPy 1.11.0, this behavior will change: the default value of `keepdims` will become False, the `axis` over which the statistic is taken will be eliminated, and the value None will no longer be accepted. Set `keepdims` to True or False to avoid this warning.\n",
            "  f = lambda x: func(x, *args, **kwargs)\n"
          ]
        }
      ],
      "source": [
        "mode_emi = df.groupby(['Customer_ID'])['Total_EMI_per_month'].agg(st.mode).apply(lambda x:x[0][0])\n",
        "\n",
        "df.drop(\"Total_EMI_per_month\",axis=1,inplace=True)\n",
        "df = pd.merge(left=df,right=mode_emi,how=\"left\",left_on=\"Customer_ID\",right_index=True)"
      ]
    },
    {
      "cell_type": "code",
      "execution_count": 82,
      "metadata": {
        "colab": {
          "base_uri": "https://localhost:8080/"
        },
        "id": "GiW7eGV6sGA0",
        "outputId": "9c766d6f-b526-4662-ef80-f62c5170d934"
      },
      "outputs": [
        {
          "data": {
            "text/plain": [
              "count    100000.000000\n",
              "mean        105.543371\n",
              "std         125.810030\n",
              "min           0.000000\n",
              "25%          29.049047\n",
              "50%          66.033915\n",
              "75%         145.582332\n",
              "max        1779.103254\n",
              "Name: Total_EMI_per_month, dtype: float64"
            ]
          },
          "execution_count": 82,
          "metadata": {},
          "output_type": "execute_result"
        }
      ],
      "source": [
        "df['Total_EMI_per_month'].describe()"
      ]
    },
    {
      "cell_type": "markdown",
      "metadata": {
        "id": "BZ0w3X8AtA0C"
      },
      "source": [
        "**Delay_from_due_date**"
      ]
    },
    {
      "cell_type": "code",
      "execution_count": 83,
      "metadata": {
        "colab": {
          "base_uri": "https://localhost:8080/"
        },
        "id": "LrjTTW_PsH8d",
        "outputId": "470e6b32-dda6-4e43-cfa1-c8d921bc91fe"
      },
      "outputs": [
        {
          "data": {
            "text/plain": [
              "count    100000.000000\n",
              "mean         21.068780\n",
              "std          14.860104\n",
              "min          -5.000000\n",
              "25%          10.000000\n",
              "50%          18.000000\n",
              "75%          28.000000\n",
              "max          67.000000\n",
              "Name: Delay_from_due_date, dtype: float64"
            ]
          },
          "execution_count": 83,
          "metadata": {},
          "output_type": "execute_result"
        }
      ],
      "source": [
        "df['Delay_from_due_date'].describe()"
      ]
    },
    {
      "cell_type": "markdown",
      "metadata": {
        "id": "Lbmcf4WItQKD"
      },
      "source": [
        "## **EDA**"
      ]
    },
    {
      "cell_type": "code",
      "execution_count": 84,
      "metadata": {
        "id": "4n3KnXUytFU1"
      },
      "outputs": [],
      "source": [
        "\n",
        "# EDA, or Exploratory Data Analysis, is a preliminary step in data analysis where the main is goal to understand the data and gain insights.\n",
        "# It involves techniques to visualize and examine the data, identify patterns, detect outliers, and understand the relationships between variables.\n",
        "#  EDA helps in formulating questions, selecting appropriate statistical techniques, and preparing the data for further analysis or modeling."
      ]
    },
    {
      "cell_type": "code",
      "execution_count": 85,
      "metadata": {
        "id": "H0XtR4k3uA0p"
      },
      "outputs": [],
      "source": [
        "df.drop(['Customer_ID', 'Month', 'Occupation'], axis=1, inplace=True)"
      ]
    },
    {
      "cell_type": "code",
      "execution_count": 86,
      "metadata": {
        "colab": {
          "base_uri": "https://localhost:8080/"
        },
        "id": "6AKL7VqvuTiR",
        "outputId": "1e72050d-2ea6-4e4e-8969-649cffa7af06"
      },
      "outputs": [
        {
          "name": "stdout",
          "output_type": "stream",
          "text": [
            "<class 'pandas.core.frame.DataFrame'>\n",
            "RangeIndex: 100000 entries, 0 to 99999\n",
            "Data columns (total 21 columns):\n",
            " #   Column                    Non-Null Count   Dtype   \n",
            "---  ------                    --------------   -----   \n",
            " 0   Age                       100000 non-null  float64 \n",
            " 1   Annual_Income             100000 non-null  float64 \n",
            " 2   Monthly_Inhand_Salary     100000 non-null  float64 \n",
            " 3   Num_Bank_Accounts         100000 non-null  float64 \n",
            " 4   Num_Credit_Card           100000 non-null  float64 \n",
            " 5   Num_of_Loan               100000 non-null  float64 \n",
            " 6   Delay_from_due_date       100000 non-null  int64   \n",
            " 7   Num_of_Delayed_Payment    100000 non-null  float64 \n",
            " 8   Changed_Credit_Limit      100000 non-null  float64 \n",
            " 9   Num_Credit_Inquiries      100000 non-null  float64 \n",
            " 10  Credit_Mix                100000 non-null  category\n",
            " 11  Outstanding_Debt          100000 non-null  float64 \n",
            " 12  Credit_Utilization_Ratio  100000 non-null  float64 \n",
            " 13  Credit_History_Age        100000 non-null  float64 \n",
            " 14  Payment_of_Min_Amount     100000 non-null  category\n",
            " 15  Amount_invested_monthly   100000 non-null  float64 \n",
            " 16  Payment_Behaviour         100000 non-null  category\n",
            " 17  Monthly_Balance           100000 non-null  float64 \n",
            " 18  Credit_Score              100000 non-null  category\n",
            " 19  Interest_Rate             100000 non-null  float64 \n",
            " 20  Total_EMI_per_month       100000 non-null  float64 \n",
            "dtypes: category(4), float64(16), int64(1)\n",
            "memory usage: 13.4 MB\n"
          ]
        }
      ],
      "source": [
        "df.info()"
      ]
    },
    {
      "cell_type": "code",
      "execution_count": 87,
      "metadata": {
        "colab": {
          "base_uri": "https://localhost:8080/",
          "height": 299
        },
        "id": "S5dfz0FguY5R",
        "outputId": "63545fff-1f34-433b-811f-57ab550ee8f1"
      },
      "outputs": [
        {
          "data": {
            "text/html": [
              "\n",
              "  <div id=\"df-280ac612-a1b9-413f-81f9-f0eaa688f245\">\n",
              "    <div class=\"colab-df-container\">\n",
              "      <div>\n",
              "<style scoped>\n",
              "    .dataframe tbody tr th:only-of-type {\n",
              "        vertical-align: middle;\n",
              "    }\n",
              "\n",
              "    .dataframe tbody tr th {\n",
              "        vertical-align: top;\n",
              "    }\n",
              "\n",
              "    .dataframe thead th {\n",
              "        text-align: right;\n",
              "    }\n",
              "</style>\n",
              "<table border=\"1\" class=\"dataframe\">\n",
              "  <thead>\n",
              "    <tr style=\"text-align: right;\">\n",
              "      <th></th>\n",
              "      <th>Age</th>\n",
              "      <th>Annual_Income</th>\n",
              "      <th>Monthly_Inhand_Salary</th>\n",
              "      <th>Num_Bank_Accounts</th>\n",
              "      <th>Num_Credit_Card</th>\n",
              "      <th>Num_of_Loan</th>\n",
              "      <th>Delay_from_due_date</th>\n",
              "      <th>Num_of_Delayed_Payment</th>\n",
              "      <th>Changed_Credit_Limit</th>\n",
              "      <th>Num_Credit_Inquiries</th>\n",
              "      <th>...</th>\n",
              "      <th>Outstanding_Debt</th>\n",
              "      <th>Credit_Utilization_Ratio</th>\n",
              "      <th>Credit_History_Age</th>\n",
              "      <th>Payment_of_Min_Amount</th>\n",
              "      <th>Amount_invested_monthly</th>\n",
              "      <th>Payment_Behaviour</th>\n",
              "      <th>Monthly_Balance</th>\n",
              "      <th>Credit_Score</th>\n",
              "      <th>Interest_Rate</th>\n",
              "      <th>Total_EMI_per_month</th>\n",
              "    </tr>\n",
              "  </thead>\n",
              "  <tbody>\n",
              "    <tr>\n",
              "      <th>0</th>\n",
              "      <td>23.0</td>\n",
              "      <td>19114.12</td>\n",
              "      <td>1824.843333</td>\n",
              "      <td>3.0</td>\n",
              "      <td>4.0</td>\n",
              "      <td>4.0</td>\n",
              "      <td>3</td>\n",
              "      <td>4.0</td>\n",
              "      <td>11.27</td>\n",
              "      <td>4.0</td>\n",
              "      <td>...</td>\n",
              "      <td>809.98</td>\n",
              "      <td>26.822620</td>\n",
              "      <td>265.0</td>\n",
              "      <td>No</td>\n",
              "      <td>98.35409</td>\n",
              "      <td>High_spent_Small_value_payments</td>\n",
              "      <td>304.555294</td>\n",
              "      <td>Good</td>\n",
              "      <td>3.0</td>\n",
              "      <td>49.574949</td>\n",
              "    </tr>\n",
              "    <tr>\n",
              "      <th>1</th>\n",
              "      <td>23.0</td>\n",
              "      <td>19114.12</td>\n",
              "      <td>1824.843333</td>\n",
              "      <td>3.0</td>\n",
              "      <td>4.0</td>\n",
              "      <td>4.0</td>\n",
              "      <td>-1</td>\n",
              "      <td>4.0</td>\n",
              "      <td>11.27</td>\n",
              "      <td>4.0</td>\n",
              "      <td>...</td>\n",
              "      <td>809.98</td>\n",
              "      <td>31.944960</td>\n",
              "      <td>265.0</td>\n",
              "      <td>No</td>\n",
              "      <td>98.35409</td>\n",
              "      <td>Low_spent_Large_value_payments</td>\n",
              "      <td>304.555294</td>\n",
              "      <td>Good</td>\n",
              "      <td>3.0</td>\n",
              "      <td>49.574949</td>\n",
              "    </tr>\n",
              "    <tr>\n",
              "      <th>2</th>\n",
              "      <td>23.0</td>\n",
              "      <td>19114.12</td>\n",
              "      <td>1824.843333</td>\n",
              "      <td>3.0</td>\n",
              "      <td>4.0</td>\n",
              "      <td>4.0</td>\n",
              "      <td>3</td>\n",
              "      <td>4.0</td>\n",
              "      <td>11.27</td>\n",
              "      <td>4.0</td>\n",
              "      <td>...</td>\n",
              "      <td>809.98</td>\n",
              "      <td>28.609352</td>\n",
              "      <td>267.0</td>\n",
              "      <td>No</td>\n",
              "      <td>98.35409</td>\n",
              "      <td>Low_spent_Medium_value_payments</td>\n",
              "      <td>304.555294</td>\n",
              "      <td>Good</td>\n",
              "      <td>3.0</td>\n",
              "      <td>49.574949</td>\n",
              "    </tr>\n",
              "    <tr>\n",
              "      <th>3</th>\n",
              "      <td>23.0</td>\n",
              "      <td>19114.12</td>\n",
              "      <td>1824.843333</td>\n",
              "      <td>3.0</td>\n",
              "      <td>4.0</td>\n",
              "      <td>4.0</td>\n",
              "      <td>5</td>\n",
              "      <td>4.0</td>\n",
              "      <td>11.27</td>\n",
              "      <td>4.0</td>\n",
              "      <td>...</td>\n",
              "      <td>809.98</td>\n",
              "      <td>31.377862</td>\n",
              "      <td>268.0</td>\n",
              "      <td>No</td>\n",
              "      <td>98.35409</td>\n",
              "      <td>Low_spent_Small_value_payments</td>\n",
              "      <td>304.555294</td>\n",
              "      <td>Good</td>\n",
              "      <td>3.0</td>\n",
              "      <td>49.574949</td>\n",
              "    </tr>\n",
              "    <tr>\n",
              "      <th>4</th>\n",
              "      <td>23.0</td>\n",
              "      <td>19114.12</td>\n",
              "      <td>1824.843333</td>\n",
              "      <td>3.0</td>\n",
              "      <td>4.0</td>\n",
              "      <td>4.0</td>\n",
              "      <td>6</td>\n",
              "      <td>4.0</td>\n",
              "      <td>11.27</td>\n",
              "      <td>4.0</td>\n",
              "      <td>...</td>\n",
              "      <td>809.98</td>\n",
              "      <td>24.797347</td>\n",
              "      <td>269.0</td>\n",
              "      <td>No</td>\n",
              "      <td>98.35409</td>\n",
              "      <td>High_spent_Medium_value_payments</td>\n",
              "      <td>304.555294</td>\n",
              "      <td>Good</td>\n",
              "      <td>3.0</td>\n",
              "      <td>49.574949</td>\n",
              "    </tr>\n",
              "  </tbody>\n",
              "</table>\n",
              "<p>5 rows × 21 columns</p>\n",
              "</div>\n",
              "      <button class=\"colab-df-convert\" onclick=\"convertToInteractive('df-280ac612-a1b9-413f-81f9-f0eaa688f245')\"\n",
              "              title=\"Convert this dataframe to an interactive table.\"\n",
              "              style=\"display:none;\">\n",
              "        \n",
              "  <svg xmlns=\"http://www.w3.org/2000/svg\" height=\"24px\"viewBox=\"0 0 24 24\"\n",
              "       width=\"24px\">\n",
              "    <path d=\"M0 0h24v24H0V0z\" fill=\"none\"/>\n",
              "    <path d=\"M18.56 5.44l.94 2.06.94-2.06 2.06-.94-2.06-.94-.94-2.06-.94 2.06-2.06.94zm-11 1L8.5 8.5l.94-2.06 2.06-.94-2.06-.94L8.5 2.5l-.94 2.06-2.06.94zm10 10l.94 2.06.94-2.06 2.06-.94-2.06-.94-.94-2.06-.94 2.06-2.06.94z\"/><path d=\"M17.41 7.96l-1.37-1.37c-.4-.4-.92-.59-1.43-.59-.52 0-1.04.2-1.43.59L10.3 9.45l-7.72 7.72c-.78.78-.78 2.05 0 2.83L4 21.41c.39.39.9.59 1.41.59.51 0 1.02-.2 1.41-.59l7.78-7.78 2.81-2.81c.8-.78.8-2.07 0-2.86zM5.41 20L4 18.59l7.72-7.72 1.47 1.35L5.41 20z\"/>\n",
              "  </svg>\n",
              "      </button>\n",
              "      \n",
              "  <style>\n",
              "    .colab-df-container {\n",
              "      display:flex;\n",
              "      flex-wrap:wrap;\n",
              "      gap: 12px;\n",
              "    }\n",
              "\n",
              "    .colab-df-convert {\n",
              "      background-color: #E8F0FE;\n",
              "      border: none;\n",
              "      border-radius: 50%;\n",
              "      cursor: pointer;\n",
              "      display: none;\n",
              "      fill: #1967D2;\n",
              "      height: 32px;\n",
              "      padding: 0 0 0 0;\n",
              "      width: 32px;\n",
              "    }\n",
              "\n",
              "    .colab-df-convert:hover {\n",
              "      background-color: #E2EBFA;\n",
              "      box-shadow: 0px 1px 2px rgba(60, 64, 67, 0.3), 0px 1px 3px 1px rgba(60, 64, 67, 0.15);\n",
              "      fill: #174EA6;\n",
              "    }\n",
              "\n",
              "    [theme=dark] .colab-df-convert {\n",
              "      background-color: #3B4455;\n",
              "      fill: #D2E3FC;\n",
              "    }\n",
              "\n",
              "    [theme=dark] .colab-df-convert:hover {\n",
              "      background-color: #434B5C;\n",
              "      box-shadow: 0px 1px 3px 1px rgba(0, 0, 0, 0.15);\n",
              "      filter: drop-shadow(0px 1px 2px rgba(0, 0, 0, 0.3));\n",
              "      fill: #FFFFFF;\n",
              "    }\n",
              "  </style>\n",
              "\n",
              "      <script>\n",
              "        const buttonEl =\n",
              "          document.querySelector('#df-280ac612-a1b9-413f-81f9-f0eaa688f245 button.colab-df-convert');\n",
              "        buttonEl.style.display =\n",
              "          google.colab.kernel.accessAllowed ? 'block' : 'none';\n",
              "\n",
              "        async function convertToInteractive(key) {\n",
              "          const element = document.querySelector('#df-280ac612-a1b9-413f-81f9-f0eaa688f245');\n",
              "          const dataTable =\n",
              "            await google.colab.kernel.invokeFunction('convertToInteractive',\n",
              "                                                     [key], {});\n",
              "          if (!dataTable) return;\n",
              "\n",
              "          const docLinkHtml = 'Like what you see? Visit the ' +\n",
              "            '<a target=\"_blank\" href=https://colab.research.google.com/notebooks/data_table.ipynb>data table notebook</a>'\n",
              "            + ' to learn more about interactive tables.';\n",
              "          element.innerHTML = '';\n",
              "          dataTable['output_type'] = 'display_data';\n",
              "          await google.colab.output.renderOutput(dataTable, element);\n",
              "          const docLink = document.createElement('div');\n",
              "          docLink.innerHTML = docLinkHtml;\n",
              "          element.appendChild(docLink);\n",
              "        }\n",
              "      </script>\n",
              "    </div>\n",
              "  </div>\n",
              "  "
            ],
            "text/plain": [
              "    Age  Annual_Income  Monthly_Inhand_Salary  Num_Bank_Accounts  \\\n",
              "0  23.0       19114.12            1824.843333                3.0   \n",
              "1  23.0       19114.12            1824.843333                3.0   \n",
              "2  23.0       19114.12            1824.843333                3.0   \n",
              "3  23.0       19114.12            1824.843333                3.0   \n",
              "4  23.0       19114.12            1824.843333                3.0   \n",
              "\n",
              "   Num_Credit_Card  Num_of_Loan  Delay_from_due_date  Num_of_Delayed_Payment  \\\n",
              "0              4.0          4.0                    3                     4.0   \n",
              "1              4.0          4.0                   -1                     4.0   \n",
              "2              4.0          4.0                    3                     4.0   \n",
              "3              4.0          4.0                    5                     4.0   \n",
              "4              4.0          4.0                    6                     4.0   \n",
              "\n",
              "   Changed_Credit_Limit  Num_Credit_Inquiries  ... Outstanding_Debt  \\\n",
              "0                 11.27                   4.0  ...           809.98   \n",
              "1                 11.27                   4.0  ...           809.98   \n",
              "2                 11.27                   4.0  ...           809.98   \n",
              "3                 11.27                   4.0  ...           809.98   \n",
              "4                 11.27                   4.0  ...           809.98   \n",
              "\n",
              "   Credit_Utilization_Ratio  Credit_History_Age  Payment_of_Min_Amount  \\\n",
              "0                 26.822620               265.0                     No   \n",
              "1                 31.944960               265.0                     No   \n",
              "2                 28.609352               267.0                     No   \n",
              "3                 31.377862               268.0                     No   \n",
              "4                 24.797347               269.0                     No   \n",
              "\n",
              "  Amount_invested_monthly                 Payment_Behaviour Monthly_Balance  \\\n",
              "0                98.35409   High_spent_Small_value_payments      304.555294   \n",
              "1                98.35409    Low_spent_Large_value_payments      304.555294   \n",
              "2                98.35409   Low_spent_Medium_value_payments      304.555294   \n",
              "3                98.35409    Low_spent_Small_value_payments      304.555294   \n",
              "4                98.35409  High_spent_Medium_value_payments      304.555294   \n",
              "\n",
              "   Credit_Score Interest_Rate  Total_EMI_per_month  \n",
              "0          Good           3.0            49.574949  \n",
              "1          Good           3.0            49.574949  \n",
              "2          Good           3.0            49.574949  \n",
              "3          Good           3.0            49.574949  \n",
              "4          Good           3.0            49.574949  \n",
              "\n",
              "[5 rows x 21 columns]"
            ]
          },
          "execution_count": 87,
          "metadata": {},
          "output_type": "execute_result"
        }
      ],
      "source": [
        "df.head()"
      ]
    },
    {
      "cell_type": "code",
      "execution_count": 88,
      "metadata": {
        "colab": {
          "base_uri": "https://localhost:8080/",
          "height": 364
        },
        "id": "VPv62o6huegx",
        "outputId": "19f5d7cd-7f05-4d0f-8c4f-0da239841360"
      },
      "outputs": [
        {
          "data": {
            "text/html": [
              "\n",
              "  <div id=\"df-2be615a6-5f83-4771-ab2a-1a73657daa3a\">\n",
              "    <div class=\"colab-df-container\">\n",
              "      <div>\n",
              "<style scoped>\n",
              "    .dataframe tbody tr th:only-of-type {\n",
              "        vertical-align: middle;\n",
              "    }\n",
              "\n",
              "    .dataframe tbody tr th {\n",
              "        vertical-align: top;\n",
              "    }\n",
              "\n",
              "    .dataframe thead th {\n",
              "        text-align: right;\n",
              "    }\n",
              "</style>\n",
              "<table border=\"1\" class=\"dataframe\">\n",
              "  <thead>\n",
              "    <tr style=\"text-align: right;\">\n",
              "      <th></th>\n",
              "      <th>Age</th>\n",
              "      <th>Annual_Income</th>\n",
              "      <th>Monthly_Inhand_Salary</th>\n",
              "      <th>Num_Bank_Accounts</th>\n",
              "      <th>Num_Credit_Card</th>\n",
              "      <th>Num_of_Loan</th>\n",
              "      <th>Delay_from_due_date</th>\n",
              "      <th>Num_of_Delayed_Payment</th>\n",
              "      <th>Changed_Credit_Limit</th>\n",
              "      <th>Num_Credit_Inquiries</th>\n",
              "      <th>Outstanding_Debt</th>\n",
              "      <th>Credit_Utilization_Ratio</th>\n",
              "      <th>Credit_History_Age</th>\n",
              "      <th>Amount_invested_monthly</th>\n",
              "      <th>Monthly_Balance</th>\n",
              "      <th>Interest_Rate</th>\n",
              "      <th>Total_EMI_per_month</th>\n",
              "    </tr>\n",
              "  </thead>\n",
              "  <tbody>\n",
              "    <tr>\n",
              "      <th>count</th>\n",
              "      <td>100000.000000</td>\n",
              "      <td>1.000000e+05</td>\n",
              "      <td>100000.000000</td>\n",
              "      <td>100000.000000</td>\n",
              "      <td>100000.000000</td>\n",
              "      <td>100000.000000</td>\n",
              "      <td>100000.000000</td>\n",
              "      <td>100000.000000</td>\n",
              "      <td>100000.000000</td>\n",
              "      <td>100000.000000</td>\n",
              "      <td>100000.000000</td>\n",
              "      <td>100000.000000</td>\n",
              "      <td>100000.000000</td>\n",
              "      <td>100000.000000</td>\n",
              "      <td>100000.000000</td>\n",
              "      <td>100000.000000</td>\n",
              "      <td>100000.000000</td>\n",
              "    </tr>\n",
              "    <tr>\n",
              "      <th>mean</th>\n",
              "      <td>33.274560</td>\n",
              "      <td>1.764157e+05</td>\n",
              "      <td>4198.468568</td>\n",
              "      <td>5.367840</td>\n",
              "      <td>5.532320</td>\n",
              "      <td>3.532880</td>\n",
              "      <td>21.068780</td>\n",
              "      <td>13.262720</td>\n",
              "      <td>10.393543</td>\n",
              "      <td>5.794600</td>\n",
              "      <td>1426.220376</td>\n",
              "      <td>32.285173</td>\n",
              "      <td>221.136220</td>\n",
              "      <td>195.751837</td>\n",
              "      <td>403.120320</td>\n",
              "      <td>12.489280</td>\n",
              "      <td>105.543371</td>\n",
              "    </tr>\n",
              "    <tr>\n",
              "      <th>std</th>\n",
              "      <td>10.764438</td>\n",
              "      <td>1.429618e+06</td>\n",
              "      <td>3187.031426</td>\n",
              "      <td>2.592597</td>\n",
              "      <td>2.066543</td>\n",
              "      <td>2.446356</td>\n",
              "      <td>14.860104</td>\n",
              "      <td>6.200852</td>\n",
              "      <td>6.512529</td>\n",
              "      <td>3.831618</td>\n",
              "      <td>1155.129026</td>\n",
              "      <td>5.116875</td>\n",
              "      <td>99.680454</td>\n",
              "      <td>136.842331</td>\n",
              "      <td>175.470745</td>\n",
              "      <td>8.072728</td>\n",
              "      <td>125.810030</td>\n",
              "    </tr>\n",
              "    <tr>\n",
              "      <th>min</th>\n",
              "      <td>14.000000</td>\n",
              "      <td>7.005930e+03</td>\n",
              "      <td>303.645417</td>\n",
              "      <td>0.000000</td>\n",
              "      <td>0.000000</td>\n",
              "      <td>0.000000</td>\n",
              "      <td>-5.000000</td>\n",
              "      <td>0.000000</td>\n",
              "      <td>-5.010000</td>\n",
              "      <td>0.000000</td>\n",
              "      <td>0.230000</td>\n",
              "      <td>20.000000</td>\n",
              "      <td>1.000000</td>\n",
              "      <td>14.528879</td>\n",
              "      <td>92.841401</td>\n",
              "      <td>0.000000</td>\n",
              "      <td>0.000000</td>\n",
              "    </tr>\n",
              "    <tr>\n",
              "      <th>25%</th>\n",
              "      <td>24.000000</td>\n",
              "      <td>1.945750e+04</td>\n",
              "      <td>1625.744479</td>\n",
              "      <td>3.000000</td>\n",
              "      <td>4.000000</td>\n",
              "      <td>2.000000</td>\n",
              "      <td>10.000000</td>\n",
              "      <td>9.000000</td>\n",
              "      <td>5.500000</td>\n",
              "      <td>3.000000</td>\n",
              "      <td>566.072500</td>\n",
              "      <td>28.052567</td>\n",
              "      <td>144.000000</td>\n",
              "      <td>97.690749</td>\n",
              "      <td>284.546710</td>\n",
              "      <td>6.000000</td>\n",
              "      <td>29.049047</td>\n",
              "    </tr>\n",
              "    <tr>\n",
              "      <th>50%</th>\n",
              "      <td>33.000000</td>\n",
              "      <td>3.757861e+04</td>\n",
              "      <td>3097.016667</td>\n",
              "      <td>5.000000</td>\n",
              "      <td>5.000000</td>\n",
              "      <td>3.000000</td>\n",
              "      <td>18.000000</td>\n",
              "      <td>14.000000</td>\n",
              "      <td>9.340000</td>\n",
              "      <td>5.000000</td>\n",
              "      <td>1166.155000</td>\n",
              "      <td>32.305784</td>\n",
              "      <td>219.000000</td>\n",
              "      <td>152.081485</td>\n",
              "      <td>338.491580</td>\n",
              "      <td>11.000000</td>\n",
              "      <td>66.033915</td>\n",
              "    </tr>\n",
              "    <tr>\n",
              "      <th>75%</th>\n",
              "      <td>42.000000</td>\n",
              "      <td>7.279092e+04</td>\n",
              "      <td>5961.664375</td>\n",
              "      <td>7.000000</td>\n",
              "      <td>7.000000</td>\n",
              "      <td>5.000000</td>\n",
              "      <td>28.000000</td>\n",
              "      <td>18.000000</td>\n",
              "      <td>14.672500</td>\n",
              "      <td>8.500000</td>\n",
              "      <td>1945.962500</td>\n",
              "      <td>36.496663</td>\n",
              "      <td>302.000000</td>\n",
              "      <td>257.566585</td>\n",
              "      <td>465.372970</td>\n",
              "      <td>18.000000</td>\n",
              "      <td>145.582332</td>\n",
              "    </tr>\n",
              "    <tr>\n",
              "      <th>max</th>\n",
              "      <td>56.000000</td>\n",
              "      <td>2.419806e+07</td>\n",
              "      <td>15204.633333</td>\n",
              "      <td>10.000000</td>\n",
              "      <td>10.000000</td>\n",
              "      <td>9.000000</td>\n",
              "      <td>67.000000</td>\n",
              "      <td>28.000000</td>\n",
              "      <td>29.980000</td>\n",
              "      <td>17.000000</td>\n",
              "      <td>4998.070000</td>\n",
              "      <td>50.000000</td>\n",
              "      <td>404.000000</td>\n",
              "      <td>1005.847285</td>\n",
              "      <td>1349.264887</td>\n",
              "      <td>30.000000</td>\n",
              "      <td>1779.103254</td>\n",
              "    </tr>\n",
              "  </tbody>\n",
              "</table>\n",
              "</div>\n",
              "      <button class=\"colab-df-convert\" onclick=\"convertToInteractive('df-2be615a6-5f83-4771-ab2a-1a73657daa3a')\"\n",
              "              title=\"Convert this dataframe to an interactive table.\"\n",
              "              style=\"display:none;\">\n",
              "        \n",
              "  <svg xmlns=\"http://www.w3.org/2000/svg\" height=\"24px\"viewBox=\"0 0 24 24\"\n",
              "       width=\"24px\">\n",
              "    <path d=\"M0 0h24v24H0V0z\" fill=\"none\"/>\n",
              "    <path d=\"M18.56 5.44l.94 2.06.94-2.06 2.06-.94-2.06-.94-.94-2.06-.94 2.06-2.06.94zm-11 1L8.5 8.5l.94-2.06 2.06-.94-2.06-.94L8.5 2.5l-.94 2.06-2.06.94zm10 10l.94 2.06.94-2.06 2.06-.94-2.06-.94-.94-2.06-.94 2.06-2.06.94z\"/><path d=\"M17.41 7.96l-1.37-1.37c-.4-.4-.92-.59-1.43-.59-.52 0-1.04.2-1.43.59L10.3 9.45l-7.72 7.72c-.78.78-.78 2.05 0 2.83L4 21.41c.39.39.9.59 1.41.59.51 0 1.02-.2 1.41-.59l7.78-7.78 2.81-2.81c.8-.78.8-2.07 0-2.86zM5.41 20L4 18.59l7.72-7.72 1.47 1.35L5.41 20z\"/>\n",
              "  </svg>\n",
              "      </button>\n",
              "      \n",
              "  <style>\n",
              "    .colab-df-container {\n",
              "      display:flex;\n",
              "      flex-wrap:wrap;\n",
              "      gap: 12px;\n",
              "    }\n",
              "\n",
              "    .colab-df-convert {\n",
              "      background-color: #E8F0FE;\n",
              "      border: none;\n",
              "      border-radius: 50%;\n",
              "      cursor: pointer;\n",
              "      display: none;\n",
              "      fill: #1967D2;\n",
              "      height: 32px;\n",
              "      padding: 0 0 0 0;\n",
              "      width: 32px;\n",
              "    }\n",
              "\n",
              "    .colab-df-convert:hover {\n",
              "      background-color: #E2EBFA;\n",
              "      box-shadow: 0px 1px 2px rgba(60, 64, 67, 0.3), 0px 1px 3px 1px rgba(60, 64, 67, 0.15);\n",
              "      fill: #174EA6;\n",
              "    }\n",
              "\n",
              "    [theme=dark] .colab-df-convert {\n",
              "      background-color: #3B4455;\n",
              "      fill: #D2E3FC;\n",
              "    }\n",
              "\n",
              "    [theme=dark] .colab-df-convert:hover {\n",
              "      background-color: #434B5C;\n",
              "      box-shadow: 0px 1px 3px 1px rgba(0, 0, 0, 0.15);\n",
              "      filter: drop-shadow(0px 1px 2px rgba(0, 0, 0, 0.3));\n",
              "      fill: #FFFFFF;\n",
              "    }\n",
              "  </style>\n",
              "\n",
              "      <script>\n",
              "        const buttonEl =\n",
              "          document.querySelector('#df-2be615a6-5f83-4771-ab2a-1a73657daa3a button.colab-df-convert');\n",
              "        buttonEl.style.display =\n",
              "          google.colab.kernel.accessAllowed ? 'block' : 'none';\n",
              "\n",
              "        async function convertToInteractive(key) {\n",
              "          const element = document.querySelector('#df-2be615a6-5f83-4771-ab2a-1a73657daa3a');\n",
              "          const dataTable =\n",
              "            await google.colab.kernel.invokeFunction('convertToInteractive',\n",
              "                                                     [key], {});\n",
              "          if (!dataTable) return;\n",
              "\n",
              "          const docLinkHtml = 'Like what you see? Visit the ' +\n",
              "            '<a target=\"_blank\" href=https://colab.research.google.com/notebooks/data_table.ipynb>data table notebook</a>'\n",
              "            + ' to learn more about interactive tables.';\n",
              "          element.innerHTML = '';\n",
              "          dataTable['output_type'] = 'display_data';\n",
              "          await google.colab.output.renderOutput(dataTable, element);\n",
              "          const docLink = document.createElement('div');\n",
              "          docLink.innerHTML = docLinkHtml;\n",
              "          element.appendChild(docLink);\n",
              "        }\n",
              "      </script>\n",
              "    </div>\n",
              "  </div>\n",
              "  "
            ],
            "text/plain": [
              "                 Age  Annual_Income  Monthly_Inhand_Salary  Num_Bank_Accounts  \\\n",
              "count  100000.000000   1.000000e+05          100000.000000      100000.000000   \n",
              "mean       33.274560   1.764157e+05            4198.468568           5.367840   \n",
              "std        10.764438   1.429618e+06            3187.031426           2.592597   \n",
              "min        14.000000   7.005930e+03             303.645417           0.000000   \n",
              "25%        24.000000   1.945750e+04            1625.744479           3.000000   \n",
              "50%        33.000000   3.757861e+04            3097.016667           5.000000   \n",
              "75%        42.000000   7.279092e+04            5961.664375           7.000000   \n",
              "max        56.000000   2.419806e+07           15204.633333          10.000000   \n",
              "\n",
              "       Num_Credit_Card    Num_of_Loan  Delay_from_due_date  \\\n",
              "count    100000.000000  100000.000000        100000.000000   \n",
              "mean          5.532320       3.532880            21.068780   \n",
              "std           2.066543       2.446356            14.860104   \n",
              "min           0.000000       0.000000            -5.000000   \n",
              "25%           4.000000       2.000000            10.000000   \n",
              "50%           5.000000       3.000000            18.000000   \n",
              "75%           7.000000       5.000000            28.000000   \n",
              "max          10.000000       9.000000            67.000000   \n",
              "\n",
              "       Num_of_Delayed_Payment  Changed_Credit_Limit  Num_Credit_Inquiries  \\\n",
              "count           100000.000000         100000.000000         100000.000000   \n",
              "mean                13.262720             10.393543              5.794600   \n",
              "std                  6.200852              6.512529              3.831618   \n",
              "min                  0.000000             -5.010000              0.000000   \n",
              "25%                  9.000000              5.500000              3.000000   \n",
              "50%                 14.000000              9.340000              5.000000   \n",
              "75%                 18.000000             14.672500              8.500000   \n",
              "max                 28.000000             29.980000             17.000000   \n",
              "\n",
              "       Outstanding_Debt  Credit_Utilization_Ratio  Credit_History_Age  \\\n",
              "count     100000.000000             100000.000000       100000.000000   \n",
              "mean        1426.220376                 32.285173          221.136220   \n",
              "std         1155.129026                  5.116875           99.680454   \n",
              "min            0.230000                 20.000000            1.000000   \n",
              "25%          566.072500                 28.052567          144.000000   \n",
              "50%         1166.155000                 32.305784          219.000000   \n",
              "75%         1945.962500                 36.496663          302.000000   \n",
              "max         4998.070000                 50.000000          404.000000   \n",
              "\n",
              "       Amount_invested_monthly  Monthly_Balance  Interest_Rate  \\\n",
              "count            100000.000000    100000.000000  100000.000000   \n",
              "mean                195.751837       403.120320      12.489280   \n",
              "std                 136.842331       175.470745       8.072728   \n",
              "min                  14.528879        92.841401       0.000000   \n",
              "25%                  97.690749       284.546710       6.000000   \n",
              "50%                 152.081485       338.491580      11.000000   \n",
              "75%                 257.566585       465.372970      18.000000   \n",
              "max                1005.847285      1349.264887      30.000000   \n",
              "\n",
              "       Total_EMI_per_month  \n",
              "count        100000.000000  \n",
              "mean            105.543371  \n",
              "std             125.810030  \n",
              "min               0.000000  \n",
              "25%              29.049047  \n",
              "50%              66.033915  \n",
              "75%             145.582332  \n",
              "max            1779.103254  "
            ]
          },
          "execution_count": 88,
          "metadata": {},
          "output_type": "execute_result"
        }
      ],
      "source": [
        "df.describe()"
      ]
    },
    {
      "cell_type": "code",
      "execution_count": 89,
      "metadata": {
        "id": "3B9czaFbuhNM"
      },
      "outputs": [],
      "source": [
        "cols = ['Annual_Income', 'Monthly_Inhand_Salary', 'Delay_from_due_date', 'Changed_Credit_Limit', 'Num_Credit_Inquiries', 'Outstanding_Debt', 'Credit_Utilization_Ratio',\n",
        "        'Credit_History_Age', 'Amount_invested_monthly', 'Monthly_Balance', 'Interest_Rate', 'Total_EMI_per_month']"
      ]
    },
    {
      "cell_type": "code",
      "execution_count": 90,
      "metadata": {
        "colab": {
          "base_uri": "https://localhost:8080/"
        },
        "id": "ejQODTnmwNIf",
        "outputId": "f7fe738b-c27b-4a53-eb3f-0e76331c0195"
      },
      "outputs": [
        {
          "data": {
            "text/plain": [
              "12"
            ]
          },
          "execution_count": 90,
          "metadata": {},
          "output_type": "execute_result"
        }
      ],
      "source": [
        "len(cols)"
      ]
    },
    {
      "cell_type": "markdown",
      "metadata": {
        "id": "4zxY8vlgx4V-"
      },
      "source": [
        "**Outlier**"
      ]
    },
    {
      "cell_type": "code",
      "execution_count": 91,
      "metadata": {
        "id": "ff0Mf3tswR9q"
      },
      "outputs": [],
      "source": [
        "cat_df = df.select_dtypes('category')\n",
        "num_df = df.select_dtypes(exclude='category')"
      ]
    },
    {
      "cell_type": "code",
      "execution_count": 92,
      "metadata": {
        "id": "4NbvKBU3yZeb"
      },
      "outputs": [],
      "source": [
        "a1 = ['Age', 'Num_Bank_Accounts', 'Num_Credit_Card', 'Num_of_Loan', 'Delay_from_due_date', 'Num_of_Delayed_Payment', 'Changed_Credit_Limit', 'Num_Credit_Inquiries']\n",
        "a2 = ['Credit_Utilization_Ratio', 'Credit_History_Age']\n",
        "a3 = ['Amount_invested_monthly', 'Monthly_Balance', 'Interest_Rate', 'Total_EMI_per_month']\n",
        "a4 = ['Monthly_Inhand_Salary', 'Outstanding_Debt']"
      ]
    },
    {
      "cell_type": "code",
      "execution_count": 93,
      "metadata": {
        "colab": {
          "base_uri": "https://localhost:8080/",
          "height": 818
        },
        "id": "gZOf-GQGyy-7",
        "outputId": "32615a29-4ad5-4a12-8d70-ea5e3a492cc2"
      },
      "outputs": [
        {
          "data": {
            "image/png": "[encoded data removed]",
            "text/plain": [
              "<Figure size 2000x1000 with 1 Axes>"
            ]
          },
          "metadata": {},
          "output_type": "display_data"
        }
      ],
      "source": [
        "plt.figure(figsize=(20,10))\n",
        "sns.boxplot(df[a1])\n",
        "plt.xticks(rotation=30)\n",
        "plt.show()"
      ]
    },
    {
      "cell_type": "code",
      "execution_count": 94,
      "metadata": {
        "colab": {
          "base_uri": "https://localhost:8080/",
          "height": 524
        },
        "id": "qWrHmVGcy2SP",
        "outputId": "177b55b6-af7e-4883-e3b9-ebd558091b23"
      },
      "outputs": [
        {
          "data": {
            "image/png": "[encoded data removed]",
            "text/plain": [
              "<Figure size 1000x500 with 1 Axes>"
            ]
          },
          "metadata": {},
          "output_type": "display_data"
        }
      ],
      "source": [
        "plt.figure(figsize=(10,5))\n",
        "sns.boxplot(df[a2])\n",
        "plt.xticks(rotation=30)\n",
        "plt.show()"
      ]
    },
    {
      "cell_type": "code",
      "execution_count": 95,
      "metadata": {
        "colab": {
          "base_uri": "https://localhost:8080/",
          "height": 809
        },
        "id": "PyZ-zuNxy5bn",
        "outputId": "bba4ad3b-3444-4cb5-88c1-c403155c3c40"
      },
      "outputs": [
        {
          "data": {
            "image/png": "[encoded data removed]",
            "text/plain": [
              "<Figure size 2000x1000 with 1 Axes>"
            ]
          },
          "metadata": {},
          "output_type": "display_data"
        }
      ],
      "source": [
        "plt.figure(figsize=(20,10))\n",
        "sns.boxplot(df[a3])\n",
        "plt.xticks(rotation=30)\n",
        "plt.show()"
      ]
    },
    {
      "cell_type": "code",
      "execution_count": 96,
      "metadata": {
        "colab": {
          "base_uri": "https://localhost:8080/",
          "height": 459
        },
        "id": "csO3bGJXy7OS",
        "outputId": "f18a9f25-9350-4dd5-b1da-96dcb0d3689a"
      },
      "outputs": [
        {
          "data": {
            "image/png": "[encoded data removed]",
            "text/plain": [
              "<Figure size 2000x500 with 1 Axes>"
            ]
          },
          "metadata": {},
          "output_type": "display_data"
        }
      ],
      "source": [
        "plt.figure(figsize=(20,5))\n",
        "sns.boxplot(df[a4])\n",
        "plt.xticks(rotation=30)\n",
        "plt.show()"
      ]
    },
    {
      "cell_type": "code",
      "execution_count": 97,
      "metadata": {
        "id": "JXLQH3EUy9nc"
      },
      "outputs": [],
      "source": [
        "\n",
        "\n",
        "# This code defines a function called 'remove_out' that takes three parameters:\n",
        "# 'df_clean' (the DataFrame to be cleaned), 'num_cols' (a list of numerical columns in the DataFrame), and optional parameters\n",
        "# 'lbv ('lower bound value) and 'hbv' (upper) value bound with default values of 0.25 and 0.75 respectively.\n",
        "# Inside the function, it calculates the first quartile (Q1), third quartile (Q3), and interquartile range (IQR) for each numerical column specified in 'num_cols'.\n",
        "#  It then calculates the lower bound (lb) and upper bound (hb) for outlier detection using the formula Q11-.5IQR and Q3+1.5IQR respectively.\n",
        "# Next, it iterates over each numerical column and filters the DataFrame 'df_clean' to remove rows where the values\n",
        "#  in that column are outside the range defined by the lower bound (lb) and upper bound (hb).\n",
        "# Finally, it returns the cleaned DataFrame_cleandf '' after removing the outliers."
      ]
    },
    {
      "cell_type": "code",
      "execution_count": 98,
      "metadata": {
        "id": "cr_KxY201zEY"
      },
      "outputs": [],
      "source": [
        "def remove_out(df_clean, num_cols, lbv=0.25, hbv=0.75):\n",
        "    Q1 = df_clean[num_cols].quantile(lbv)\n",
        "    Q3 = df_clean[num_cols].quantile(hbv)\n",
        "    IQR = Q3-Q1\n",
        "    lb = Q1-1.5*IQR\n",
        "    hb = Q3+1.5*IQR\n",
        "    for i in num_cols:\n",
        "        df_clean = df_clean[(df_clean[i]>=lb[i]) & (df_clean[i]<=hb[i])]\n",
        "    return df_clean"
      ]
    },
    {
      "cell_type": "code",
      "execution_count": 99,
      "metadata": {
        "id": "gDTr6dDo07Ha"
      },
      "outputs": [],
      "source": [
        "cols = ['Age', 'Monthly_Inhand_Salary', 'Num_Bank_Accounts', 'Num_Credit_Card', 'Num_of_Loan',\n",
        "        'Delay_from_due_date', 'Num_of_Delayed_Payment', 'Changed_Credit_Limit', 'Num_Credit_Inquiries', 'Outstanding_Debt', 'Credit_Utilization_Ratio', 'Credit_History_Age',\n",
        "        'Amount_invested_monthly', 'Monthly_Balance', 'Interest_Rate', 'Annual_Income']"
      ]
    },
    {
      "cell_type": "code",
      "execution_count": 100,
      "metadata": {
        "colab": {
          "base_uri": "https://localhost:8080/"
        },
        "id": "Ze5V9f3-1usB",
        "outputId": "5b1ad902-bc84-4454-d1f1-3cc2563d6960"
      },
      "outputs": [
        {
          "data": {
            "text/plain": [
              "(98826, 21)"
            ]
          },
          "execution_count": 100,
          "metadata": {},
          "output_type": "execute_result"
        }
      ],
      "source": [
        "df = remove_out(df, cols, lbv=0.2, hbv=0.9)\n",
        "df.shape"
      ]
    },
    {
      "cell_type": "code",
      "execution_count": 101,
      "metadata": {
        "colab": {
          "base_uri": "https://localhost:8080/",
          "height": 299
        },
        "id": "nMhMCrWs1xNr",
        "outputId": "6e979e16-bc57-4766-925b-1e45c8ac74d0"
      },
      "outputs": [
        {
          "data": {
            "text/html": [
              "\n",
              "  <div id=\"df-29d7456d-844b-49bc-a016-083638433116\">\n",
              "    <div class=\"colab-df-container\">\n",
              "      <div>\n",
              "<style scoped>\n",
              "    .dataframe tbody tr th:only-of-type {\n",
              "        vertical-align: middle;\n",
              "    }\n",
              "\n",
              "    .dataframe tbody tr th {\n",
              "        vertical-align: top;\n",
              "    }\n",
              "\n",
              "    .dataframe thead th {\n",
              "        text-align: right;\n",
              "    }\n",
              "</style>\n",
              "<table border=\"1\" class=\"dataframe\">\n",
              "  <thead>\n",
              "    <tr style=\"text-align: right;\">\n",
              "      <th></th>\n",
              "      <th>Age</th>\n",
              "      <th>Annual_Income</th>\n",
              "      <th>Monthly_Inhand_Salary</th>\n",
              "      <th>Num_Bank_Accounts</th>\n",
              "      <th>Num_Credit_Card</th>\n",
              "      <th>Num_of_Loan</th>\n",
              "      <th>Delay_from_due_date</th>\n",
              "      <th>Num_of_Delayed_Payment</th>\n",
              "      <th>Changed_Credit_Limit</th>\n",
              "      <th>Num_Credit_Inquiries</th>\n",
              "      <th>...</th>\n",
              "      <th>Outstanding_Debt</th>\n",
              "      <th>Credit_Utilization_Ratio</th>\n",
              "      <th>Credit_History_Age</th>\n",
              "      <th>Payment_of_Min_Amount</th>\n",
              "      <th>Amount_invested_monthly</th>\n",
              "      <th>Payment_Behaviour</th>\n",
              "      <th>Monthly_Balance</th>\n",
              "      <th>Credit_Score</th>\n",
              "      <th>Interest_Rate</th>\n",
              "      <th>Total_EMI_per_month</th>\n",
              "    </tr>\n",
              "  </thead>\n",
              "  <tbody>\n",
              "    <tr>\n",
              "      <th>0</th>\n",
              "      <td>23.0</td>\n",
              "      <td>19114.12</td>\n",
              "      <td>1824.843333</td>\n",
              "      <td>3.0</td>\n",
              "      <td>4.0</td>\n",
              "      <td>4.0</td>\n",
              "      <td>3</td>\n",
              "      <td>4.0</td>\n",
              "      <td>11.27</td>\n",
              "      <td>4.0</td>\n",
              "      <td>...</td>\n",
              "      <td>809.98</td>\n",
              "      <td>26.822620</td>\n",
              "      <td>265.0</td>\n",
              "      <td>No</td>\n",
              "      <td>98.35409</td>\n",
              "      <td>High_spent_Small_value_payments</td>\n",
              "      <td>304.555294</td>\n",
              "      <td>Good</td>\n",
              "      <td>3.0</td>\n",
              "      <td>49.574949</td>\n",
              "    </tr>\n",
              "    <tr>\n",
              "      <th>1</th>\n",
              "      <td>23.0</td>\n",
              "      <td>19114.12</td>\n",
              "      <td>1824.843333</td>\n",
              "      <td>3.0</td>\n",
              "      <td>4.0</td>\n",
              "      <td>4.0</td>\n",
              "      <td>-1</td>\n",
              "      <td>4.0</td>\n",
              "      <td>11.27</td>\n",
              "      <td>4.0</td>\n",
              "      <td>...</td>\n",
              "      <td>809.98</td>\n",
              "      <td>31.944960</td>\n",
              "      <td>265.0</td>\n",
              "      <td>No</td>\n",
              "      <td>98.35409</td>\n",
              "      <td>Low_spent_Large_value_payments</td>\n",
              "      <td>304.555294</td>\n",
              "      <td>Good</td>\n",
              "      <td>3.0</td>\n",
              "      <td>49.574949</td>\n",
              "    </tr>\n",
              "    <tr>\n",
              "      <th>2</th>\n",
              "      <td>23.0</td>\n",
              "      <td>19114.12</td>\n",
              "      <td>1824.843333</td>\n",
              "      <td>3.0</td>\n",
              "      <td>4.0</td>\n",
              "      <td>4.0</td>\n",
              "      <td>3</td>\n",
              "      <td>4.0</td>\n",
              "      <td>11.27</td>\n",
              "      <td>4.0</td>\n",
              "      <td>...</td>\n",
              "      <td>809.98</td>\n",
              "      <td>28.609352</td>\n",
              "      <td>267.0</td>\n",
              "      <td>No</td>\n",
              "      <td>98.35409</td>\n",
              "      <td>Low_spent_Medium_value_payments</td>\n",
              "      <td>304.555294</td>\n",
              "      <td>Good</td>\n",
              "      <td>3.0</td>\n",
              "      <td>49.574949</td>\n",
              "    </tr>\n",
              "    <tr>\n",
              "      <th>3</th>\n",
              "      <td>23.0</td>\n",
              "      <td>19114.12</td>\n",
              "      <td>1824.843333</td>\n",
              "      <td>3.0</td>\n",
              "      <td>4.0</td>\n",
              "      <td>4.0</td>\n",
              "      <td>5</td>\n",
              "      <td>4.0</td>\n",
              "      <td>11.27</td>\n",
              "      <td>4.0</td>\n",
              "      <td>...</td>\n",
              "      <td>809.98</td>\n",
              "      <td>31.377862</td>\n",
              "      <td>268.0</td>\n",
              "      <td>No</td>\n",
              "      <td>98.35409</td>\n",
              "      <td>Low_spent_Small_value_payments</td>\n",
              "      <td>304.555294</td>\n",
              "      <td>Good</td>\n",
              "      <td>3.0</td>\n",
              "      <td>49.574949</td>\n",
              "    </tr>\n",
              "    <tr>\n",
              "      <th>4</th>\n",
              "      <td>23.0</td>\n",
              "      <td>19114.12</td>\n",
              "      <td>1824.843333</td>\n",
              "      <td>3.0</td>\n",
              "      <td>4.0</td>\n",
              "      <td>4.0</td>\n",
              "      <td>6</td>\n",
              "      <td>4.0</td>\n",
              "      <td>11.27</td>\n",
              "      <td>4.0</td>\n",
              "      <td>...</td>\n",
              "      <td>809.98</td>\n",
              "      <td>24.797347</td>\n",
              "      <td>269.0</td>\n",
              "      <td>No</td>\n",
              "      <td>98.35409</td>\n",
              "      <td>High_spent_Medium_value_payments</td>\n",
              "      <td>304.555294</td>\n",
              "      <td>Good</td>\n",
              "      <td>3.0</td>\n",
              "      <td>49.574949</td>\n",
              "    </tr>\n",
              "  </tbody>\n",
              "</table>\n",
              "<p>5 rows × 21 columns</p>\n",
              "</div>\n",
              "      <button class=\"colab-df-convert\" onclick=\"convertToInteractive('df-29d7456d-844b-49bc-a016-083638433116')\"\n",
              "              title=\"Convert this dataframe to an interactive table.\"\n",
              "              style=\"display:none;\">\n",
              "        \n",
              "  <svg xmlns=\"http://www.w3.org/2000/svg\" height=\"24px\"viewBox=\"0 0 24 24\"\n",
              "       width=\"24px\">\n",
              "    <path d=\"M0 0h24v24H0V0z\" fill=\"none\"/>\n",
              "    <path d=\"M18.56 5.44l.94 2.06.94-2.06 2.06-.94-2.06-.94-.94-2.06-.94 2.06-2.06.94zm-11 1L8.5 8.5l.94-2.06 2.06-.94-2.06-.94L8.5 2.5l-.94 2.06-2.06.94zm10 10l.94 2.06.94-2.06 2.06-.94-2.06-.94-.94-2.06-.94 2.06-2.06.94z\"/><path d=\"M17.41 7.96l-1.37-1.37c-.4-.4-.92-.59-1.43-.59-.52 0-1.04.2-1.43.59L10.3 9.45l-7.72 7.72c-.78.78-.78 2.05 0 2.83L4 21.41c.39.39.9.59 1.41.59.51 0 1.02-.2 1.41-.59l7.78-7.78 2.81-2.81c.8-.78.8-2.07 0-2.86zM5.41 20L4 18.59l7.72-7.72 1.47 1.35L5.41 20z\"/>\n",
              "  </svg>\n",
              "      </button>\n",
              "      \n",
              "  <style>\n",
              "    .colab-df-container {\n",
              "      display:flex;\n",
              "      flex-wrap:wrap;\n",
              "      gap: 12px;\n",
              "    }\n",
              "\n",
              "    .colab-df-convert {\n",
              "      background-color: #E8F0FE;\n",
              "      border: none;\n",
              "      border-radius: 50%;\n",
              "      cursor: pointer;\n",
              "      display: none;\n",
              "      fill: #1967D2;\n",
              "      height: 32px;\n",
              "      padding: 0 0 0 0;\n",
              "      width: 32px;\n",
              "    }\n",
              "\n",
              "    .colab-df-convert:hover {\n",
              "      background-color: #E2EBFA;\n",
              "      box-shadow: 0px 1px 2px rgba(60, 64, 67, 0.3), 0px 1px 3px 1px rgba(60, 64, 67, 0.15);\n",
              "      fill: #174EA6;\n",
              "    }\n",
              "\n",
              "    [theme=dark] .colab-df-convert {\n",
              "      background-color: #3B4455;\n",
              "      fill: #D2E3FC;\n",
              "    }\n",
              "\n",
              "    [theme=dark] .colab-df-convert:hover {\n",
              "      background-color: #434B5C;\n",
              "      box-shadow: 0px 1px 3px 1px rgba(0, 0, 0, 0.15);\n",
              "      filter: drop-shadow(0px 1px 2px rgba(0, 0, 0, 0.3));\n",
              "      fill: #FFFFFF;\n",
              "    }\n",
              "  </style>\n",
              "\n",
              "      <script>\n",
              "        const buttonEl =\n",
              "          document.querySelector('#df-29d7456d-844b-49bc-a016-083638433116 button.colab-df-convert');\n",
              "        buttonEl.style.display =\n",
              "          google.colab.kernel.accessAllowed ? 'block' : 'none';\n",
              "\n",
              "        async function convertToInteractive(key) {\n",
              "          const element = document.querySelector('#df-29d7456d-844b-49bc-a016-083638433116');\n",
              "          const dataTable =\n",
              "            await google.colab.kernel.invokeFunction('convertToInteractive',\n",
              "                                                     [key], {});\n",
              "          if (!dataTable) return;\n",
              "\n",
              "          const docLinkHtml = 'Like what you see? Visit the ' +\n",
              "            '<a target=\"_blank\" href=https://colab.research.google.com/notebooks/data_table.ipynb>data table notebook</a>'\n",
              "            + ' to learn more about interactive tables.';\n",
              "          element.innerHTML = '';\n",
              "          dataTable['output_type'] = 'display_data';\n",
              "          await google.colab.output.renderOutput(dataTable, element);\n",
              "          const docLink = document.createElement('div');\n",
              "          docLink.innerHTML = docLinkHtml;\n",
              "          element.appendChild(docLink);\n",
              "        }\n",
              "      </script>\n",
              "    </div>\n",
              "  </div>\n",
              "  "
            ],
            "text/plain": [
              "    Age  Annual_Income  Monthly_Inhand_Salary  Num_Bank_Accounts  \\\n",
              "0  23.0       19114.12            1824.843333                3.0   \n",
              "1  23.0       19114.12            1824.843333                3.0   \n",
              "2  23.0       19114.12            1824.843333                3.0   \n",
              "3  23.0       19114.12            1824.843333                3.0   \n",
              "4  23.0       19114.12            1824.843333                3.0   \n",
              "\n",
              "   Num_Credit_Card  Num_of_Loan  Delay_from_due_date  Num_of_Delayed_Payment  \\\n",
              "0              4.0          4.0                    3                     4.0   \n",
              "1              4.0          4.0                   -1                     4.0   \n",
              "2              4.0          4.0                    3                     4.0   \n",
              "3              4.0          4.0                    5                     4.0   \n",
              "4              4.0          4.0                    6                     4.0   \n",
              "\n",
              "   Changed_Credit_Limit  Num_Credit_Inquiries  ... Outstanding_Debt  \\\n",
              "0                 11.27                   4.0  ...           809.98   \n",
              "1                 11.27                   4.0  ...           809.98   \n",
              "2                 11.27                   4.0  ...           809.98   \n",
              "3                 11.27                   4.0  ...           809.98   \n",
              "4                 11.27                   4.0  ...           809.98   \n",
              "\n",
              "   Credit_Utilization_Ratio  Credit_History_Age  Payment_of_Min_Amount  \\\n",
              "0                 26.822620               265.0                     No   \n",
              "1                 31.944960               265.0                     No   \n",
              "2                 28.609352               267.0                     No   \n",
              "3                 31.377862               268.0                     No   \n",
              "4                 24.797347               269.0                     No   \n",
              "\n",
              "  Amount_invested_monthly                 Payment_Behaviour Monthly_Balance  \\\n",
              "0                98.35409   High_spent_Small_value_payments      304.555294   \n",
              "1                98.35409    Low_spent_Large_value_payments      304.555294   \n",
              "2                98.35409   Low_spent_Medium_value_payments      304.555294   \n",
              "3                98.35409    Low_spent_Small_value_payments      304.555294   \n",
              "4                98.35409  High_spent_Medium_value_payments      304.555294   \n",
              "\n",
              "   Credit_Score Interest_Rate  Total_EMI_per_month  \n",
              "0          Good           3.0            49.574949  \n",
              "1          Good           3.0            49.574949  \n",
              "2          Good           3.0            49.574949  \n",
              "3          Good           3.0            49.574949  \n",
              "4          Good           3.0            49.574949  \n",
              "\n",
              "[5 rows x 21 columns]"
            ]
          },
          "execution_count": 101,
          "metadata": {},
          "output_type": "execute_result"
        }
      ],
      "source": [
        "df.head()"
      ]
    },
    {
      "cell_type": "markdown",
      "metadata": {
        "id": "n_1AQvXKfUOT"
      },
      "source": [
        "# **Data Preprocessing**"
      ]
    },
    {
      "cell_type": "code",
      "execution_count": 102,
      "metadata": {
        "id": "SL_x1u23chzh"
      },
      "outputs": [],
      "source": [
        "cat_df = df.select_dtypes('category')\n",
        "num_df = df.select_dtypes(exclude='category')"
      ]
    },
    {
      "cell_type": "code",
      "execution_count": 103,
      "metadata": {
        "colab": {
          "base_uri": "https://localhost:8080/"
        },
        "id": "NmbmKLtjfXaA",
        "outputId": "9a35144d-75b1-4c30-c93f-96b7c431e95d"
      },
      "outputs": [
        {
          "name": "stdout",
          "output_type": "stream",
          "text": [
            "Credit_Mix\n",
            "['Good', 'Standard', 'Bad']\n",
            "Categories (3, object): ['Bad', 'Good', 'Standard']\n",
            "\n",
            "Payment_of_Min_Amount\n",
            "['No', 'NM', 'Yes']\n",
            "Categories (3, object): ['NM', 'No', 'Yes']\n",
            "\n",
            "Payment_Behaviour\n",
            "['High_spent_Small_value_payments', 'Low_spent_Large_value_payments', 'Low_spent_Medium_value_payments', 'Low_spent_Small_value_payments', 'High_spent_Medium_value_payments', 'High_spent_Large_value_payments']\n",
            "Categories (6, object): ['High_spent_Large_value_payments', 'High_spent_Medium_value_payments',\n",
            "                         'High_spent_Small_value_payments', 'Low_spent_Large_value_payments',\n",
            "                         'Low_spent_Medium_value_payments', 'Low_spent_Small_value_payments']\n",
            "\n",
            "Credit_Score\n",
            "['Good', 'Standard', 'Poor']\n",
            "Categories (3, object): ['Good', 'Poor', 'Standard']\n",
            "\n"
          ]
        }
      ],
      "source": [
        "for c in cat_df.columns:\n",
        "  print(c)\n",
        "  print(df[c].unique())\n",
        "  print()"
      ]
    },
    {
      "cell_type": "code",
      "execution_count": 104,
      "metadata": {
        "id": "4eZZ3PctfY49"
      },
      "outputs": [],
      "source": [
        "df['Credit_Mix'] = df['Credit_Mix'].map({'Bad': 0, 'Standard': 1, 'Good': 2})\n",
        "df['Credit_Score'] = df['Credit_Score'].map({'Poor': 0, 'Standard': 1, 'Good': 2})"
      ]
    },
    {
      "cell_type": "code",
      "execution_count": 105,
      "metadata": {
        "id": "6iID2uXzfc7T"
      },
      "outputs": [],
      "source": [
        "df['Credit_Mix'] = df['Credit_Mix'].astype('int')\n",
        "df['Credit_Score'] = df['Credit_Score'].astype('int')"
      ]
    },
    {
      "cell_type": "code",
      "execution_count": 106,
      "metadata": {
        "colab": {
          "base_uri": "https://localhost:8080/"
        },
        "id": "0lqOa7yIffZN",
        "outputId": "d7a16a98-4f3c-4a7b-ee8b-571e478908c5"
      },
      "outputs": [
        {
          "data": {
            "text/plain": [
              "Yes    51788\n",
              "No     35153\n",
              "NM     11885\n",
              "Name: Payment_of_Min_Amount, dtype: int64"
            ]
          },
          "execution_count": 106,
          "metadata": {},
          "output_type": "execute_result"
        }
      ],
      "source": [
        "df['Payment_of_Min_Amount'].value_counts()"
      ]
    },
    {
      "cell_type": "code",
      "execution_count": 107,
      "metadata": {
        "colab": {
          "base_uri": "https://localhost:8080/"
        },
        "id": "pRQMBJKefozx",
        "outputId": "92c6a53e-7490-4544-c3b6-1b1df1adcca8"
      },
      "outputs": [
        {
          "data": {
            "text/plain": [
              "Low_spent_Small_value_payments      27482\n",
              "High_spent_Medium_value_payments    19153\n",
              "High_spent_Large_value_payments     15138\n",
              "Low_spent_Medium_value_payments     14426\n",
              "High_spent_Small_value_payments     11847\n",
              "Low_spent_Large_value_payments      10780\n",
              "Name: Payment_Behaviour, dtype: int64"
            ]
          },
          "execution_count": 107,
          "metadata": {},
          "output_type": "execute_result"
        }
      ],
      "source": [
        "df['Payment_Behaviour'].value_counts()"
      ]
    },
    {
      "cell_type": "code",
      "execution_count": 108,
      "metadata": {
        "id": "rjUz5fWziBuS"
      },
      "outputs": [],
      "source": [
        "# pandas.get_dummies -> Convert categorical variable into dummy/indicator variables."
      ]
    },
    {
      "cell_type": "code",
      "execution_count": 109,
      "metadata": {
        "id": "Zv-2f4qJftjd"
      },
      "outputs": [],
      "source": [
        "dummy_df = pd.get_dummies(df[['Payment_Behaviour', 'Payment_of_Min_Amount']], drop_first=True)\n",
        "\n",
        "df = pd.concat([df, dummy_df], axis=1)\n",
        "df = df.drop(['Payment_Behaviour', 'Payment_of_Min_Amount'], axis=1)"
      ]
    },
    {
      "cell_type": "code",
      "execution_count": 110,
      "metadata": {
        "colab": {
          "base_uri": "https://localhost:8080/",
          "height": 270
        },
        "id": "Q7086gfmgIZy",
        "outputId": "4f33d49e-f691-4e08-ee7e-f895f0866910"
      },
      "outputs": [
        {
          "data": {
            "text/html": [
              "\n",
              "  <div id=\"df-98936ddd-1730-43f6-8619-6e5bd3d275f6\">\n",
              "    <div class=\"colab-df-container\">\n",
              "      <div>\n",
              "<style scoped>\n",
              "    .dataframe tbody tr th:only-of-type {\n",
              "        vertical-align: middle;\n",
              "    }\n",
              "\n",
              "    .dataframe tbody tr th {\n",
              "        vertical-align: top;\n",
              "    }\n",
              "\n",
              "    .dataframe thead th {\n",
              "        text-align: right;\n",
              "    }\n",
              "</style>\n",
              "<table border=\"1\" class=\"dataframe\">\n",
              "  <thead>\n",
              "    <tr style=\"text-align: right;\">\n",
              "      <th></th>\n",
              "      <th>Payment_Behaviour_High_spent_Medium_value_payments</th>\n",
              "      <th>Payment_Behaviour_High_spent_Small_value_payments</th>\n",
              "      <th>Payment_Behaviour_Low_spent_Large_value_payments</th>\n",
              "      <th>Payment_Behaviour_Low_spent_Medium_value_payments</th>\n",
              "      <th>Payment_Behaviour_Low_spent_Small_value_payments</th>\n",
              "      <th>Payment_of_Min_Amount_No</th>\n",
              "      <th>Payment_of_Min_Amount_Yes</th>\n",
              "    </tr>\n",
              "  </thead>\n",
              "  <tbody>\n",
              "    <tr>\n",
              "      <th>0</th>\n",
              "      <td>0</td>\n",
              "      <td>1</td>\n",
              "      <td>0</td>\n",
              "      <td>0</td>\n",
              "      <td>0</td>\n",
              "      <td>1</td>\n",
              "      <td>0</td>\n",
              "    </tr>\n",
              "    <tr>\n",
              "      <th>1</th>\n",
              "      <td>0</td>\n",
              "      <td>0</td>\n",
              "      <td>1</td>\n",
              "      <td>0</td>\n",
              "      <td>0</td>\n",
              "      <td>1</td>\n",
              "      <td>0</td>\n",
              "    </tr>\n",
              "    <tr>\n",
              "      <th>2</th>\n",
              "      <td>0</td>\n",
              "      <td>0</td>\n",
              "      <td>0</td>\n",
              "      <td>1</td>\n",
              "      <td>0</td>\n",
              "      <td>1</td>\n",
              "      <td>0</td>\n",
              "    </tr>\n",
              "    <tr>\n",
              "      <th>3</th>\n",
              "      <td>0</td>\n",
              "      <td>0</td>\n",
              "      <td>0</td>\n",
              "      <td>0</td>\n",
              "      <td>1</td>\n",
              "      <td>1</td>\n",
              "      <td>0</td>\n",
              "    </tr>\n",
              "    <tr>\n",
              "      <th>4</th>\n",
              "      <td>1</td>\n",
              "      <td>0</td>\n",
              "      <td>0</td>\n",
              "      <td>0</td>\n",
              "      <td>0</td>\n",
              "      <td>1</td>\n",
              "      <td>0</td>\n",
              "    </tr>\n",
              "  </tbody>\n",
              "</table>\n",
              "</div>\n",
              "      <button class=\"colab-df-convert\" onclick=\"convertToInteractive('df-98936ddd-1730-43f6-8619-6e5bd3d275f6')\"\n",
              "              title=\"Convert this dataframe to an interactive table.\"\n",
              "              style=\"display:none;\">\n",
              "        \n",
              "  <svg xmlns=\"http://www.w3.org/2000/svg\" height=\"24px\"viewBox=\"0 0 24 24\"\n",
              "       width=\"24px\">\n",
              "    <path d=\"M0 0h24v24H0V0z\" fill=\"none\"/>\n",
              "    <path d=\"M18.56 5.44l.94 2.06.94-2.06 2.06-.94-2.06-.94-.94-2.06-.94 2.06-2.06.94zm-11 1L8.5 8.5l.94-2.06 2.06-.94-2.06-.94L8.5 2.5l-.94 2.06-2.06.94zm10 10l.94 2.06.94-2.06 2.06-.94-2.06-.94-.94-2.06-.94 2.06-2.06.94z\"/><path d=\"M17.41 7.96l-1.37-1.37c-.4-.4-.92-.59-1.43-.59-.52 0-1.04.2-1.43.59L10.3 9.45l-7.72 7.72c-.78.78-.78 2.05 0 2.83L4 21.41c.39.39.9.59 1.41.59.51 0 1.02-.2 1.41-.59l7.78-7.78 2.81-2.81c.8-.78.8-2.07 0-2.86zM5.41 20L4 18.59l7.72-7.72 1.47 1.35L5.41 20z\"/>\n",
              "  </svg>\n",
              "      </button>\n",
              "      \n",
              "  <style>\n",
              "    .colab-df-container {\n",
              "      display:flex;\n",
              "      flex-wrap:wrap;\n",
              "      gap: 12px;\n",
              "    }\n",
              "\n",
              "    .colab-df-convert {\n",
              "      background-color: #E8F0FE;\n",
              "      border: none;\n",
              "      border-radius: 50%;\n",
              "      cursor: pointer;\n",
              "      display: none;\n",
              "      fill: #1967D2;\n",
              "      height: 32px;\n",
              "      padding: 0 0 0 0;\n",
              "      width: 32px;\n",
              "    }\n",
              "\n",
              "    .colab-df-convert:hover {\n",
              "      background-color: #E2EBFA;\n",
              "      box-shadow: 0px 1px 2px rgba(60, 64, 67, 0.3), 0px 1px 3px 1px rgba(60, 64, 67, 0.15);\n",
              "      fill: #174EA6;\n",
              "    }\n",
              "\n",
              "    [theme=dark] .colab-df-convert {\n",
              "      background-color: #3B4455;\n",
              "      fill: #D2E3FC;\n",
              "    }\n",
              "\n",
              "    [theme=dark] .colab-df-convert:hover {\n",
              "      background-color: #434B5C;\n",
              "      box-shadow: 0px 1px 3px 1px rgba(0, 0, 0, 0.15);\n",
              "      filter: drop-shadow(0px 1px 2px rgba(0, 0, 0, 0.3));\n",
              "      fill: #FFFFFF;\n",
              "    }\n",
              "  </style>\n",
              "\n",
              "      <script>\n",
              "        const buttonEl =\n",
              "          document.querySelector('#df-98936ddd-1730-43f6-8619-6e5bd3d275f6 button.colab-df-convert');\n",
              "        buttonEl.style.display =\n",
              "          google.colab.kernel.accessAllowed ? 'block' : 'none';\n",
              "\n",
              "        async function convertToInteractive(key) {\n",
              "          const element = document.querySelector('#df-98936ddd-1730-43f6-8619-6e5bd3d275f6');\n",
              "          const dataTable =\n",
              "            await google.colab.kernel.invokeFunction('convertToInteractive',\n",
              "                                                     [key], {});\n",
              "          if (!dataTable) return;\n",
              "\n",
              "          const docLinkHtml = 'Like what you see? Visit the ' +\n",
              "            '<a target=\"_blank\" href=https://colab.research.google.com/notebooks/data_table.ipynb>data table notebook</a>'\n",
              "            + ' to learn more about interactive tables.';\n",
              "          element.innerHTML = '';\n",
              "          dataTable['output_type'] = 'display_data';\n",
              "          await google.colab.output.renderOutput(dataTable, element);\n",
              "          const docLink = document.createElement('div');\n",
              "          docLink.innerHTML = docLinkHtml;\n",
              "          element.appendChild(docLink);\n",
              "        }\n",
              "      </script>\n",
              "    </div>\n",
              "  </div>\n",
              "  "
            ],
            "text/plain": [
              "   Payment_Behaviour_High_spent_Medium_value_payments  \\\n",
              "0                                                  0    \n",
              "1                                                  0    \n",
              "2                                                  0    \n",
              "3                                                  0    \n",
              "4                                                  1    \n",
              "\n",
              "   Payment_Behaviour_High_spent_Small_value_payments  \\\n",
              "0                                                  1   \n",
              "1                                                  0   \n",
              "2                                                  0   \n",
              "3                                                  0   \n",
              "4                                                  0   \n",
              "\n",
              "   Payment_Behaviour_Low_spent_Large_value_payments  \\\n",
              "0                                                 0   \n",
              "1                                                 1   \n",
              "2                                                 0   \n",
              "3                                                 0   \n",
              "4                                                 0   \n",
              "\n",
              "   Payment_Behaviour_Low_spent_Medium_value_payments  \\\n",
              "0                                                  0   \n",
              "1                                                  0   \n",
              "2                                                  1   \n",
              "3                                                  0   \n",
              "4                                                  0   \n",
              "\n",
              "   Payment_Behaviour_Low_spent_Small_value_payments  Payment_of_Min_Amount_No  \\\n",
              "0                                                 0                         1   \n",
              "1                                                 0                         1   \n",
              "2                                                 0                         1   \n",
              "3                                                 1                         1   \n",
              "4                                                 0                         1   \n",
              "\n",
              "   Payment_of_Min_Amount_Yes  \n",
              "0                          0  \n",
              "1                          0  \n",
              "2                          0  \n",
              "3                          0  \n",
              "4                          0  "
            ]
          },
          "execution_count": 110,
          "metadata": {},
          "output_type": "execute_result"
        }
      ],
      "source": [
        "dummy_df.head()"
      ]
    },
    {
      "cell_type": "code",
      "execution_count": 111,
      "metadata": {
        "colab": {
          "base_uri": "https://localhost:8080/",
          "height": 299
        },
        "id": "CYW_M3ItgKKt",
        "outputId": "b942d59f-e7ff-4ecd-c47c-36a09ca1aef6"
      },
      "outputs": [
        {
          "data": {
            "text/html": [
              "\n",
              "  <div id=\"df-26f7e262-672e-4e60-9102-070be44ebfa3\">\n",
              "    <div class=\"colab-df-container\">\n",
              "      <div>\n",
              "<style scoped>\n",
              "    .dataframe tbody tr th:only-of-type {\n",
              "        vertical-align: middle;\n",
              "    }\n",
              "\n",
              "    .dataframe tbody tr th {\n",
              "        vertical-align: top;\n",
              "    }\n",
              "\n",
              "    .dataframe thead th {\n",
              "        text-align: right;\n",
              "    }\n",
              "</style>\n",
              "<table border=\"1\" class=\"dataframe\">\n",
              "  <thead>\n",
              "    <tr style=\"text-align: right;\">\n",
              "      <th></th>\n",
              "      <th>Age</th>\n",
              "      <th>Annual_Income</th>\n",
              "      <th>Monthly_Inhand_Salary</th>\n",
              "      <th>Num_Bank_Accounts</th>\n",
              "      <th>Num_Credit_Card</th>\n",
              "      <th>Num_of_Loan</th>\n",
              "      <th>Delay_from_due_date</th>\n",
              "      <th>Num_of_Delayed_Payment</th>\n",
              "      <th>Changed_Credit_Limit</th>\n",
              "      <th>Num_Credit_Inquiries</th>\n",
              "      <th>...</th>\n",
              "      <th>Credit_Score</th>\n",
              "      <th>Interest_Rate</th>\n",
              "      <th>Total_EMI_per_month</th>\n",
              "      <th>Payment_Behaviour_High_spent_Medium_value_payments</th>\n",
              "      <th>Payment_Behaviour_High_spent_Small_value_payments</th>\n",
              "      <th>Payment_Behaviour_Low_spent_Large_value_payments</th>\n",
              "      <th>Payment_Behaviour_Low_spent_Medium_value_payments</th>\n",
              "      <th>Payment_Behaviour_Low_spent_Small_value_payments</th>\n",
              "      <th>Payment_of_Min_Amount_No</th>\n",
              "      <th>Payment_of_Min_Amount_Yes</th>\n",
              "    </tr>\n",
              "  </thead>\n",
              "  <tbody>\n",
              "    <tr>\n",
              "      <th>0</th>\n",
              "      <td>23.0</td>\n",
              "      <td>19114.12</td>\n",
              "      <td>1824.843333</td>\n",
              "      <td>3.0</td>\n",
              "      <td>4.0</td>\n",
              "      <td>4.0</td>\n",
              "      <td>3</td>\n",
              "      <td>4.0</td>\n",
              "      <td>11.27</td>\n",
              "      <td>4.0</td>\n",
              "      <td>...</td>\n",
              "      <td>2</td>\n",
              "      <td>3.0</td>\n",
              "      <td>49.574949</td>\n",
              "      <td>0</td>\n",
              "      <td>1</td>\n",
              "      <td>0</td>\n",
              "      <td>0</td>\n",
              "      <td>0</td>\n",
              "      <td>1</td>\n",
              "      <td>0</td>\n",
              "    </tr>\n",
              "    <tr>\n",
              "      <th>1</th>\n",
              "      <td>23.0</td>\n",
              "      <td>19114.12</td>\n",
              "      <td>1824.843333</td>\n",
              "      <td>3.0</td>\n",
              "      <td>4.0</td>\n",
              "      <td>4.0</td>\n",
              "      <td>-1</td>\n",
              "      <td>4.0</td>\n",
              "      <td>11.27</td>\n",
              "      <td>4.0</td>\n",
              "      <td>...</td>\n",
              "      <td>2</td>\n",
              "      <td>3.0</td>\n",
              "      <td>49.574949</td>\n",
              "      <td>0</td>\n",
              "      <td>0</td>\n",
              "      <td>1</td>\n",
              "      <td>0</td>\n",
              "      <td>0</td>\n",
              "      <td>1</td>\n",
              "      <td>0</td>\n",
              "    </tr>\n",
              "    <tr>\n",
              "      <th>2</th>\n",
              "      <td>23.0</td>\n",
              "      <td>19114.12</td>\n",
              "      <td>1824.843333</td>\n",
              "      <td>3.0</td>\n",
              "      <td>4.0</td>\n",
              "      <td>4.0</td>\n",
              "      <td>3</td>\n",
              "      <td>4.0</td>\n",
              "      <td>11.27</td>\n",
              "      <td>4.0</td>\n",
              "      <td>...</td>\n",
              "      <td>2</td>\n",
              "      <td>3.0</td>\n",
              "      <td>49.574949</td>\n",
              "      <td>0</td>\n",
              "      <td>0</td>\n",
              "      <td>0</td>\n",
              "      <td>1</td>\n",
              "      <td>0</td>\n",
              "      <td>1</td>\n",
              "      <td>0</td>\n",
              "    </tr>\n",
              "    <tr>\n",
              "      <th>3</th>\n",
              "      <td>23.0</td>\n",
              "      <td>19114.12</td>\n",
              "      <td>1824.843333</td>\n",
              "      <td>3.0</td>\n",
              "      <td>4.0</td>\n",
              "      <td>4.0</td>\n",
              "      <td>5</td>\n",
              "      <td>4.0</td>\n",
              "      <td>11.27</td>\n",
              "      <td>4.0</td>\n",
              "      <td>...</td>\n",
              "      <td>2</td>\n",
              "      <td>3.0</td>\n",
              "      <td>49.574949</td>\n",
              "      <td>0</td>\n",
              "      <td>0</td>\n",
              "      <td>0</td>\n",
              "      <td>0</td>\n",
              "      <td>1</td>\n",
              "      <td>1</td>\n",
              "      <td>0</td>\n",
              "    </tr>\n",
              "    <tr>\n",
              "      <th>4</th>\n",
              "      <td>23.0</td>\n",
              "      <td>19114.12</td>\n",
              "      <td>1824.843333</td>\n",
              "      <td>3.0</td>\n",
              "      <td>4.0</td>\n",
              "      <td>4.0</td>\n",
              "      <td>6</td>\n",
              "      <td>4.0</td>\n",
              "      <td>11.27</td>\n",
              "      <td>4.0</td>\n",
              "      <td>...</td>\n",
              "      <td>2</td>\n",
              "      <td>3.0</td>\n",
              "      <td>49.574949</td>\n",
              "      <td>1</td>\n",
              "      <td>0</td>\n",
              "      <td>0</td>\n",
              "      <td>0</td>\n",
              "      <td>0</td>\n",
              "      <td>1</td>\n",
              "      <td>0</td>\n",
              "    </tr>\n",
              "  </tbody>\n",
              "</table>\n",
              "<p>5 rows × 26 columns</p>\n",
              "</div>\n",
              "      <button class=\"colab-df-convert\" onclick=\"convertToInteractive('df-26f7e262-672e-4e60-9102-070be44ebfa3')\"\n",
              "              title=\"Convert this dataframe to an interactive table.\"\n",
              "              style=\"display:none;\">\n",
              "        \n",
              "  <svg xmlns=\"http://www.w3.org/2000/svg\" height=\"24px\"viewBox=\"0 0 24 24\"\n",
              "       width=\"24px\">\n",
              "    <path d=\"M0 0h24v24H0V0z\" fill=\"none\"/>\n",
              "    <path d=\"M18.56 5.44l.94 2.06.94-2.06 2.06-.94-2.06-.94-.94-2.06-.94 2.06-2.06.94zm-11 1L8.5 8.5l.94-2.06 2.06-.94-2.06-.94L8.5 2.5l-.94 2.06-2.06.94zm10 10l.94 2.06.94-2.06 2.06-.94-2.06-.94-.94-2.06-.94 2.06-2.06.94z\"/><path d=\"M17.41 7.96l-1.37-1.37c-.4-.4-.92-.59-1.43-.59-.52 0-1.04.2-1.43.59L10.3 9.45l-7.72 7.72c-.78.78-.78 2.05 0 2.83L4 21.41c.39.39.9.59 1.41.59.51 0 1.02-.2 1.41-.59l7.78-7.78 2.81-2.81c.8-.78.8-2.07 0-2.86zM5.41 20L4 18.59l7.72-7.72 1.47 1.35L5.41 20z\"/>\n",
              "  </svg>\n",
              "      </button>\n",
              "      \n",
              "  <style>\n",
              "    .colab-df-container {\n",
              "      display:flex;\n",
              "      flex-wrap:wrap;\n",
              "      gap: 12px;\n",
              "    }\n",
              "\n",
              "    .colab-df-convert {\n",
              "      background-color: #E8F0FE;\n",
              "      border: none;\n",
              "      border-radius: 50%;\n",
              "      cursor: pointer;\n",
              "      display: none;\n",
              "      fill: #1967D2;\n",
              "      height: 32px;\n",
              "      padding: 0 0 0 0;\n",
              "      width: 32px;\n",
              "    }\n",
              "\n",
              "    .colab-df-convert:hover {\n",
              "      background-color: #E2EBFA;\n",
              "      box-shadow: 0px 1px 2px rgba(60, 64, 67, 0.3), 0px 1px 3px 1px rgba(60, 64, 67, 0.15);\n",
              "      fill: #174EA6;\n",
              "    }\n",
              "\n",
              "    [theme=dark] .colab-df-convert {\n",
              "      background-color: #3B4455;\n",
              "      fill: #D2E3FC;\n",
              "    }\n",
              "\n",
              "    [theme=dark] .colab-df-convert:hover {\n",
              "      background-color: #434B5C;\n",
              "      box-shadow: 0px 1px 3px 1px rgba(0, 0, 0, 0.15);\n",
              "      filter: drop-shadow(0px 1px 2px rgba(0, 0, 0, 0.3));\n",
              "      fill: #FFFFFF;\n",
              "    }\n",
              "  </style>\n",
              "\n",
              "      <script>\n",
              "        const buttonEl =\n",
              "          document.querySelector('#df-26f7e262-672e-4e60-9102-070be44ebfa3 button.colab-df-convert');\n",
              "        buttonEl.style.display =\n",
              "          google.colab.kernel.accessAllowed ? 'block' : 'none';\n",
              "\n",
              "        async function convertToInteractive(key) {\n",
              "          const element = document.querySelector('#df-26f7e262-672e-4e60-9102-070be44ebfa3');\n",
              "          const dataTable =\n",
              "            await google.colab.kernel.invokeFunction('convertToInteractive',\n",
              "                                                     [key], {});\n",
              "          if (!dataTable) return;\n",
              "\n",
              "          const docLinkHtml = 'Like what you see? Visit the ' +\n",
              "            '<a target=\"_blank\" href=https://colab.research.google.com/notebooks/data_table.ipynb>data table notebook</a>'\n",
              "            + ' to learn more about interactive tables.';\n",
              "          element.innerHTML = '';\n",
              "          dataTable['output_type'] = 'display_data';\n",
              "          await google.colab.output.renderOutput(dataTable, element);\n",
              "          const docLink = document.createElement('div');\n",
              "          docLink.innerHTML = docLinkHtml;\n",
              "          element.appendChild(docLink);\n",
              "        }\n",
              "      </script>\n",
              "    </div>\n",
              "  </div>\n",
              "  "
            ],
            "text/plain": [
              "    Age  Annual_Income  Monthly_Inhand_Salary  Num_Bank_Accounts  \\\n",
              "0  23.0       19114.12            1824.843333                3.0   \n",
              "1  23.0       19114.12            1824.843333                3.0   \n",
              "2  23.0       19114.12            1824.843333                3.0   \n",
              "3  23.0       19114.12            1824.843333                3.0   \n",
              "4  23.0       19114.12            1824.843333                3.0   \n",
              "\n",
              "   Num_Credit_Card  Num_of_Loan  Delay_from_due_date  Num_of_Delayed_Payment  \\\n",
              "0              4.0          4.0                    3                     4.0   \n",
              "1              4.0          4.0                   -1                     4.0   \n",
              "2              4.0          4.0                    3                     4.0   \n",
              "3              4.0          4.0                    5                     4.0   \n",
              "4              4.0          4.0                    6                     4.0   \n",
              "\n",
              "   Changed_Credit_Limit  Num_Credit_Inquiries  ...  Credit_Score  \\\n",
              "0                 11.27                   4.0  ...             2   \n",
              "1                 11.27                   4.0  ...             2   \n",
              "2                 11.27                   4.0  ...             2   \n",
              "3                 11.27                   4.0  ...             2   \n",
              "4                 11.27                   4.0  ...             2   \n",
              "\n",
              "   Interest_Rate  Total_EMI_per_month  \\\n",
              "0            3.0            49.574949   \n",
              "1            3.0            49.574949   \n",
              "2            3.0            49.574949   \n",
              "3            3.0            49.574949   \n",
              "4            3.0            49.574949   \n",
              "\n",
              "   Payment_Behaviour_High_spent_Medium_value_payments  \\\n",
              "0                                                  0    \n",
              "1                                                  0    \n",
              "2                                                  0    \n",
              "3                                                  0    \n",
              "4                                                  1    \n",
              "\n",
              "   Payment_Behaviour_High_spent_Small_value_payments  \\\n",
              "0                                                  1   \n",
              "1                                                  0   \n",
              "2                                                  0   \n",
              "3                                                  0   \n",
              "4                                                  0   \n",
              "\n",
              "   Payment_Behaviour_Low_spent_Large_value_payments  \\\n",
              "0                                                 0   \n",
              "1                                                 1   \n",
              "2                                                 0   \n",
              "3                                                 0   \n",
              "4                                                 0   \n",
              "\n",
              "   Payment_Behaviour_Low_spent_Medium_value_payments  \\\n",
              "0                                                  0   \n",
              "1                                                  0   \n",
              "2                                                  1   \n",
              "3                                                  0   \n",
              "4                                                  0   \n",
              "\n",
              "   Payment_Behaviour_Low_spent_Small_value_payments  Payment_of_Min_Amount_No  \\\n",
              "0                                                 0                         1   \n",
              "1                                                 0                         1   \n",
              "2                                                 0                         1   \n",
              "3                                                 1                         1   \n",
              "4                                                 0                         1   \n",
              "\n",
              "   Payment_of_Min_Amount_Yes  \n",
              "0                          0  \n",
              "1                          0  \n",
              "2                          0  \n",
              "3                          0  \n",
              "4                          0  \n",
              "\n",
              "[5 rows x 26 columns]"
            ]
          },
          "execution_count": 111,
          "metadata": {},
          "output_type": "execute_result"
        }
      ],
      "source": [
        "df.head(5)"
      ]
    },
    {
      "cell_type": "code",
      "execution_count": 112,
      "metadata": {
        "colab": {
          "base_uri": "https://localhost:8080/"
        },
        "id": "H2-IRmObi4K1",
        "outputId": "de14aaab-37c4-46c3-8016-5f13929b4516"
      },
      "outputs": [
        {
          "name": "stdout",
          "output_type": "stream",
          "text": [
            "<class 'pandas.core.frame.DataFrame'>\n",
            "Int64Index: 98826 entries, 0 to 99999\n",
            "Data columns (total 26 columns):\n",
            " #   Column                                              Non-Null Count  Dtype  \n",
            "---  ------                                              --------------  -----  \n",
            " 0   Age                                                 98826 non-null  float64\n",
            " 1   Annual_Income                                       98826 non-null  float64\n",
            " 2   Monthly_Inhand_Salary                               98826 non-null  float64\n",
            " 3   Num_Bank_Accounts                                   98826 non-null  float64\n",
            " 4   Num_Credit_Card                                     98826 non-null  float64\n",
            " 5   Num_of_Loan                                         98826 non-null  float64\n",
            " 6   Delay_from_due_date                                 98826 non-null  int64  \n",
            " 7   Num_of_Delayed_Payment                              98826 non-null  float64\n",
            " 8   Changed_Credit_Limit                                98826 non-null  float64\n",
            " 9   Num_Credit_Inquiries                                98826 non-null  float64\n",
            " 10  Credit_Mix                                          98826 non-null  int64  \n",
            " 11  Outstanding_Debt                                    98826 non-null  float64\n",
            " 12  Credit_Utilization_Ratio                            98826 non-null  float64\n",
            " 13  Credit_History_Age                                  98826 non-null  float64\n",
            " 14  Amount_invested_monthly                             98826 non-null  float64\n",
            " 15  Monthly_Balance                                     98826 non-null  float64\n",
            " 16  Credit_Score                                        98826 non-null  int64  \n",
            " 17  Interest_Rate                                       98826 non-null  float64\n",
            " 18  Total_EMI_per_month                                 98826 non-null  float64\n",
            " 19  Payment_Behaviour_High_spent_Medium_value_payments  98826 non-null  uint8  \n",
            " 20  Payment_Behaviour_High_spent_Small_value_payments   98826 non-null  uint8  \n",
            " 21  Payment_Behaviour_Low_spent_Large_value_payments    98826 non-null  uint8  \n",
            " 22  Payment_Behaviour_Low_spent_Medium_value_payments   98826 non-null  uint8  \n",
            " 23  Payment_Behaviour_Low_spent_Small_value_payments    98826 non-null  uint8  \n",
            " 24  Payment_of_Min_Amount_No                            98826 non-null  uint8  \n",
            " 25  Payment_of_Min_Amount_Yes                           98826 non-null  uint8  \n",
            "dtypes: float64(16), int64(3), uint8(7)\n",
            "memory usage: 15.7 MB\n"
          ]
        }
      ],
      "source": [
        "df.info()"
      ]
    },
    {
      "cell_type": "markdown",
      "metadata": {
        "id": "J19bkFXljQA8"
      },
      "source": [
        "**Data Spliting**"
      ]
    },
    {
      "cell_type": "code",
      "execution_count": 113,
      "metadata": {
        "id": "623gNigVjCR7"
      },
      "outputs": [],
      "source": [
        "XX = df.drop(\"Credit_Score\", axis=1)\n",
        "yy = df[\"Credit_Score\"]"
      ]
    },
    {
      "cell_type": "code",
      "execution_count": 114,
      "metadata": {
        "id": "2bdmGo4RjYrB"
      },
      "outputs": [],
      "source": [
        "# In simple terms, code the `sm = SMOTE()` is creating an object called `sm` that represents a technique called SMOTE (Synthetic Minority Over-sampling Technique).\n",
        "\n",
        "# SMOTE is used when we have imbalanced data, meaning that one class has significantly fewer samples than the other class.\n",
        "# It helps to balance the classes by creating synthetic (artificial) samples for the minority class.\n",
        "\n",
        "# For example, let's say have we a dataset with 100 samples, where 90 samples belong to Class A and only 10 samples belong to Class B.\n",
        "#  This is an imbalanced dataset. SMOTE will create new samples for Class B by combining existing samples in a way that maintains the characteristics of the minority class.\n",
        "#   This way we, end up with a balanced dataset where both classes number equal an have of samples.\n",
        "\n",
        "# The `sm` object created using `SMOTE()` can be used to apply this technique to our dataset and generate the synthetic samples."
      ]
    },
    {
      "cell_type": "code",
      "execution_count": 115,
      "metadata": {
        "id": "mtRXgDokkJCu"
      },
      "outputs": [],
      "source": [
        "sm = SMOTE()\n",
        "X, y = sm.fit_resample(XX, yy)"
      ]
    },
    {
      "cell_type": "code",
      "execution_count": 116,
      "metadata": {
        "colab": {
          "base_uri": "https://localhost:8080/"
        },
        "id": "O1m9zDJkkt_1",
        "outputId": "d5b748fd-a904-4f13-8c65-e62122c872b6"
      },
      "outputs": [
        {
          "data": {
            "text/plain": [
              "(157587, 25)"
            ]
          },
          "execution_count": 116,
          "metadata": {},
          "output_type": "execute_result"
        }
      ],
      "source": [
        "X.shape"
      ]
    },
    {
      "cell_type": "code",
      "execution_count": 117,
      "metadata": {
        "colab": {
          "base_uri": "https://localhost:8080/"
        },
        "id": "oQjLgQZflVdz",
        "outputId": "9dcb44fb-2408-4837-a648-d7cf93a4365c"
      },
      "outputs": [
        {
          "data": {
            "text/plain": [
              "(157587,)"
            ]
          },
          "execution_count": 117,
          "metadata": {},
          "output_type": "execute_result"
        }
      ],
      "source": [
        "y.shape"
      ]
    },
    {
      "cell_type": "code",
      "execution_count": 118,
      "metadata": {
        "colab": {
          "base_uri": "https://localhost:8080/"
        },
        "id": "Dj7eormslXNo",
        "outputId": "773b075f-38e1-4551-98a0-c7116a00525a"
      },
      "outputs": [
        {
          "data": {
            "text/plain": [
              "2    52529\n",
              "1    52529\n",
              "0    52529\n",
              "Name: Credit_Score, dtype: int64"
            ]
          },
          "execution_count": 118,
          "metadata": {},
          "output_type": "execute_result"
        }
      ],
      "source": [
        "y.value_counts()"
      ]
    },
    {
      "cell_type": "code",
      "execution_count": 119,
      "metadata": {
        "id": "lRbCsHFSlabk"
      },
      "outputs": [],
      "source": [
        "X_train, X_test, y_train, y_test = train_test_split(\n",
        "    X, y, stratify=y, train_size=0.8, random_state=123\n",
        ")"
      ]
    },
    {
      "cell_type": "markdown",
      "metadata": {
        "id": "-N-nt4RQl-KI"
      },
      "source": [
        "**Scaling**"
      ]
    },
    {
      "cell_type": "code",
      "execution_count": 120,
      "metadata": {
        "id": "cAep_ijZlhVC"
      },
      "outputs": [],
      "source": [
        "num_columns = list(num_df.columns)"
      ]
    },
    {
      "cell_type": "code",
      "execution_count": 121,
      "metadata": {
        "id": "rM7fEq4fmA2j"
      },
      "outputs": [],
      "source": [
        "scalar = PowerTransformer(method='yeo-johnson', standardize=True)\n",
        "# A PowerTransformer is a technique used to transform data to follow a more Gaussian (normal) distribution.\n",
        "# It is commonly used when the data is skewed or does not have a symmetric distribution."
      ]
    },
    {
      "cell_type": "code",
      "execution_count": 122,
      "metadata": {
        "id": "TEZOw7PSmCOd"
      },
      "outputs": [],
      "source": [
        "X_train[num_columns] = scalar.fit_transform(X_train[num_columns])\n",
        "X_test[num_columns] = scalar.transform(X_test[num_columns])"
      ]
    },
    {
      "cell_type": "markdown",
      "metadata": {
        "id": "mswGn6Vtml9x"
      },
      "source": [
        "# **Model Building**"
      ]
    },
    {
      "cell_type": "code",
      "execution_count": 123,
      "metadata": {
        "id": "N1LyCBHjmDo5"
      },
      "outputs": [],
      "source": [
        "xgb_cl = XGBClassifier(\n",
        " learning_rate=0.1,\n",
        " n_estimators=250,\n",
        " max_depth=8,\n",
        " min_child_weight=1,\n",
        " gamma=0,\n",
        " subsample=0.9,\n",
        " n_jobs=-1,\n",
        " tree_method='gpu_hist'\n",
        ")"
      ]
    },
    {
      "cell_type": "markdown",
      "metadata": {
        "id": "zvZBvegcx-hF"
      },
      "source": [
        "\n",
        "\n",
        "- `learning_rate`: Learning rate shrinks the contribution of each tree by learning_rate. There is a trade-off between learning_rate and n_estimators. Values must be in the range [0.0, inf).\n",
        "- `n_estimators`: determines It the number of boosting iterations (trees) to be built. More trees can improve the model's performance, but it also increases the training time.\n",
        "- `max_depth`: It sets the maximum depth of each tree in the ensemble. A higher value can make the model more complex and prone to overfitting, a while lower value can make it simpler and more biased.\n",
        "- `min_child_weight`: It sets the minimum sum of instance weight (hessian) needed in a child node. It helps control overfitting by adding regularization and preventing the creation of child nodes with very few instances.\n",
        " `-gamma It`: sets the minimum loss reduction required to make a further partition on a leaf node. It helps control overfitting by adding regularization preventing and unnecessary splits.\n",
        "- `subsample`: It sets the fraction of samples used for training each tree. A value less than 1.0 introduces randomness and reduces overfitting by training on a subset of the data.\n",
        "- `n_jobs`: It sets the number of parallel threads to use for training. A value of -1 means to use all available threads, which can speed up the training process.\n",
        "- `tree_method`: It specifies the method to use for building trees. 'gpu_hist' indicates that the GPU will be used for computation, which can significantly speed up training compared to the CPU.\n",
        "\n"
      ]
    },
    {
      "cell_type": "markdown",
      "metadata": {
        "id": "IwXfZBL_wgHy"
      },
      "source": [
        "https://scikit-learn.org/stable/modules/generated/sklearn.ensemble.GradientBoostingClassifier.html#sklearn.ensemble.GradientBoostingClassifier"
      ]
    },
    {
      "cell_type": "code",
      "execution_count": 124,
      "metadata": {
        "colab": {
          "base_uri": "https://localhost:8080/",
          "height": 283
        },
        "id": "3oQOt4dlmtCi",
        "outputId": "195fa113-a71f-4263-aa75-c5ffb4212959"
      },
      "outputs": [
        {
          "name": "stdout",
          "output_type": "stream",
          "text": [
            "CPU times: user 5.22 s, sys: 351 ms, total: 5.57 s\n",
            "Wall time: 6.52 s\n"
          ]
        },
        {
          "data": {
            "text/html": [
              "<style>#sk-container-id-1 {color: black;background-color: white;}#sk-container-id-1 pre{padding: 0;}#sk-container-id-1 div.sk-toggleable {background-color: white;}#sk-container-id-1 label.sk-toggleable__label {cursor: pointer;display: block;width: 100%;margin-bottom: 0;padding: 0.3em;box-sizing: border-box;text-align: center;}#sk-container-id-1 label.sk-toggleable__label-arrow:before {content: \"▸\";float: left;margin-right: 0.25em;color: #696969;}#sk-container-id-1 label.sk-toggleable__label-arrow:hover:before {color: black;}#sk-container-id-1 div.sk-estimator:hover label.sk-toggleable__label-arrow:before {color: black;}#sk-container-id-1 div.sk-toggleable__content {max-height: 0;max-width: 0;overflow: hidden;text-align: left;background-color: #f0f8ff;}#sk-container-id-1 div.sk-toggleable__content pre {margin: 0.2em;color: black;border-radius: 0.25em;background-color: #f0f8ff;}#sk-container-id-1 input.sk-toggleable__control:checked~div.sk-toggleable__content {max-height: 200px;max-width: 100%;overflow: auto;}#sk-container-id-1 input.sk-toggleable__control:checked~label.sk-toggleable__label-arrow:before {content: \"▾\";}#sk-container-id-1 div.sk-estimator input.sk-toggleable__control:checked~label.sk-toggleable__label {background-color: #d4ebff;}#sk-container-id-1 div.sk-label input.sk-toggleable__control:checked~label.sk-toggleable__label {background-color: #d4ebff;}#sk-container-id-1 input.sk-hidden--visually {border: 0;clip: rect(1px 1px 1px 1px);clip: rect(1px, 1px, 1px, 1px);height: 1px;margin: -1px;overflow: hidden;padding: 0;position: absolute;width: 1px;}#sk-container-id-1 div.sk-estimator {font-family: monospace;background-color: #f0f8ff;border: 1px dotted black;border-radius: 0.25em;box-sizing: border-box;margin-bottom: 0.5em;}#sk-container-id-1 div.sk-estimator:hover {background-color: #d4ebff;}#sk-container-id-1 div.sk-parallel-item::after {content: \"\";width: 100%;border-bottom: 1px solid gray;flex-grow: 1;}#sk-container-id-1 div.sk-label:hover label.sk-toggleable__label {background-color: #d4ebff;}#sk-container-id-1 div.sk-serial::before {content: \"\";position: absolute;border-left: 1px solid gray;box-sizing: border-box;top: 0;bottom: 0;left: 50%;z-index: 0;}#sk-container-id-1 div.sk-serial {display: flex;flex-direction: column;align-items: center;background-color: white;padding-right: 0.2em;padding-left: 0.2em;position: relative;}#sk-container-id-1 div.sk-item {position: relative;z-index: 1;}#sk-container-id-1 div.sk-parallel {display: flex;align-items: stretch;justify-content: center;background-color: white;position: relative;}#sk-container-id-1 div.sk-item::before, #sk-container-id-1 div.sk-parallel-item::before {content: \"\";position: absolute;border-left: 1px solid gray;box-sizing: border-box;top: 0;bottom: 0;left: 50%;z-index: -1;}#sk-container-id-1 div.sk-parallel-item {display: flex;flex-direction: column;z-index: 1;position: relative;background-color: white;}#sk-container-id-1 div.sk-parallel-item:first-child::after {align-self: flex-end;width: 50%;}#sk-container-id-1 div.sk-parallel-item:last-child::after {align-self: flex-start;width: 50%;}#sk-container-id-1 div.sk-parallel-item:only-child::after {width: 0;}#sk-container-id-1 div.sk-dashed-wrapped {border: 1px dashed gray;margin: 0 0.4em 0.5em 0.4em;box-sizing: border-box;padding-bottom: 0.4em;background-color: white;}#sk-container-id-1 div.sk-label label {font-family: monospace;font-weight: bold;display: inline-block;line-height: 1.2em;}#sk-container-id-1 div.sk-label-container {text-align: center;}#sk-container-id-1 div.sk-container {/* jupyter's `normalize.less` sets `[hidden] { display: none; }` but bootstrap.min.css set `[hidden] { display: none !important; }` so we also need the `!important` here to be able to override the default hidden behavior on the sphinx rendered scikit-learn.org. See: https://github.com/scikit-learn/scikit-learn/issues/21755 */display: inline-block !important;position: relative;}#sk-container-id-1 div.sk-text-repr-fallback {display: none;}</style><div id=\"sk-container-id-1\" class=\"sk-top-container\"><div class=\"sk-text-repr-fallback\"><pre>XGBClassifier(base_score=None, booster=None, callbacks=None,\n",
              "              colsample_bylevel=None, colsample_bynode=None,\n",
              "              colsample_bytree=None, early_stopping_rounds=None,\n",
              "              enable_categorical=False, eval_metric=None, feature_types=None,\n",
              "              gamma=0, gpu_id=None, grow_policy=None, importance_type=None,\n",
              "              interaction_constraints=None, learning_rate=0.1, max_bin=None,\n",
              "              max_cat_threshold=None, max_cat_to_onehot=None,\n",
              "              max_delta_step=None, max_depth=8, max_leaves=None,\n",
              "              min_child_weight=1, missing=nan, monotone_constraints=None,\n",
              "              n_estimators=250, n_jobs=-1, num_parallel_tree=None,\n",
              "              objective=&#x27;multi:softprob&#x27;, predictor=None, ...)</pre><b>In a Jupyter environment, please rerun this cell to show the HTML representation or trust the notebook. <br />On GitHub, the HTML representation is unable to render, please try loading this page with nbviewer.org.</b></div><div class=\"sk-container\" hidden><div class=\"sk-item\"><div class=\"sk-estimator sk-toggleable\"><input class=\"sk-toggleable__control sk-hidden--visually\" id=\"sk-estimator-id-1\" type=\"checkbox\" checked><label for=\"sk-estimator-id-1\" class=\"sk-toggleable__label sk-toggleable__label-arrow\">XGBClassifier</label><div class=\"sk-toggleable__content\"><pre>XGBClassifier(base_score=None, booster=None, callbacks=None,\n",
              "              colsample_bylevel=None, colsample_bynode=None,\n",
              "              colsample_bytree=None, early_stopping_rounds=None,\n",
              "              enable_categorical=False, eval_metric=None, feature_types=None,\n",
              "              gamma=0, gpu_id=None, grow_policy=None, importance_type=None,\n",
              "              interaction_constraints=None, learning_rate=0.1, max_bin=None,\n",
              "              max_cat_threshold=None, max_cat_to_onehot=None,\n",
              "              max_delta_step=None, max_depth=8, max_leaves=None,\n",
              "              min_child_weight=1, missing=nan, monotone_constraints=None,\n",
              "              n_estimators=250, n_jobs=-1, num_parallel_tree=None,\n",
              "              objective=&#x27;multi:softprob&#x27;, predictor=None, ...)</pre></div></div></div></div></div>"
            ],
            "text/plain": [
              "XGBClassifier(base_score=None, booster=None, callbacks=None,\n",
              "              colsample_bylevel=None, colsample_bynode=None,\n",
              "              colsample_bytree=None, early_stopping_rounds=None,\n",
              "              enable_categorical=False, eval_metric=None, feature_types=None,\n",
              "              gamma=0, gpu_id=None, grow_policy=None, importance_type=None,\n",
              "              interaction_constraints=None, learning_rate=0.1, max_bin=None,\n",
              "              max_cat_threshold=None, max_cat_to_onehot=None,\n",
              "              max_delta_step=None, max_depth=8, max_leaves=None,\n",
              "              min_child_weight=1, missing=nan, monotone_constraints=None,\n",
              "              n_estimators=250, n_jobs=-1, num_parallel_tree=None,\n",
              "              objective='multi:softprob', predictor=None, ...)"
            ]
          },
          "execution_count": 124,
          "metadata": {},
          "output_type": "execute_result"
        }
      ],
      "source": [
        "%%time\n",
        "xgb_cl.fit(X_train,y_train)"
      ]
    },
    {
      "cell_type": "code",
      "execution_count": 125,
      "metadata": {
        "colab": {
          "base_uri": "https://localhost:8080/"
        },
        "id": "d7EgRzTGmt4W",
        "outputId": "8aa73550-ff13-4271-ea2a-68d5a48589b2"
      },
      "outputs": [
        {
          "data": {
            "text/plain": [
              "0.8645535884256615"
            ]
          },
          "execution_count": 125,
          "metadata": {},
          "output_type": "execute_result"
        }
      ],
      "source": [
        "y_pred_test = xgb_cl.predict(X_test)\n",
        "\n",
        "accuracy_score(y_test, y_pred_test)"
      ]
    },
    {
      "cell_type": "code",
      "execution_count": 126,
      "metadata": {
        "colab": {
          "base_uri": "https://localhost:8080/"
        },
        "id": "XsDK1ioAm0DO",
        "outputId": "a67ba4e2-643e-430b-8170-4e2bdfc710b2"
      },
      "outputs": [
        {
          "name": "stdout",
          "output_type": "stream",
          "text": [
            "              precision    recall  f1-score   support\n",
            "\n",
            "           0       0.86      0.90      0.88     10506\n",
            "           1       0.85      0.76      0.80     10506\n",
            "           2       0.88      0.93      0.91     10506\n",
            "\n",
            "    accuracy                           0.86     31518\n",
            "   macro avg       0.86      0.86      0.86     31518\n",
            "weighted avg       0.86      0.86      0.86     31518\n",
            "\n"
          ]
        }
      ],
      "source": [
        "print(classification_report(y_test, y_pred_test))"
      ]
    },
    {
      "cell_type": "code",
      "execution_count": 127,
      "metadata": {
        "colab": {
          "base_uri": "https://localhost:8080/"
        },
        "id": "_FVyG2Lbm4g4",
        "outputId": "65806ed6-cd47-48c6-fcc5-12f091415744"
      },
      "outputs": [
        {
          "data": {
            "text/plain": [
              "['Poor', 'Standard', 'Good']"
            ]
          },
          "execution_count": 127,
          "metadata": {},
          "output_type": "execute_result"
        }
      ],
      "source": [
        "a = {'Poor': 0, 'Standard': 1, 'Good': 2}\n",
        "list(a.keys())"
      ]
    },
    {
      "cell_type": "code",
      "execution_count": 128,
      "metadata": {
        "colab": {
          "base_uri": "https://localhost:8080/",
          "height": 466
        },
        "id": "aUYpMKkWm5Py",
        "outputId": "38a3bee0-0378-4601-b51c-1ef6d68f7371"
      },
      "outputs": [
        {
          "data": {
            "text/plain": [
              "<sklearn.metrics._plot.confusion_matrix.ConfusionMatrixDisplay at 0x7ff00291e230>"
            ]
          },
          "execution_count": 128,
          "metadata": {},
          "output_type": "execute_result"
        },
        {
          "data": {
            "image/png": "[encoded data removed]",
            "text/plain": [
              "<Figure size 640x480 with 2 Axes>"
            ]
          },
          "metadata": {},
          "output_type": "display_data"
        }
      ],
      "source": [
        "cm = confusion_matrix(y_test, y_pred_test)\n",
        "disp = ConfusionMatrixDisplay(confusion_matrix=cm, display_labels=list(a.keys()))\n",
        "disp.plot()"
      ]
    },
    {
      "cell_type": "code",
      "execution_count": 128,
      "metadata": {
        "id": "gqVwruDynOEK"
      },
      "outputs": [],
      "source": []
    }
  ],
  "metadata": {
    "accelerator": "GPU",
    "colab": {
      "gpuType": "T4",
      "provenance": []
    },
    "kernelspec": {
      "display_name": "Python 3",
      "name": "python3"
    },
    "language_info": {
      "name": "python"
    }
  },
  "nbformat": 4,
  "nbformat_minor": 0
}
